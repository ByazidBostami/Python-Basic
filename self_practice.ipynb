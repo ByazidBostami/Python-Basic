{
  "nbformat": 4,
  "nbformat_minor": 0,
  "metadata": {
    "colab": {
      "provenance": []
    },
    "kernelspec": {
      "name": "python3",
      "display_name": "Python 3"
    },
    "language_info": {
      "name": "python"
    }
  },
  "cells": [
    {
      "cell_type": "markdown",
      "source": [
        "Lab 1"
      ],
      "metadata": {
        "id": "EVTbZjVpQRSn"
      }
    },
    {
      "cell_type": "code",
      "source": [
        "#Task-1\n",
        "print(\"hello world\")"
      ],
      "metadata": {
        "colab": {
          "base_uri": "https://localhost:8080/"
        },
        "id": "oeSdMua4QZqx",
        "outputId": "a17c07ef-4ed1-469b-e8eb-bd00cadb7641"
      },
      "execution_count": null,
      "outputs": [
        {
          "output_type": "stream",
          "name": "stdout",
          "text": [
            "hello world\n"
          ]
        }
      ]
    },
    {
      "cell_type": "code",
      "source": [
        "#Task-2\n",
        "print(54+56)"
      ],
      "metadata": {
        "colab": {
          "base_uri": "https://localhost:8080/"
        },
        "id": "DoX_cT47Q7Dg",
        "outputId": "3cac9ad9-e189-44fd-e497-d5457a181e48"
      },
      "execution_count": null,
      "outputs": [
        {
          "output_type": "stream",
          "name": "stdout",
          "text": [
            "110\n"
          ]
        }
      ]
    },
    {
      "cell_type": "code",
      "source": [
        "#Task-3\n",
        "season='Fall'\n",
        "year='2022'\n",
        "print(season)\n",
        "print(year)"
      ],
      "metadata": {
        "colab": {
          "base_uri": "https://localhost:8080/"
        },
        "id": "Oi26HLNlRFF9",
        "outputId": "62b1491a-fb55-4d3c-f9e9-29f378bfe9cf"
      },
      "execution_count": null,
      "outputs": [
        {
          "output_type": "stream",
          "name": "stdout",
          "text": [
            "Fall\n",
            "2022\n"
          ]
        }
      ]
    },
    {
      "cell_type": "code",
      "source": [
        "#Task4\n",
        "name=input(\"Sir,Please enter your name :\")\n",
        "print(\"Your name is \",name)"
      ],
      "metadata": {
        "colab": {
          "base_uri": "https://localhost:8080/"
        },
        "id": "1BC8d4P7S8Q1",
        "outputId": "8b0e617d-ff3f-49e1-83c6-cf2b46178633"
      },
      "execution_count": null,
      "outputs": [
        {
          "output_type": "stream",
          "name": "stdout",
          "text": [
            "Sir,Please enter your name :Byazid\n",
            "Your name is  Byazid\n"
          ]
        }
      ]
    },
    {
      "cell_type": "code",
      "source": [
        "m=int(input(\"M :\"))\n",
        "n=int(input(\"N :\"))\n",
        "sum=m**n\n",
        "print(str(m)+\"^\"+str(n)+\":\",sum)"
      ],
      "metadata": {
        "colab": {
          "base_uri": "https://localhost:8080/"
        },
        "id": "_-klxSONTiqE",
        "outputId": "681abbcb-158c-41e1-efa6-3212336f1420"
      },
      "execution_count": null,
      "outputs": [
        {
          "output_type": "stream",
          "name": "stdout",
          "text": [
            "M :10\n",
            "N :3\n",
            "10^3: 1000\n"
          ]
        }
      ]
    },
    {
      "cell_type": "code",
      "source": [
        "var=int(input(\"Sir,Please input your desire number :\"))\n",
        "x=var%4\n",
        "sum=var-x\n",
        "print(\"The maximum ammount of each corner :\",sum)"
      ],
      "metadata": {
        "colab": {
          "base_uri": "https://localhost:8080/"
        },
        "id": "vVRG-g7wUCf4",
        "outputId": "42ffdb30-529c-4c6c-c775-e2127439937b"
      },
      "execution_count": null,
      "outputs": [
        {
          "output_type": "stream",
          "name": "stdout",
          "text": [
            "Sir,Please input your desire number :23\n",
            "The maximum ammount of each corner : 20\n"
          ]
        }
      ]
    },
    {
      "cell_type": "code",
      "source": [
        "a=int(input(\"Sir,Please input your desire number :\"))\n",
        "b=int(input(\"Sir,Please input your desire number :\"))\n",
        "c=int(input(\"Sir,Please input your desire number :\"))\n",
        "d=float(input(\"Sir,Please input your desire number :\"))\n",
        "sum=a**c+b*a-d/3\n",
        "print(sum)"
      ],
      "metadata": {
        "colab": {
          "base_uri": "https://localhost:8080/"
        },
        "id": "2OAgJK8mVOJ0",
        "outputId": "1bf91854-1a52-4252-9c1a-e8b575e61761"
      },
      "execution_count": null,
      "outputs": [
        {
          "output_type": "stream",
          "name": "stdout",
          "text": [
            "Sir,Please input your desire number :9\n",
            "Sir,Please input your desire number :100\n",
            "Sir,Please input your desire number :1\n",
            "Sir,Please input your desire number :3.7\n",
            "907.7666666666667\n"
          ]
        }
      ]
    },
    {
      "cell_type": "code",
      "source": [
        "cho=int(input(\"Sir,Please input your desire chocolate number :\"))\n",
        "sum_1=cho//3\n",
        "sum_2=cho%3\n",
        "print(\"Each friend will receive \",sum_1,\"chocolates\"\"\\nThe number of remaining chocolates is\",sum_2)"
      ],
      "metadata": {
        "colab": {
          "base_uri": "https://localhost:8080/"
        },
        "id": "uzer_cQLXSjg",
        "outputId": "caa6095f-dd45-4212-cc8c-8ca537db964f"
      },
      "execution_count": null,
      "outputs": [
        {
          "output_type": "stream",
          "name": "stdout",
          "text": [
            "Sir,Please input your desire chocolate number :90\n",
            "Each friend will receive  30 chocolates\n",
            "The number of remaining chocolates is 0\n"
          ]
        }
      ]
    },
    {
      "cell_type": "code",
      "source": [
        "m=input(\"Sir ,Please input something :\")\n",
        "n=input(\"Sir ,Please input something :\")\n",
        "print(n+m)"
      ],
      "metadata": {
        "colab": {
          "base_uri": "https://localhost:8080/"
        },
        "id": "_j6O2NkaYaWV",
        "outputId": "ffb57d88-7d23-486e-cc9c-6e16dbefe018"
      },
      "execution_count": null,
      "outputs": [
        {
          "output_type": "stream",
          "name": "stdout",
          "text": [
            "Sir ,Please input something :Python\n",
            "Sir ,Please input something :3\n",
            "3Python\n"
          ]
        }
      ]
    },
    {
      "cell_type": "code",
      "source": [
        "var=input(\"Sir,Please input something :\")\n",
        "print(var[0])"
      ],
      "metadata": {
        "colab": {
          "base_uri": "https://localhost:8080/"
        },
        "id": "I67F9P3pZTDA",
        "outputId": "510af206-23bd-4c37-9189-dcd6f3efddf7"
      },
      "execution_count": null,
      "outputs": [
        {
          "output_type": "stream",
          "name": "stdout",
          "text": [
            "Sir,Please input something :The quic brown fox jumps over the lazy dog\n",
            "T\n"
          ]
        }
      ]
    },
    {
      "cell_type": "code",
      "source": [
        "number=int(input(\"Sir,Please input your desire number :\"))\n",
        "if number%2==0:\n",
        "  print(True)\n",
        "else:\n",
        "  print(False)"
      ],
      "metadata": {
        "colab": {
          "base_uri": "https://localhost:8080/"
        },
        "id": "cDkAWDsfZuA0",
        "outputId": "399d38b2-bdfc-42e4-abbb-98088d28618c"
      },
      "execution_count": null,
      "outputs": [
        {
          "output_type": "stream",
          "name": "stdout",
          "text": [
            "Sir,Please input your desire number :0\n",
            "True\n"
          ]
        }
      ]
    },
    {
      "cell_type": "markdown",
      "source": [
        "LAB-2"
      ],
      "metadata": {
        "id": "vIJkPUX8bZ8J"
      }
    },
    {
      "cell_type": "code",
      "source": [
        "#Task-1\n",
        "number_1=int(input(\"Sir,Please give a number :\"))\n",
        "number_2=int(input(\"Sir ,Please give a number :\"))\n",
        "sum=number_1+number_2\n",
        "pro=number_1*number_2\n",
        "dif=number_1-number_2\n",
        "print(\"Sum\",sum,\"\\nProduct\",pro,\"\\nDifference\",dif)"
      ],
      "metadata": {
        "colab": {
          "base_uri": "https://localhost:8080/"
        },
        "id": "tqBplvI1bbTY",
        "outputId": "9491f30e-6a55-4fb2-81e4-91cb4798d28d"
      },
      "execution_count": null,
      "outputs": [
        {
          "output_type": "stream",
          "name": "stdout",
          "text": [
            "Sir,Please give a number :30\n",
            "Sir ,Please give a number :2\n",
            "Sum 32 \n",
            "Product 60 \n",
            "Difference 28\n"
          ]
        }
      ]
    },
    {
      "cell_type": "code",
      "source": [
        "#Task-2\n",
        "import math\n",
        "number=int(input(\"Sir,Please enter your desire number :\"))\n",
        "area=math.pi*number**2\n",
        "cir=2*math.pi*number\n",
        "print(\"Area is \",area,\"\\nCircumference is \",cir)"
      ],
      "metadata": {
        "colab": {
          "base_uri": "https://localhost:8080/"
        },
        "id": "X9pQYm57_f71",
        "outputId": "5e2c9cba-1396-4ce0-9180-3b98a99df92a"
      },
      "execution_count": null,
      "outputs": [
        {
          "output_type": "stream",
          "name": "stdout",
          "text": [
            "Sir,Please enter your desire number :4\n",
            "Area is  50.26548245743669 \n",
            "Circumference is  25.132741228718345\n"
          ]
        }
      ]
    },
    {
      "cell_type": "code",
      "source": [
        "#Task-3\n",
        "num_1=int(input(\"Sir,Please enter first number :\"))\n",
        "num_2=int(input(\"Sir,Please enter second number :\"))\n",
        "if num_1>num_2:\n",
        "  print(\"First is greater\")\n",
        "elif num_2>num_1:\n",
        "  print(\"Second is greater\")\n",
        "else:\n",
        "  print(\"The number are equal\")"
      ],
      "metadata": {
        "colab": {
          "base_uri": "https://localhost:8080/"
        },
        "id": "dChs06_jKGHR",
        "outputId": "192b0b02-df47-47bc-ef1c-24e1693d30c0"
      },
      "execution_count": null,
      "outputs": [
        {
          "output_type": "stream",
          "name": "stdout",
          "text": [
            "Sir,Please enter first number :7\n",
            "Sir,Please enter second number :3\n",
            "First is greater\n"
          ]
        }
      ]
    },
    {
      "cell_type": "code",
      "source": [
        "#Task-4\n",
        "number_1=int(input(\"Sir,Please input your first number :\"))\n",
        "number_2=int(input(\"Sir,Please input your second number :\"))\n",
        "if number_1>number_2:\n",
        "  print(number_1-number_2)\n",
        "else:\n",
        "  print(number_2-number_1)"
      ],
      "metadata": {
        "colab": {
          "base_uri": "https://localhost:8080/"
        },
        "id": "ON2KwrEhRFlb",
        "outputId": "a776df2d-6f4d-41fe-990f-3077ee1014b0"
      },
      "execution_count": null,
      "outputs": [
        {
          "output_type": "stream",
          "name": "stdout",
          "text": [
            "Sir,Please input your first number :5\n",
            "Sir,Please input your second number :5\n",
            "0\n"
          ]
        }
      ]
    },
    {
      "cell_type": "code",
      "source": [
        "#Task-5\n",
        "number=int(input(\"Sir,please input your desire number :\"))\n",
        "if number%2==0:\n",
        "  print(\"The number is even\")\n",
        "else:\n",
        "  print(\"The number is odd\")"
      ],
      "metadata": {
        "colab": {
          "base_uri": "https://localhost:8080/"
        },
        "id": "L2XVrPODSrpe",
        "outputId": "0bc87ae5-de1c-406b-af29-7f9b02d3734f"
      },
      "execution_count": null,
      "outputs": [
        {
          "output_type": "stream",
          "name": "stdout",
          "text": [
            "Sir,please input your desire number :-44\n",
            "The number is even\n"
          ]
        }
      ]
    },
    {
      "cell_type": "code",
      "source": [
        "#Task-6\n",
        "num=int(input(\"Sir,please enter your desire number :\"))\n",
        "if num%2==0 or num%5==0:\n",
        "  print(num)\n",
        "else:\n",
        "  print(\"Not a multiple of 2 OR 5\")"
      ],
      "metadata": {
        "colab": {
          "base_uri": "https://localhost:8080/"
        },
        "id": "yxGzHAwjTMNL",
        "outputId": "c6dc77d9-f06c-4437-dfaf-5f5560475f11"
      },
      "execution_count": null,
      "outputs": [
        {
          "output_type": "stream",
          "name": "stdout",
          "text": [
            "Sir,please enter your desire number :3\n",
            "Not a multiple of 2 OR t\n"
          ]
        }
      ]
    },
    {
      "cell_type": "code",
      "source": [
        "#Task-7\n",
        "num=int(input(\"Sir,Please enter your desire number :\"))\n",
        "if num%2==0 and num%5!=0 or num%2!=0 and num%5==0:\n",
        "  print(num)\n",
        "elif num%2==0 and num%5==0:\n",
        "  print(\"Multiple of 2 and 5 both\")\n",
        "else:\n",
        "  print(\"Not a multiple we want\")"
      ],
      "metadata": {
        "id": "0WN5jo7XYmQV",
        "colab": {
          "base_uri": "https://localhost:8080/"
        },
        "outputId": "96e05e35-c9a8-4cba-f3a4-1c7102771304"
      },
      "execution_count": null,
      "outputs": [
        {
          "output_type": "stream",
          "name": "stdout",
          "text": [
            "Sir,Please enter your desire number :0\n",
            "Multiple of 2 and 5 both\n"
          ]
        }
      ]
    },
    {
      "cell_type": "code",
      "source": [
        "#Task-8\n",
        "num=int(input(\"Sir,Please give your desire number :\"))\n",
        "if num%2==0 and num%5==0 :\n",
        "  print(num)\n",
        "else:\n",
        "  print(\"Not a multiple of 2 and 5 both\")"
      ],
      "metadata": {
        "colab": {
          "base_uri": "https://localhost:8080/"
        },
        "id": "uT0VETyL97yk",
        "outputId": "731e9688-99dd-46cb-da72-6d5122922411"
      },
      "execution_count": null,
      "outputs": [
        {
          "output_type": "stream",
          "name": "stdout",
          "text": [
            "Sir,Please give your desire number :30\n",
            "30\n"
          ]
        }
      ]
    },
    {
      "cell_type": "code",
      "source": [
        "#Task-9\n",
        "sec=int(input(\"Please input your desire second :\"))\n",
        "hours=sec//3600\n",
        "remsec=sec%3600\n",
        "minites=remsec//60\n",
        "remmin=remsec%60\n",
        "second=remmin/60\n",
        "print(\"Hours:\",hours,\"Minutes:\",minites,\"Second:\",remmin)"
      ],
      "metadata": {
        "colab": {
          "base_uri": "https://localhost:8080/"
        },
        "id": "YvRPBTkPFBkA",
        "outputId": "5feeb2d5-9800-4ecb-e880-4487c15d7302"
      },
      "execution_count": null,
      "outputs": [
        {
          "output_type": "stream",
          "name": "stdout",
          "text": [
            "Please input your desire second :10000\n",
            "Hours: 2 Minutes: 46 Second: 40\n"
          ]
        }
      ]
    },
    {
      "cell_type": "code",
      "source": [
        "#Task-10\n",
        "num=int(input(\"Sir,Please give your desire hours :\"))\n",
        "if 0<num<=40:\n",
        "  sum=num*200\n",
        "  print(sum)\n",
        "elif num>=40<=168:\n",
        "  sum=8000+(num-40)*300\n",
        "  print(sum)\n",
        "else:\n",
        "  print(\"Hour cannot be negative\")"
      ],
      "metadata": {
        "id": "vpiOJZZlIqk0",
        "colab": {
          "base_uri": "https://localhost:8080/"
        },
        "outputId": "05889503-4b30-4422-de44-62e58d928f65"
      },
      "execution_count": null,
      "outputs": [
        {
          "output_type": "stream",
          "name": "stdout",
          "text": [
            "Sir,Please give your desire hours :-30\n",
            "Hour cannot be negative\n"
          ]
        }
      ]
    },
    {
      "cell_type": "code",
      "source": [
        "#Task-11\n",
        "num=int(input(\"S :\"))\n",
        "if num<100:\n",
        "  sum=3000-125*num**2\n",
        "  print(\"L=\",sum)\n",
        "elif num>=100:\n",
        "  sum=12000/(4+num**2/14900)\n",
        "  print(\"L =\",sum)"
      ],
      "metadata": {
        "id": "JwcXrT2Fn9yQ",
        "colab": {
          "base_uri": "https://localhost:8080/"
        },
        "outputId": "d949f66c-5385-4b51-da1a-228b4f993bef"
      },
      "execution_count": null,
      "outputs": [
        {
          "output_type": "stream",
          "name": "stdout",
          "text": [
            "S :120\n",
            "L = 2416.2162162162163\n"
          ]
        }
      ]
    },
    {
      "cell_type": "code",
      "source": [
        "#Task-12\n",
        "time=int(input(\"Sir,Please enter your desire number :\"))\n",
        "if 4<=time<=6:\n",
        "  print(\"Breakfast\")\n",
        "elif 12<=time<=13:\n",
        "  print(\"Lunch\")\n",
        "elif 16<=time<=17:\n",
        "  print(\"Snaks\")\n",
        "elif 19<=time<=20:\n",
        "  print(\"Dinner\")\n",
        "elif 0<time<=24:\n",
        "  print(\"Patience is a virtue\")\n",
        "else:\n",
        "  print(\"Wrong time\")"
      ],
      "metadata": {
        "colab": {
          "base_uri": "https://localhost:8080/"
        },
        "id": "BLJJw3D1D1h9",
        "outputId": "cc3b0d46-8d15-40ba-bdc3-0dca5830586c"
      },
      "execution_count": null,
      "outputs": [
        {
          "output_type": "stream",
          "name": "stdout",
          "text": [
            "Sir,Please enter your desire number :20\n",
            "Dinner\n"
          ]
        }
      ]
    },
    {
      "cell_type": "code",
      "source": [
        "#Task-13\n",
        "marks=int(input(\"Sir,Please enter your desire marks :\"))\n",
        "if 0<=marks<50:\n",
        "  print(\"F\")\n",
        "elif 50<=marks<=59:\n",
        "  print(\"E\")\n",
        "elif 60<=marks<=69:\n",
        "  print(\"D\")\n",
        "elif 70<=marks<=79:\n",
        "  print(\"C\")\n",
        "elif 80<=marks<=89:\n",
        "  print(\"B\")\n",
        "elif 90<=marks<=100:\n",
        "  print(\"A\")\n",
        "else:\n",
        "  print(\"Not a valid marks\")"
      ],
      "metadata": {
        "colab": {
          "base_uri": "https://localhost:8080/"
        },
        "id": "gq2AbVqrV8vg",
        "outputId": "7190a3d9-849f-44b0-952e-fe16436cab04"
      },
      "execution_count": null,
      "outputs": [
        {
          "output_type": "stream",
          "name": "stdout",
          "text": [
            "Sir,Please enter your desire marks :0\n",
            "F\n"
          ]
        }
      ]
    },
    {
      "cell_type": "code",
      "source": [
        "#Task-14\n",
        "distance=int(input(\"Sir,Please enter your distance :\"))\n",
        "time=int(input(\"Sir,Please enter your desire time :\"))\n",
        "sum=(distance/1000)/(time/3600)\n",
        "if sum<60:\n",
        "  print(float,(round(sum,2)),\"km/h\",\"\\nToo slow.Needa more changes\")\n",
        "elif 60<=sum<=90:\n",
        "  print(float,(round(sum,2)),\"km/h\",\"\\nVelocity is okey.The car is ready\")\n",
        "elif sum>90:\n",
        "  print(float,(round(sum,2)),\"km/h\",\"\\nToo fast.Only a few changes should suffice\")\n"
      ],
      "metadata": {
        "colab": {
          "base_uri": "https://localhost:8080/"
        },
        "id": "-IFRfy0DZSdJ",
        "outputId": "1befea8c-1eb6-49c5-c774-3d064ddd9e81"
      },
      "execution_count": null,
      "outputs": [
        {
          "output_type": "stream",
          "name": "stdout",
          "text": [
            "Sir,Please enter your distance :89\n",
            "Sir,Please enter your desire time :89\n",
            "<class 'float'> 3.6 km/h \n",
            "Too slow.Needa more changes\n"
          ]
        }
      ]
    },
    {
      "cell_type": "code",
      "source": [
        "#Task-15\n",
        "cg=float(input(\"Sir,Please enter your desire CGPA :\"))\n",
        "credit=int(input(\"How many credit did you completed :\"))\n",
        "if cg<=4.00 and credit>=30:\n",
        "  print(\"The student is eligible for a waiver of 25 percent.\")\n",
        "elif 3.95<=cg<=3.99 and credit>=30:\n",
        "  print(\"The student is eligible for a waiver of 75 percent\")\n",
        "elif 3.90<=cg<=3.94 and credit>=30:\n",
        "  print(\"The student is eligible for a waiver of 50 percent\")\n",
        "elif 3.80<=cg<=3.89 and credit>=30:\n",
        "  print(\"The student is eligible for a waiver of 25 percent\")\n",
        "else:\n",
        "  print(\"The student is not eligible for a waiver\")"
      ],
      "metadata": {
        "colab": {
          "base_uri": "https://localhost:8080/"
        },
        "id": "5XBH4pTGyGr7",
        "outputId": "52549d74-94f1-4d17-d3a8-e5c3a6cd7468"
      },
      "execution_count": null,
      "outputs": [
        {
          "output_type": "stream",
          "name": "stdout",
          "text": [
            "Sir,Please enter your desire CGPA :3.93\n",
            "How many credit did you completed :30\n",
            "The student is eligible for a waiver of 20 percent.\n"
          ]
        }
      ]
    },
    {
      "cell_type": "code",
      "source": [
        "#Task-20\n",
        "number=int(input(\"Sir,Please enter your desire number :\"))\n",
        "if number%2!=0 and number%5!=0:\n",
        "  print(number)\n",
        "else:\n",
        "  print(\"No\")"
      ],
      "metadata": {
        "colab": {
          "base_uri": "https://localhost:8080/"
        },
        "id": "a0zYempFfnDB",
        "outputId": "9b84d227-00c7-4451-9ac0-19f6713c9530"
      },
      "execution_count": null,
      "outputs": [
        {
          "output_type": "stream",
          "name": "stdout",
          "text": [
            "Sir,Please enter your desire number :19\n",
            "19\n"
          ]
        }
      ]
    },
    {
      "cell_type": "code",
      "source": [
        "#Task-21\n",
        "num=int(input(\"Sir,Please enter your desire number :\"))\n",
        "if num%5!=0 or num%2!=0:\n",
        "  print(num)\n",
        "elif num%2==0 and num%5==0:\n",
        "  print(\"No\")"
      ],
      "metadata": {
        "colab": {
          "base_uri": "https://localhost:8080/"
        },
        "id": "mFfH473HhDAZ",
        "outputId": "f07fef2c-142e-446b-d8fd-7bde80888d9e"
      },
      "execution_count": null,
      "outputs": [
        {
          "output_type": "stream",
          "name": "stdout",
          "text": [
            "Sir,Please enter your desire number :20\n",
            "No\n"
          ]
        }
      ]
    },
    {
      "cell_type": "code",
      "source": [
        "#Task-22\n",
        "num=int(input(\"Sir ,Please enter how many canvas do you want :\"))\n",
        "nump=int(input(\"Sir,How many paint tube yo want :\"))\n",
        "sum=num*120+nump*75\n",
        "if 0<=sum<=299:\n",
        "  print(sum)\n",
        "elif 300<=sum<=499:\n",
        "  print(\"Previous total:\",sum,\"\\nNew total after discount:\",sum-10)\n",
        "elif 500<=sum<=749:\n",
        "  print(\"Previous total:\",sum,\"\\nNew total after discount:\",sum-20)\n",
        "elif 750<=sum<=999:\n",
        "  print(\"Previous total:\",sum,\"\\nNew total after discount:\",sum-50)\n",
        "elif sum>=1000:\n",
        "  print(\"Previous total:\",sum,\"\\nNew total after discount:\",sum-150)\n"
      ],
      "metadata": {
        "colab": {
          "base_uri": "https://localhost:8080/"
        },
        "id": "IYm4i-yajb1c",
        "outputId": "36591e84-e5b6-41af-cb47-20f209932402"
      },
      "execution_count": null,
      "outputs": [
        {
          "output_type": "stream",
          "name": "stdout",
          "text": [
            "Sir ,Please enter how many canvas do you want :5\n",
            "Sir,How many paint tube yo want :8\n",
            "Previous total: 1200 \n",
            "New total after discount: 1050\n"
          ]
        }
      ]
    },
    {
      "cell_type": "code",
      "source": [
        "#Task-23\n",
        "tem=int(input(\"Sir,Please input temperature for your area :\"))\n",
        "sum=(tem-32)*0.56\n",
        "if sum<20:\n",
        "  print(sum,\"degrees C\",\"\\nWinter\")\n",
        "elif 20<=sum<=25:\n",
        "  print(sum,\"degrees C\",\"\\nAutumn\")\n",
        "elif 25<sum<30:\n",
        "  print(sum,\"degrees C\",\"\\nSpring\")\n",
        "elif sum>=30:\n",
        "  print(sum,\"degrees C\",\"\\nSummer\")"
      ],
      "metadata": {
        "colab": {
          "base_uri": "https://localhost:8080/"
        },
        "id": "OsNbNbFljgbQ",
        "outputId": "af3c3700-4b39-4e06-b433-905f3aba4f63"
      },
      "execution_count": null,
      "outputs": [
        {
          "output_type": "stream",
          "name": "stdout",
          "text": [
            "Sir,Please input temperature for your area :82\n",
            "28.000000000000004 degrees C \n",
            "Spring\n"
          ]
        }
      ]
    },
    {
      "cell_type": "markdown",
      "source": [
        "Lab-3"
      ],
      "metadata": {
        "id": "hR6N9jscfbjG"
      }
    },
    {
      "cell_type": "code",
      "source": [
        "#Task-1(a)\n",
        "for i in range(24,-7,-6):\n",
        "  if i==-6:\n",
        "    print(i,end=\"\")\n",
        "  else:\n",
        "    print(i,end=\",\")"
      ],
      "metadata": {
        "colab": {
          "base_uri": "https://localhost:8080/"
        },
        "id": "stT3MyF9flDJ",
        "outputId": "afdffc69-7f6a-4b1a-f675-4efb9a4eafef"
      },
      "execution_count": null,
      "outputs": [
        {
          "output_type": "stream",
          "name": "stdout",
          "text": [
            "24,18,12,6,0,-6"
          ]
        }
      ]
    },
    {
      "cell_type": "code",
      "source": [
        "#Task-1(a) another method\n",
        "count=24\n",
        "while count>=-6:\n",
        "  if count==-6:\n",
        "    print(count,end=\"\")\n",
        "  else:\n",
        "    print(count,end=\", \")\n",
        "  count=count-6\n",
        "\n"
      ],
      "metadata": {
        "colab": {
          "base_uri": "https://localhost:8080/"
        },
        "id": "PqotMJkMoFS4",
        "outputId": "25475cf0-52db-47ff-8f87-6b0dc6679e9f"
      },
      "execution_count": null,
      "outputs": [
        {
          "output_type": "stream",
          "name": "stdout",
          "text": [
            "24, 18, 12, 6, 0, -6"
          ]
        }
      ]
    },
    {
      "cell_type": "code",
      "source": [
        "#Task-1(b)\n",
        "count=-10\n",
        "while count<=20:\n",
        "  if count==20:\n",
        "    print(count,end=\"\")\n",
        "  else:\n",
        "    print(count,end=\", \")\n",
        "  count=count+5"
      ],
      "metadata": {
        "colab": {
          "base_uri": "https://localhost:8080/"
        },
        "id": "rCt0CT-kfRC4",
        "outputId": "1f10f0fb-f522-467e-87c5-b16c34629733"
      },
      "execution_count": null,
      "outputs": [
        {
          "output_type": "stream",
          "name": "stdout",
          "text": [
            "-10, -5, 0, 5, 10, 15, 20"
          ]
        }
      ]
    },
    {
      "cell_type": "code",
      "source": [
        "#Task-1(c)\n",
        "for num in range(18,64,9):\n",
        "  if num==63:\n",
        "    print(num,end=\"\")\n",
        "  else:\n",
        "    print(num,end=\", \")"
      ],
      "metadata": {
        "colab": {
          "base_uri": "https://localhost:8080/"
        },
        "id": "HlBw3QSjsIbd",
        "outputId": "8d9a9a0b-a9fb-4993-b98a-8b1b5bf8b621"
      },
      "execution_count": null,
      "outputs": [
        {
          "output_type": "stream",
          "name": "stdout",
          "text": [
            "18, 27, 36, 45, 54, 63"
          ]
        }
      ]
    },
    {
      "cell_type": "code",
      "source": [
        "#Task-1(d)\n",
        "count = 18\n",
        "while count <= 63:\n",
        "    if count % 2 != 0:\n",
        "        print(count * -1, end=\"\")\n",
        "    else:\n",
        "        print(count, end=\"\")\n",
        "    count = count + 9\n",
        "    if count <= 63:\n",
        "        print(\",\", end=\" \")\n"
      ],
      "metadata": {
        "colab": {
          "base_uri": "https://localhost:8080/"
        },
        "id": "sSKf7xqwspX1",
        "outputId": "1f80ce85-92a8-4fc1-9a9f-21fa538e1ebd"
      },
      "execution_count": null,
      "outputs": [
        {
          "output_type": "stream",
          "name": "stdout",
          "text": [
            "18, -27, 36, -45, 54, -63"
          ]
        }
      ]
    },
    {
      "cell_type": "code",
      "source": [
        "#Task-2\n",
        "car=input(\"Sir,Please enter your favorite car :\")\n",
        "num=int(input(\"sir,please input a Number :\"))\n",
        "for i in range(1,num+1):\n",
        "  print(car)"
      ],
      "metadata": {
        "colab": {
          "base_uri": "https://localhost:8080/"
        },
        "id": "-M8hTuYxvojU",
        "outputId": "0526b848-9f3a-4f1d-98a4-48dee2870b5c"
      },
      "execution_count": null,
      "outputs": [
        {
          "output_type": "stream",
          "name": "stdout",
          "text": [
            "Sir,Please enter your favorite car :Veyron\n",
            "sir,please input a Number :5\n",
            "Veyron\n",
            "Veyron\n",
            "Veyron\n",
            "Veyron\n",
            "Veyron\n"
          ]
        }
      ]
    },
    {
      "cell_type": "code",
      "source": [
        "#Task-3\n",
        "sum=0\n",
        "for num in range(601):\n",
        "  if num%7==0 and num%9==0:\n",
        "    sum=num+sum\n",
        "    print(num,end=\"+\")\n",
        "  elif num==600:\n",
        "    print(num,end=\"=\")\n",
        "    print(sum)"
      ],
      "metadata": {
        "colab": {
          "base_uri": "https://localhost:8080/"
        },
        "id": "6FiiU3Ilwgbg",
        "outputId": "c506d79a-57ac-4f75-ca7c-cdfbb2feafab"
      },
      "execution_count": null,
      "outputs": [
        {
          "output_type": "stream",
          "name": "stdout",
          "text": [
            "0+63+126+189+252+315+378+441+504+567+600=2835\n"
          ]
        }
      ]
    },
    {
      "cell_type": "code",
      "source": [
        "#Task-4\n",
        "sum=0\n",
        "count=1\n",
        "while count<=600:\n",
        "  if count%7!=0 and count%9==0 or count%7==0 and count%9!=0:\n",
        "    sum=sum+count\n",
        "  count=count+1\n",
        "print(sum,end=\"\")"
      ],
      "metadata": {
        "colab": {
          "base_uri": "https://localhost:8080/"
        },
        "id": "IpLtC55k3uGQ",
        "outputId": "3b7ee11c-a259-4074-f491-d0791f449bf1"
      },
      "execution_count": null,
      "outputs": [
        {
          "output_type": "stream",
          "name": "stdout",
          "text": [
            "39814"
          ]
        }
      ]
    },
    {
      "cell_type": "code",
      "source": [
        "#Task-5\n",
        "for i in range(10,51):\n",
        "  if i%2!=0:\n",
        "    print(i,end=\",\")\n",
        "  if i==49:\n",
        "    print(i,end=\"\")"
      ],
      "metadata": {
        "colab": {
          "base_uri": "https://localhost:8080/"
        },
        "id": "M7OUn-S2bs1R",
        "outputId": "ebffcd15-ffff-4ffd-d548-d2beff3a3aeb"
      },
      "execution_count": null,
      "outputs": [
        {
          "output_type": "stream",
          "name": "stdout",
          "text": [
            "11,13,15,17,19,21,23,25,27,29,31,33,35,37,39,41,43,45,47,49,49"
          ]
        }
      ]
    },
    {
      "cell_type": "code",
      "source": [
        "#Task-6\n",
        "byazid=0\n",
        "num=int(input(\"Sir,Please enter your desire Number :\"))\n",
        "for tasfia in range(1,num+1):\n",
        "  cal=tasfia**2*(-1)**(tasfia+1) #n^2(-1)^n+1\n",
        "  byazid=byazid+cal\n",
        "print(byazid)\n"
      ],
      "metadata": {
        "colab": {
          "base_uri": "https://localhost:8080/"
        },
        "id": "I9VsszCEcwIi",
        "outputId": "6ee16171-cabe-49c8-9f5a-e15b0a4c87a5"
      },
      "execution_count": null,
      "outputs": [
        {
          "output_type": "stream",
          "name": "stdout",
          "text": [
            "Sir,Please enter your desire Number :10\n",
            "-55\n"
          ]
        }
      ]
    },
    {
      "cell_type": "code",
      "source": [
        "#Task-7\n",
        "sum=0\n",
        "cal=0\n",
        "for i in range(10):\n",
        "  num=int(input(\"Sir,Please enter your desire number :\"))\n",
        "  if num%2!=0:\n",
        "    sum=sum+num\n",
        "    cal=cal+1\n",
        "avg=sum/cal\n",
        "print(\"The total of the odd numbers is\",sum,\"\\nand the average is\",float(avg))"
      ],
      "metadata": {
        "colab": {
          "base_uri": "https://localhost:8080/"
        },
        "id": "TbFKYmG8kpD-",
        "outputId": "47c65b54-3180-4fd7-d25e-a280bb70433f"
      },
      "execution_count": null,
      "outputs": [
        {
          "output_type": "stream",
          "name": "stdout",
          "text": [
            "Sir,Please enter your desire number :1\n",
            "Sir,Please enter your desire number :2\n",
            "Sir,Please enter your desire number :3\n",
            "Sir,Please enter your desire number :4\n",
            "Sir,Please enter your desire number :5\n",
            "Sir,Please enter your desire number :6\n",
            "Sir,Please enter your desire number :7\n",
            "Sir,Please enter your desire number :8\n",
            "Sir,Please enter your desire number :9\n",
            "Sir,Please enter your desire number :10\n",
            "The total of the odd numbers is 25 \n",
            "and the average is 5.0\n"
          ]
        }
      ]
    },
    {
      "cell_type": "code",
      "source": [
        "#Task-8\n",
        "sum=0\n",
        "num=int(input(\"Sir,Please enter your desire number :\"))\n",
        "for i in range(1,num+1):\n",
        "  if i%7==0:\n",
        "    sum=sum+i\n",
        "print(sum)"
      ],
      "metadata": {
        "colab": {
          "base_uri": "https://localhost:8080/"
        },
        "id": "iwDaSGMKnEBF",
        "outputId": "46f6074c-b26d-4623-c836-816366889c84"
      },
      "execution_count": null,
      "outputs": [
        {
          "output_type": "stream",
          "name": "stdout",
          "text": [
            "Sir,Please enter your desire number :75\n",
            "385\n"
          ]
        }
      ]
    },
    {
      "cell_type": "code",
      "source": [
        "#Task-9\n",
        "sum=0\n",
        "for i in range(5):\n",
        "  num=int(input(\"Sir,Please enter your desire number :\"))\n",
        "  sum+=num\n",
        "  print(sum)\n"
      ],
      "metadata": {
        "colab": {
          "base_uri": "https://localhost:8080/"
        },
        "id": "h_kbUIh8Q0E5",
        "outputId": "fe725b43-3de5-4087-da00-ab50caf44bce"
      },
      "execution_count": null,
      "outputs": [
        {
          "output_type": "stream",
          "name": "stdout",
          "text": [
            "Sir,Please enter your desire number :1\n",
            "1\n",
            "Sir,Please enter your desire number :2\n",
            "3\n",
            "Sir,Please enter your desire number :3\n",
            "6\n",
            "Sir,Please enter your desire number :4\n",
            "10\n",
            "Sir,Please enter your desire number :5\n",
            "15\n"
          ]
        }
      ]
    },
    {
      "cell_type": "code",
      "source": [
        "#Task-10\n",
        "num=int(input(\"Sir,Please enter your desire number :\"))\n",
        "while num>0:\n",
        "  sum=num%10\n",
        "  num=num//10\n",
        "  print(sum,end=\" \")"
      ],
      "metadata": {
        "colab": {
          "base_uri": "https://localhost:8080/"
        },
        "id": "z0n9yjDNR9eQ",
        "outputId": "dc298011-bd60-4556-9190-5e5c2ff31898"
      },
      "execution_count": null,
      "outputs": [
        {
          "output_type": "stream",
          "name": "stdout",
          "text": [
            "Sir,Please enter your desire number :787878\n",
            "8 7 8 7 8 7 "
          ]
        }
      ]
    },
    {
      "cell_type": "code",
      "source": [
        "#Task-11\n",
        "num=int(input(\"Sir,Please enter your desire number :\"))\n",
        "count=0\n",
        "while num>0:\n",
        "  num=num//10\n",
        "  count=count+1\n",
        "print(count)"
      ],
      "metadata": {
        "colab": {
          "base_uri": "https://localhost:8080/"
        },
        "id": "8lTcjLBna6hb",
        "outputId": "1290b6ab-8a33-46bd-a69e-c77858b36b49"
      },
      "execution_count": null,
      "outputs": [
        {
          "output_type": "stream",
          "name": "stdout",
          "text": [
            "Sir,Please enter your desire number :234212\n",
            "6\n"
          ]
        }
      ]
    },
    {
      "cell_type": "code",
      "source": [
        "#Task-12\n",
        "count=0\n",
        "agcount=0\n",
        "user=int(input(\"Sir,Please enter your desire number :\"))\n",
        "back=user\n",
        "while back>0:\n",
        "  back=back//10\n",
        "  count=count+1\n",
        "print(count)\n",
        "agcount=count-1\n",
        "while user>0:\n",
        "  number=user//10**agcount\n",
        "  user=user%10**agcount\n",
        "  agcount=agcount-1\n",
        "  print(number,end=\" \")"
      ],
      "metadata": {
        "id": "BTKUfrJKdNte"
      },
      "execution_count": null,
      "outputs": []
    },
    {
      "cell_type": "code",
      "source": [
        "#Task-13\n",
        "number=int(input(\"Sir,Please enter your desire number :\"))\n",
        "count=0\n",
        "for i in range(1,number+1):\n",
        "  if number%i==0:\n",
        "    print(i)\n",
        "    count=count+1\n",
        "print(\"Total\",count,\"divisor\")"
      ],
      "metadata": {
        "colab": {
          "base_uri": "https://localhost:8080/"
        },
        "id": "L-59eAu_nIvb",
        "outputId": "2b59cb4f-93cf-40e0-8689-42ddcac22f18"
      },
      "execution_count": null,
      "outputs": [
        {
          "output_type": "stream",
          "name": "stdout",
          "text": [
            "Sir,Please enter your desire number :121\n",
            "1\n",
            "11\n",
            "121\n",
            "Total 3 divisor\n"
          ]
        }
      ]
    },
    {
      "cell_type": "code",
      "source": [
        "#Task-14\n",
        "num=int(input(\"Sir,Please enter your desire number :\"))\n",
        "sum=0\n",
        "for div in range(1,num):#we dont have to count value for sum\n",
        "  if num%div==0:\n",
        "    sum=sum+div\n",
        "if sum==num:\n",
        "  print(num,\"is a perfect number\")\n",
        "else:\n",
        "  print(\"This is not a perfect number\")"
      ],
      "metadata": {
        "colab": {
          "base_uri": "https://localhost:8080/"
        },
        "id": "TNur28_oqfzZ",
        "outputId": "f295e667-83b1-48d9-a3b3-0efd361fdb06"
      },
      "execution_count": null,
      "outputs": [
        {
          "output_type": "stream",
          "name": "stdout",
          "text": [
            "Sir,Please enter your desire number :33\n",
            "This is not a perfect number\n"
          ]
        }
      ]
    },
    {
      "cell_type": "code",
      "source": [
        "#Task-15\n",
        "num=int(input(\"Sir,Please enter your desire number :\"))\n",
        "count=0\n",
        "for i in range(1,num+1):\n",
        "  if num%i==0:\n",
        "    count=count+1\n",
        "if count==2:\n",
        "  print(num,\"is a prime number\")\n",
        "else:\n",
        "  print(\"This is not a prime number\")"
      ],
      "metadata": {
        "colab": {
          "base_uri": "https://localhost:8080/"
        },
        "id": "Od8-owccsU7z",
        "outputId": "ca8a6381-e0a0-49d6-b7bb-8ae42f06a6f0"
      },
      "execution_count": null,
      "outputs": [
        {
          "output_type": "stream",
          "name": "stdout",
          "text": [
            "Sir,Please enter your desire number :6\n",
            "This is not a prime number\n"
          ]
        }
      ]
    },
    {
      "cell_type": "code",
      "source": [
        "#Task-16\n",
        "quan=int(input(\"Sir,Please enter your desire number :\"))\n",
        "sum=0\n",
        "max=num\n",
        "1min=num\n",
        "for i in range(1,quan+1):\n",
        "  num=int(input(\"Sir,Please enter your number :\"))\n",
        "  if num>max:\n",
        "    max=num\n",
        "  if num<min:\n",
        "    min=num\n",
        "  sum=sum+num\n",
        "avg=sum/quan\n",
        "print(\"Maximum-\",max,\"\\nMinimum-\",min,\"\\nAverage is-\",avg)\n"
      ],
      "metadata": {
        "colab": {
          "base_uri": "https://localhost:8080/"
        },
        "id": "e8TCBbBg2FtF",
        "outputId": "32c4c742-7a16-4e10-8d93-29651efa10cc"
      },
      "execution_count": null,
      "outputs": [
        {
          "output_type": "stream",
          "name": "stdout",
          "text": [
            "Sir,Please enter your desire number :4\n",
            "Sir,Please enter your number :10\n",
            "Sir,Please enter your number :4\n",
            "Sir,Please enter your number :-1\n",
            "Sir,Please enter your number :-100\n",
            "Maximum- 10 \n",
            "Minimum- -100 \n",
            "Average is- -21.75\n"
          ]
        }
      ]
    },
    {
      "cell_type": "code",
      "source": [
        "#Task-17\n",
        "num=int(input(\"Sir,Please enter your desire number :\"))\n",
        "for r in range(1,num+1):\n",
        "  for c in range(1,num+1):\n",
        "    print(\"+\",end=\"\")\n",
        "  print()"
      ],
      "metadata": {
        "colab": {
          "base_uri": "https://localhost:8080/"
        },
        "id": "qjh7aBQO5M_Y",
        "outputId": "f59232b3-a1f3-440c-ba25-78bb11a91a47"
      },
      "execution_count": null,
      "outputs": [
        {
          "output_type": "stream",
          "name": "stdout",
          "text": [
            "Sir,Please enter your desire number :5\n",
            "+++++\n",
            "+++++\n",
            "+++++\n",
            "+++++\n",
            "+++++\n"
          ]
        }
      ]
    },
    {
      "cell_type": "code",
      "source": [
        "#Task-18\n",
        "rec=int(input(\"Sir,Please enter your line number  :\"))\n",
        "lent=int(input(\"Sir,Please enter your column number :\"))\n",
        "for r in range(1,rec+1):\n",
        "  for c in range(1,lent+1):\n",
        "    print(c,end=\"\")\n",
        "  print()"
      ],
      "metadata": {
        "colab": {
          "base_uri": "https://localhost:8080/"
        },
        "id": "jFSdzTVN7MDn",
        "outputId": "731dd28c-5606-4926-a333-2c2af50ea5ba"
      },
      "execution_count": null,
      "outputs": [
        {
          "output_type": "stream",
          "name": "stdout",
          "text": [
            "Sir,Please enter your line number  :3\n",
            "Sir,Please enter your column number :2\n",
            "12\n",
            "12\n",
            "12\n"
          ]
        }
      ]
    },
    {
      "cell_type": "code",
      "source": [
        "#Task-19\n",
        "num=int(input(\"Sir,Please enter your desire number :\"))\n",
        "for r in range(1,num+1):\n",
        "  for c in range(1,r+1):\n",
        "    print(c,end=\"\")\n",
        "  print()"
      ],
      "metadata": {
        "colab": {
          "base_uri": "https://localhost:8080/"
        },
        "id": "wJLukLmK8Yso",
        "outputId": "473086ad-4770-4f82-ec8e-7e26a9a31b9b"
      },
      "execution_count": null,
      "outputs": [
        {
          "output_type": "stream",
          "name": "stdout",
          "text": [
            "Sir,Please enter your desire number :4\n",
            "1\n",
            "12\n",
            "123\n",
            "1234\n"
          ]
        }
      ]
    },
    {
      "cell_type": "code",
      "source": [
        "#Task-25\n",
        "num=int(input(\"Sir,Please input your desire number :\"))\n",
        "a=0\n",
        "b=1\n",
        "print(a,end=\" \")\n",
        "if num>=2:\n",
        "  print(b,end=\" \")\n",
        "for i in range(2,num):\n",
        "  sum=a+b\n",
        "  print(sum,end=\" \")\n",
        "  a=b\n",
        "  b=sum\n"
      ],
      "metadata": {
        "id": "PQHNSnca86av",
        "colab": {
          "base_uri": "https://localhost:8080/"
        },
        "outputId": "29f9ec53-8bb2-47ef-d369-687cb7469c40"
      },
      "execution_count": null,
      "outputs": [
        {
          "output_type": "stream",
          "name": "stdout",
          "text": [
            "Sir,Please input your desire number :10\n",
            "0 1 1 2 3 5 8 13 21 34 "
          ]
        }
      ]
    },
    {
      "cell_type": "code",
      "source": [
        "#Task-26\n",
        "num=int(input(\"Sir ,Please input your desire number :\"))\n",
        "bnnum=\"\"\n",
        "backup=num\n",
        "while backup!=0:\n",
        "  remain=backup%2\n",
        "  bnnum=str(remain)+bnnum\n",
        "  backup=backup//2\n",
        "print(f\"The binary num of {num} is {bnnum}\")\n",
        "\n"
      ],
      "metadata": {
        "colab": {
          "base_uri": "https://localhost:8080/"
        },
        "id": "D6Xxw6s0yHaF",
        "outputId": "3d775eb9-050c-405a-8e3b-529bf9b84c27"
      },
      "execution_count": null,
      "outputs": [
        {
          "output_type": "stream",
          "name": "stdout",
          "text": [
            "Sir ,Please input your desire number :102\n",
            "The binary num of 102 is 1100110\n"
          ]
        }
      ]
    },
    {
      "cell_type": "code",
      "source": [
        "#Task-27\n",
        "num= input(\"Enter a binary number: \")\n",
        "\n",
        "dcnum = 0\n",
        "for i in num:\n",
        "    dcnum = dcnum * 2 + int(i)\n",
        "\n",
        "print(\"The decimal equivalent of\", num, \"is\", dcnum)"
      ],
      "metadata": {
        "colab": {
          "base_uri": "https://localhost:8080/"
        },
        "id": "jwOOp5SVmS1K",
        "outputId": "4367b3dc-54c2-4800-8342-24de9b11f715"
      },
      "execution_count": null,
      "outputs": [
        {
          "output_type": "stream",
          "name": "stdout",
          "text": [
            "Enter a binary number: 10\n",
            "The decimal equivalent of 10 is 2\n"
          ]
        }
      ]
    },
    {
      "cell_type": "code",
      "source": [
        "#Task-28\n",
        "user=int(input(\"Sir,Please enter first range :\"))\n",
        "user2=int(input(\"Sir,please enter your second number :\"))\n",
        "sum=0\n",
        "count=0\n",
        "agcount=0\n",
        "for i in range(user,user2):\n",
        "  if user%i==0:\n",
        "    sum=sum+i\n",
        "    count=count+1\n",
        "    if count==2:\n",
        "      print(\"Found\",count,\"Prime number\",\"\\nPrime number :\",user)\n",
        "if sum==user:\n",
        "  agcount+1\n",
        "  print(\"Found\",agcount,\"perfect number\",\"\\nPerfect number:\",user)\n",
        "\n",
        "\n",
        "\n",
        "\n",
        "\n",
        "print(\"waiting for understanding\")"
      ],
      "metadata": {
        "id": "w2UXlOHw8RWx",
        "colab": {
          "base_uri": "https://localhost:8080/"
        },
        "outputId": "27463234-3498-4066-f4e8-8bc91b1a01b4"
      },
      "execution_count": null,
      "outputs": [
        {
          "output_type": "stream",
          "name": "stdout",
          "text": [
            "Sir,Please enter first range :7\n",
            "Sir,please enter your second number :10\n",
            "Found 0 perfect number \n",
            "Perfect number: 7\n",
            "waiting for understanding\n"
          ]
        }
      ]
    },
    {
      "cell_type": "code",
      "source": [
        "#Task-29\n",
        "print(\"waiting for understanding\")"
      ],
      "metadata": {
        "id": "8b4WcWfJgcnm"
      },
      "execution_count": null,
      "outputs": []
    },
    {
      "cell_type": "markdown",
      "source": [
        "Lab-4"
      ],
      "metadata": {
        "id": "akBqvJ3U9qzY"
      }
    },
    {
      "cell_type": "code",
      "source": [
        "#Task-1\n",
        "user=input(\"Sir,Please enter your desire number \")\n",
        "length=len(user)\n",
        "for i in range(length-1,-1,-1):\n",
        "  print(user[i],end=\"\")"
      ],
      "metadata": {
        "colab": {
          "base_uri": "https://localhost:8080/"
        },
        "id": "SZR0DQDq9p18",
        "outputId": "b8355fdf-c763-494a-ba10-70a85f5d98dd"
      },
      "execution_count": null,
      "outputs": [
        {
          "output_type": "stream",
          "name": "stdout",
          "text": [
            "Sir,Please enter your desire number CSE110\n",
            "011ESC"
          ]
        }
      ]
    },
    {
      "cell_type": "code",
      "source": [
        "#Task-2\n",
        "user=input(\"Sir,Please input a number :\")\n",
        "num=int(input(\"Sir,Please input your desire number :\"))\n",
        "length=len(user)\n",
        "for i in range(num,-1,-1):\n",
        "  print(user[i],end=\"\")\n",
        "for i in range(num+1,length,1):\n",
        "  print(user[i],end=\"\")"
      ],
      "metadata": {
        "colab": {
          "base_uri": "https://localhost:8080/"
        },
        "id": "ExAm6GVZBjyL",
        "outputId": "7fdf34dc-7f76-4ad1-a90b-87e0a2850588"
      },
      "execution_count": null,
      "outputs": [
        {
          "output_type": "stream",
          "name": "stdout",
          "text": [
            "Sir,Please input a number :12345\n",
            "Sir,Please input your desire number :2\n",
            "32145"
          ]
        }
      ]
    },
    {
      "cell_type": "code",
      "source": [
        "#Task-3\n",
        "user=input(\"Sir,Please input something :\")\n",
        "flag=True\n",
        "for i in user:\n",
        "  if i!=\"0\" and i!=\"1\":\n",
        "    flag=False\n",
        "if flag==True:\n",
        "  print(\"Binary Number\")\n",
        "else:\n",
        "  print(\"Not a Binary Number\")\n"
      ],
      "metadata": {
        "colab": {
          "base_uri": "https://localhost:8080/"
        },
        "id": "K5TwiaOxRVqO",
        "outputId": "cb060fcf-62c1-44f6-bb7d-f698b62c0e19"
      },
      "execution_count": null,
      "outputs": [
        {
          "output_type": "stream",
          "name": "stdout",
          "text": [
            "Sir,Please input something :0101010101010010100010101\n",
            "Binary Number\n"
          ]
        }
      ]
    },
    {
      "cell_type": "code",
      "source": [
        "#Task-4\n",
        "user=input(\"Sir,Please input something :\")\n",
        "length=len(user)\n",
        "if length<4:\n",
        "  print(user)\n",
        "\n",
        "if length>3 and user[length-2:length:1]==\"er\":\n",
        "  print(user[0:length-3]+\"est\")\n",
        "elif length>3 and user[length-2:length:1]==\"est\":\n",
        "  print(user)\n",
        "elif length>3:\n",
        "  print(user+\"er\")"
      ],
      "metadata": {
        "colab": {
          "base_uri": "https://localhost:8080/"
        },
        "id": "ObS6z4wNSciA",
        "outputId": "b3cc5c80-33d9-46dd-8a4c-c2da4066c624"
      },
      "execution_count": null,
      "outputs": [
        {
          "output_type": "stream",
          "name": "stdout",
          "text": [
            "Sir,Please input something :strongest\n",
            "strongester\n"
          ]
        }
      ]
    },
    {
      "cell_type": "code",
      "source": [
        "#Task-5\n",
        "user=input(\"Sir ,Please input a string :\")\n",
        "length=len(user)\n",
        "for r in range(length):\n",
        "  for c in range(r+1):\n",
        "    print(user[c],end=\"\")\n",
        "  print()"
      ],
      "metadata": {
        "colab": {
          "base_uri": "https://localhost:8080/"
        },
        "id": "kgDcFF3-TXbm",
        "outputId": "75d72f2d-11e7-4b09-805b-bd9a272c821d"
      },
      "execution_count": null,
      "outputs": [
        {
          "output_type": "stream",
          "name": "stdout",
          "text": [
            "Sir ,Please input a string :Bangla\n",
            "B\n",
            "Ba\n",
            "Ban\n",
            "Bang\n",
            "Bangl\n",
            "Bangla\n"
          ]
        }
      ]
    },
    {
      "cell_type": "code",
      "source": [
        "#Task-6\n",
        "user=input(\"Sir,Please input your desire string :\")\n",
        "for i in range(len(user)):\n",
        "  print(user[i]+\":\"+str(ord(user[i])))"
      ],
      "metadata": {
        "colab": {
          "base_uri": "https://localhost:8080/"
        },
        "id": "ym0IFpm_ebyS",
        "outputId": "ea901a84-a192-43a8-dcc5-1cbc13917ba5"
      },
      "execution_count": null,
      "outputs": [
        {
          "output_type": "stream",
          "name": "stdout",
          "text": [
            "Sir,Please input your desire string :Program\n",
            "P:80\n",
            "r:114\n",
            "o:111\n",
            "g:103\n",
            "r:114\n",
            "a:97\n",
            "m:109\n"
          ]
        }
      ]
    },
    {
      "cell_type": "code",
      "source": [
        "#Task-7\n"
      ],
      "metadata": {
        "id": "ahuVzDckihxt"
      },
      "execution_count": null,
      "outputs": []
    },
    {
      "cell_type": "code",
      "source": [
        "#Task-8\n"
      ],
      "metadata": {
        "id": "t1GXgeTNp2iM"
      },
      "execution_count": null,
      "outputs": []
    },
    {
      "cell_type": "code",
      "source": [
        "#Task-9\n",
        "user=input(\"Sir,Please input something :\")\n",
        "newUser=''\n",
        "for i in user:\n",
        "  if i not in newUser:\n",
        "    newUser=i\n",
        "    print(newUser,end=\"\")"
      ],
      "metadata": {
        "id": "bMU_If_Lp4uF"
      },
      "execution_count": null,
      "outputs": []
    },
    {
      "cell_type": "code",
      "source": [
        "#task-10"
      ],
      "metadata": {
        "id": "KoWzvd2Ksjmi"
      },
      "execution_count": null,
      "outputs": []
    },
    {
      "cell_type": "code",
      "source": [
        "#Task-16"
      ],
      "metadata": {
        "id": "jcdOh51jswDZ"
      },
      "execution_count": null,
      "outputs": []
    },
    {
      "cell_type": "code",
      "source": [
        "#task-17"
      ],
      "metadata": {
        "id": "pGg5OGTmsx6K"
      },
      "execution_count": null,
      "outputs": []
    },
    {
      "cell_type": "code",
      "source": [
        "#Task-18"
      ],
      "metadata": {
        "id": "0M0PQQw5szqp"
      },
      "execution_count": null,
      "outputs": []
    },
    {
      "cell_type": "code",
      "source": [
        "#Task-19"
      ],
      "metadata": {
        "id": "aR5G7w7fs1W-"
      },
      "execution_count": null,
      "outputs": []
    },
    {
      "cell_type": "code",
      "source": [
        "user=input()\n",
        "\n",
        "for i in range(5):\n",
        "  print(user[i],end=\"\")"
      ],
      "metadata": {
        "colab": {
          "base_uri": "https://localhost:8080/"
        },
        "id": "hdRjtwdycYiF",
        "outputId": "2049aafa-4de8-4477-eab3-c0863eb937e6"
      },
      "execution_count": null,
      "outputs": [
        {
          "output_type": "stream",
          "name": "stdout",
          "text": [
            "Bangla\n",
            "Bangl"
          ]
        }
      ]
    },
    {
      "cell_type": "code",
      "source": [
        "#task\n",
        "user=int(input(\"Please input weight :\"))\n",
        "sum=user%4\n",
        "var=user-sum\n",
        "print(var)"
      ],
      "metadata": {
        "colab": {
          "base_uri": "https://localhost:8080/"
        },
        "id": "RRA3qGNxAmii",
        "outputId": "a460b477-261a-4c11-c2c7-9d302b0fd97e"
      },
      "execution_count": null,
      "outputs": [
        {
          "output_type": "stream",
          "name": "stdout",
          "text": [
            "Please input weight :23\n",
            "20\n"
          ]
        }
      ]
    },
    {
      "cell_type": "code",
      "source": [
        "#Task7\n",
        "a=int(input())\n",
        "b=int(input())\n",
        "c=int(input())\n",
        "d=float(input())\n",
        "sum=a**c+b*a-d/3\n",
        "print(int(sum))"
      ],
      "metadata": {
        "colab": {
          "base_uri": "https://localhost:8080/"
        },
        "id": "chOmCn_qCHXt",
        "outputId": "a52ed52d-ddc9-41b1-8bc5-f189241859f7"
      },
      "execution_count": null,
      "outputs": [
        {
          "output_type": "stream",
          "name": "stdout",
          "text": [
            "2\n",
            "6\n",
            "8\n",
            "1.3\n",
            "267.56666666666666\n"
          ]
        }
      ]
    },
    {
      "cell_type": "code",
      "source": [
        "#task8\n",
        "user=int(input(\"How many chocolate do you have :\"))\n",
        "sum=user//3\n",
        "remcho=user%3\n",
        "#print(f\"Each friend will receive {sum} chocolates \\nThe number of remaining chocolates is {remcho} \")\n",
        "print(\"Each friend will receive\",sum,\"chocolates\",\"\\nThe number of remaining chocolates is\",remcho)\n"
      ],
      "metadata": {
        "colab": {
          "base_uri": "https://localhost:8080/"
        },
        "id": "yTqFk20OFf1e",
        "outputId": "757679f2-b13a-4813-9c11-efc798b14018"
      },
      "execution_count": null,
      "outputs": [
        {
          "output_type": "stream",
          "name": "stdout",
          "text": [
            "How many chocolate do you have :50\n",
            "Each friend will receive 16 chocolates \n",
            "The number of remaining chocolates is 2\n"
          ]
        }
      ]
    },
    {
      "cell_type": "code",
      "source": [
        "for i in range(int(input())):\n",
        "  print(\"Byazid\")"
      ],
      "metadata": {
        "colab": {
          "base_uri": "https://localhost:8080/"
        },
        "id": "BiYKR-jXguPJ",
        "outputId": "b0198153-4631-42f9-82df-cfd284005b16"
      },
      "execution_count": null,
      "outputs": [
        {
          "output_type": "stream",
          "name": "stdout",
          "text": [
            "5\n",
            "Byazid\n",
            "Byazid\n",
            "Byazid\n",
            "Byazid\n",
            "Byazid\n"
          ]
        }
      ]
    }
  ]
}