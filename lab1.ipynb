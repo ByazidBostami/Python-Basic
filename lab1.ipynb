{
  "nbformat": 4,
  "nbformat_minor": 0,
  "metadata": {
    "colab": {
      "provenance": []
    },
    "kernelspec": {
      "name": "python3",
      "display_name": "Python 3"
    },
    "language_info": {
      "name": "python"
    }
  },
  "cells": [
    {
      "cell_type": "code",
      "execution_count": null,
      "metadata": {
        "colab": {
          "base_uri": "https://localhost:8080/"
        },
        "id": "2yoqNhzM3FHy",
        "outputId": "da358e34-8ffa-42db-ff3f-a9ef08447f69"
      },
      "outputs": [
        {
          "output_type": "stream",
          "name": "stdout",
          "text": [
            "hello world\n"
          ]
        }
      ],
      "source": [
        "print(\"hello world\")"
      ]
    },
    {
      "cell_type": "code",
      "source": [
        "print(54+56)"
      ],
      "metadata": {
        "colab": {
          "base_uri": "https://localhost:8080/"
        },
        "id": "oQYAZmcK324K",
        "outputId": "a6cc3b34-9f3e-44e0-ba73-db0c8275f141"
      },
      "execution_count": null,
      "outputs": [
        {
          "output_type": "stream",
          "name": "stdout",
          "text": [
            "110\n"
          ]
        }
      ]
    },
    {
      "cell_type": "code",
      "source": [
        "season=(\"Fall\")\n",
        "year=(2022)\n",
        "print(season)\n",
        "print(year)"
      ],
      "metadata": {
        "colab": {
          "base_uri": "https://localhost:8080/"
        },
        "id": "prmugZmX39AQ",
        "outputId": "1015aeac-34f5-45bd-859d-b5f483751a4d"
      },
      "execution_count": null,
      "outputs": [
        {
          "output_type": "stream",
          "name": "stdout",
          "text": [
            "Fall\n",
            "2022\n"
          ]
        }
      ]
    },
    {
      "cell_type": "code",
      "source": [
        "name=input(\"Your name \")\n",
        "print(\"your name is \",name)"
      ],
      "metadata": {
        "colab": {
          "base_uri": "https://localhost:8080/"
        },
        "id": "Jbb1Y0ou4UiN",
        "outputId": "15b6a4ad-3c94-4d1f-aec2-7a2effbadd7f"
      },
      "execution_count": null,
      "outputs": [
        {
          "output_type": "stream",
          "name": "stdout",
          "text": [
            "Your name John\n",
            "your name is  John\n"
          ]
        }
      ]
    },
    {
      "cell_type": "code",
      "source": [
        "m=int(input(\"M\"))\n",
        "n=int(input(\"N\"))\n",
        "sum=m**n\n",
        "print(sum)"
      ],
      "metadata": {
        "colab": {
          "base_uri": "https://localhost:8080/"
        },
        "id": "edCHJowL5gKa",
        "outputId": "85f909f6-19cd-4c02-bc66-b60b4abdc358"
      },
      "execution_count": null,
      "outputs": [
        {
          "output_type": "stream",
          "name": "stdout",
          "text": [
            "M2\n",
            "N3\n",
            "8\n"
          ]
        }
      ]
    },
    {
      "cell_type": "code",
      "source": [
        "x=int(input(\"give a weight \"))\n",
        "y=x%4\n",
        "sum=x-y\n",
        "print(\"Maximum amount of weight he carry in each shipment \",sum)"
      ],
      "metadata": {
        "colab": {
          "base_uri": "https://localhost:8080/"
        },
        "id": "Tmvpdcv06A9Z",
        "outputId": "8ca2a803-f735-48dc-fd5c-4cadeb28a079"
      },
      "execution_count": null,
      "outputs": [
        {
          "output_type": "stream",
          "name": "stdout",
          "text": [
            "give a weight 9\n",
            "Maximum amount of weight he carry in each shipment  8\n"
          ]
        }
      ]
    },
    {
      "cell_type": "code",
      "source": [
        "num1=int(input(\"A\"))\n",
        "num2=int(input(\"B\"))\n",
        "num3=int(input(\"C\"))\n",
        "num4=float(input(\"D\"))\n",
        "sum=num1**num3+num2*num1-num4/3\n",
        "print(sum)"
      ],
      "metadata": {
        "colab": {
          "base_uri": "https://localhost:8080/"
        },
        "id": "cH-xVb1m7V42",
        "outputId": "fad4ba3c-a96c-457f-9fcc-ee8a454a09d0"
      },
      "execution_count": null,
      "outputs": [
        {
          "output_type": "stream",
          "name": "stdout",
          "text": [
            "A2\n",
            "B6\n",
            "C8\n",
            "D1.3\n",
            "267.56666666666666\n"
          ]
        }
      ]
    },
    {
      "cell_type": "code",
      "source": [
        "class dog:\n",
        "  \"\"\"A simple attempt to moder a dog.\"\"\"\n",
        "  def __init__(self,name,age):\n",
        "    \"\"\"Initialize name and age attributes.\"\"\"\n",
        "    self.name=name\n",
        "    self.age=age\n",
        "  def sit(self):\n",
        "    \"\"\"Simulate a dog sitting in response to command.\"\"\"\n",
        "    print(f\"{self.name} is now setting\")\n",
        "  def role_over(self):\n",
        "    \"\"\"simulate rolling over in response to a command.\"\"\"\n",
        "    print(f\"{self.name} rolled over!\")"
      ],
      "metadata": {
        "id": "4tGVexF7j7dT"
      },
      "execution_count": null,
      "outputs": []
    }
  ]
}