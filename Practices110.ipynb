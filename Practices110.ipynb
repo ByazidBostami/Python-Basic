{
  "nbformat": 4,
  "nbformat_minor": 0,
  "metadata": {
    "colab": {
      "provenance": []
    },
    "kernelspec": {
      "name": "python3",
      "display_name": "Python 3"
    },
    "language_info": {
      "name": "python"
    }
  },
  "cells": [
    {
      "cell_type": "code",
      "execution_count": null,
      "metadata": {
        "colab": {
          "base_uri": "https://localhost:8080/"
        },
        "id": "Fq_YV40GF9_5",
        "outputId": "50f91957-0eae-48d0-9f0f-3f62683e92e5"
      },
      "outputs": [
        {
          "output_type": "stream",
          "name": "stdout",
          "text": [
            "1\n",
            "2\n",
            "3\n",
            "4\n",
            "5\n",
            "6\n"
          ]
        }
      ],
      "source": [
        "count=1\n",
        "while count<=5:\n",
        "    print(count)\n",
        "    count+=1\n",
        "print(count)"
      ]
    },
    {
      "cell_type": "code",
      "source": [
        "a=int(input(\"Input first code\"))\n",
        "b=int(input(\"Input second number\"))\n",
        "c=int(input(\"Input third name\"))\n",
        "sum=a+b+c\n",
        "print(sum/3)"
      ],
      "metadata": {
        "colab": {
          "base_uri": "https://localhost:8080/"
        },
        "id": "Aotx40eglVJg",
        "outputId": "48ab96c4-7506-4484-fbe4-f1a1d469c3dc"
      },
      "execution_count": null,
      "outputs": [
        {
          "output_type": "stream",
          "name": "stdout",
          "text": [
            "Input first code77\n",
            "Input second number78\n",
            "Input third name80\n",
            "78.33333333333333\n"
          ]
        }
      ]
    },
    {
      "cell_type": "code",
      "source": [],
      "metadata": {
        "id": "_5cTqIap1EtH"
      },
      "execution_count": null,
      "outputs": []
    },
    {
      "cell_type": "code",
      "source": [
        "count=1\n",
        "while count<=5:\n",
        "  if count==3:\n",
        "    break\n",
        "    print(count)\n",
        "    count+=1"
      ],
      "metadata": {
        "id": "khk7SzKADz_f"
      },
      "execution_count": null,
      "outputs": []
    },
    {
      "cell_type": "code",
      "source": [
        "count=1\n",
        "while count<=4:\n",
        "   print(count,end=\",\")\n",
        "   count+=1\n",
        "print(count)"
      ],
      "metadata": {
        "colab": {
          "base_uri": "https://localhost:8080/"
        },
        "id": "m16oD_BPGHPd",
        "outputId": "fd840c58-460c-4d09-a2c7-ed32058e2b85"
      },
      "execution_count": null,
      "outputs": [
        {
          "output_type": "stream",
          "name": "stdout",
          "text": [
            "1,2,3,4,5\n"
          ]
        }
      ]
    },
    {
      "cell_type": "code",
      "source": [
        "outer=1\n",
        "while outer<=2:\n",
        "  inner=1\n",
        "  while inner<=3:\n",
        "    print(inner)\n",
        "    inner+=1\n",
        "  print(\"inner loop done\")\n",
        "  outer+=1\n",
        "print(\"Outer loop done\")"
      ],
      "metadata": {
        "id": "7312oDhuGo7z",
        "colab": {
          "base_uri": "https://localhost:8080/"
        },
        "outputId": "dcc7bac4-fa62-495f-9489-7cf69bf9258c"
      },
      "execution_count": null,
      "outputs": [
        {
          "output_type": "stream",
          "name": "stdout",
          "text": [
            "1\n",
            "2\n",
            "3\n",
            "inner loop done\n",
            "1\n",
            "2\n",
            "3\n",
            "inner loop done\n",
            "Outer loop done\n"
          ]
        }
      ]
    },
    {
      "cell_type": "code",
      "source": [
        "outer=1\n",
        "while outer<=2:\n",
        "  inner=1\n",
        "  while inner<=3:\n",
        "    print(outer,\"=\",inner)\n",
        "    inner+=1\n",
        "  print(\"Inner loop done\")\n",
        "  outer+=1\n",
        "print(\"Outer loop done\")\n",
        "print(inner,outer)"
      ],
      "metadata": {
        "colab": {
          "base_uri": "https://localhost:8080/"
        },
        "id": "w5gbl5HdAN-L",
        "outputId": "c578f903-5be7-4b0e-9743-1e1d8005ed80"
      },
      "execution_count": null,
      "outputs": [
        {
          "output_type": "stream",
          "name": "stdout",
          "text": [
            "1 = 1\n",
            "1 = 2\n",
            "1 = 3\n",
            "Inner loop done\n",
            "2 = 1\n",
            "2 = 2\n",
            "2 = 3\n",
            "Inner loop done\n",
            "Outer loop done\n",
            "4 3\n"
          ]
        }
      ]
    },
    {
      "cell_type": "code",
      "source": [
        "count=1\n",
        "while count<=4:\n",
        "  if count==3:\n",
        "   break\n",
        "  print(count)\n",
        "  count+=1"
      ],
      "metadata": {
        "colab": {
          "base_uri": "https://localhost:8080/"
        },
        "id": "ILwS8ydN1GHC",
        "outputId": "e996130e-1951-45a8-c6e7-48ef9d7e1f3b"
      },
      "execution_count": null,
      "outputs": [
        {
          "output_type": "stream",
          "name": "stdout",
          "text": [
            "1\n",
            "2\n"
          ]
        }
      ]
    },
    {
      "cell_type": "code",
      "source": [
        "count = 24\n",
        "while count >= -6:\n",
        "    if count == -6:\n",
        "        print(count, end=\"\")\n",
        "    else:\n",
        "        print(count, end=\", \")\n",
        "    count = count - 6"
      ],
      "metadata": {
        "colab": {
          "base_uri": "https://localhost:8080/"
        },
        "id": "GJY_95wYgxiY",
        "outputId": "8f2b8410-6910-4efa-b342-0eb2900578e2"
      },
      "execution_count": null,
      "outputs": [
        {
          "output_type": "stream",
          "name": "stdout",
          "text": [
            "24, 18, 12, 6, 0, -6"
          ]
        }
      ]
    },
    {
      "cell_type": "code",
      "source": [
        "for num in range(18, 64, 9):\n",
        "    if num <= 63:\n",
        "        if num % 2 == 0:\n",
        "            print(num, end=\",\")\n",
        "        else:\n",
        "            if num == 63:\n",
        "                print(num * -1, end=\"\")\n",
        "            else:\n",
        "                print(num * -1, end=\",\")\n",
        "\n"
      ],
      "metadata": {
        "colab": {
          "base_uri": "https://localhost:8080/"
        },
        "id": "9kY_GKSponTh",
        "outputId": "6b207b62-21c9-497e-c629-3d56567ed914"
      },
      "execution_count": null,
      "outputs": [
        {
          "output_type": "stream",
          "name": "stdout",
          "text": [
            "18,-27,36,-45,54,-63"
          ]
        }
      ]
    },
    {
      "cell_type": "code",
      "source": [
        "x=input(\"Name\")\n",
        "y=int(input(\"Input a number\"))\n",
        "for y in range(y+1):\n",
        "  print(x)"
      ],
      "metadata": {
        "colab": {
          "base_uri": "https://localhost:8080/"
        },
        "id": "dPsz9F1Jrjmt",
        "outputId": "19fd4889-67c2-43b6-d5ab-bec9a41b180a"
      },
      "execution_count": null,
      "outputs": [
        {
          "output_type": "stream",
          "name": "stdout",
          "text": [
            "NameByazid\n",
            "Input a number5\n",
            "Byazid\n",
            "Byazid\n",
            "Byazid\n",
            "Byazid\n",
            "Byazid\n",
            "Byazid\n"
          ]
        }
      ]
    },
    {
      "cell_type": "code",
      "source": [
        "sum=0\n",
        "for i in range(601):\n",
        "  if(i%7==0 and i%9==0):\n",
        "    sum=sum-i\n",
        "  if(i%7==0 or i%9==0):\n",
        "    sum=sum+i\n",
        "print(sum)"
      ],
      "metadata": {
        "colab": {
          "base_uri": "https://localhost:8080/"
        },
        "id": "YkEWCcdnuGOb",
        "outputId": "ea0432a5-a67e-4d8a-8da1-aa1235fcc7d5"
      },
      "execution_count": null,
      "outputs": [
        {
          "output_type": "stream",
          "name": "stdout",
          "text": [
            "39814\n"
          ]
        }
      ]
    },
    {
      "cell_type": "code",
      "source": [
        "num=int(input(\"Give=\"))\n",
        "sum=0\n",
        "for i in range(1,num+1):\n",
        "  if i%2==0:\n",
        "    sum=sum-i**2\n",
        "  else:\n",
        "    sum=y+i**2\n",
        "  print(sum)"
      ],
      "metadata": {
        "colab": {
          "base_uri": "https://localhost:8080/"
        },
        "id": "fFYCgtUFypWx",
        "outputId": "9deff0bd-2c18-418c-8a47-5331dec7b523"
      },
      "execution_count": null,
      "outputs": [
        {
          "output_type": "stream",
          "name": "stdout",
          "text": [
            "Give=45\n",
            "6\n",
            "2\n",
            "14\n",
            "-2\n",
            "30\n",
            "-6\n",
            "54\n",
            "-10\n",
            "86\n",
            "-14\n",
            "126\n",
            "-18\n",
            "174\n",
            "-22\n",
            "230\n",
            "-26\n",
            "294\n",
            "-30\n",
            "366\n",
            "-34\n",
            "446\n",
            "-38\n",
            "534\n",
            "-42\n",
            "630\n",
            "-46\n",
            "734\n",
            "-50\n",
            "846\n",
            "-54\n",
            "966\n",
            "-58\n",
            "1094\n",
            "-62\n",
            "1230\n",
            "-66\n",
            "1374\n",
            "-70\n",
            "1526\n",
            "-74\n",
            "1686\n",
            "-78\n",
            "1854\n",
            "-82\n",
            "2030\n"
          ]
        }
      ]
    },
    {
      "cell_type": "code",
      "source": [
        "num = int(input(\"Input a number\"))\n",
        "sum = 0\n",
        "for i in range(num):\n",
        "    num1 = int(input(\"Please give another number\"))\n",
        "    if i == 0:\n",
        "        maxi = num1\n",
        "        mini = num1\n",
        "    else:\n",
        "        if num1 > maxi:\n",
        "            maxi = num1\n",
        "        if num1 < mini:\n",
        "            mini = num1\n",
        "    sum += num1\n",
        "print(maxi, mini)\n",
        "print(sum / num)"
      ],
      "metadata": {
        "colab": {
          "base_uri": "https://localhost:8080/"
        },
        "id": "cYeDgXx98N9y",
        "outputId": "e62bd8e4-3399-449c-8bcd-c17300320c88"
      },
      "execution_count": null,
      "outputs": [
        {
          "output_type": "stream",
          "name": "stdout",
          "text": [
            "Input a number5\n",
            "Please give another number9\n",
            "Please give another number8\n",
            "Please give another number7\n",
            "Please give another number2\n",
            "Please give another number1\n",
            "9 1\n",
            "5.4\n"
          ]
        }
      ]
    },
    {
      "cell_type": "code",
      "source": [
        "row=int(input(\"Give how many Rows\"))\n",
        "col=int(input(\"How many colums\"))\n",
        "for r in range(row):\n",
        "  for c in range(col):\n",
        "    print(c,end=\" \")\n",
        "  print()\n",
        ""
      ],
      "metadata": {
        "colab": {
          "base_uri": "https://localhost:8080/"
        },
        "id": "MEAsI4rADHED",
        "outputId": "da1aedcb-e1c7-4d6c-e910-bf1b1f0b8574"
      },
      "execution_count": null,
      "outputs": [
        {
          "output_type": "stream",
          "name": "stdout",
          "text": [
            "Give how many Rows20\n",
            "How many colums20\n",
            "0 1 2 3 4 5 6 7 8 9 10 11 12 13 14 15 16 17 18 19 \n",
            "0 1 2 3 4 5 6 7 8 9 10 11 12 13 14 15 16 17 18 19 \n",
            "0 1 2 3 4 5 6 7 8 9 10 11 12 13 14 15 16 17 18 19 \n",
            "0 1 2 3 4 5 6 7 8 9 10 11 12 13 14 15 16 17 18 19 \n",
            "0 1 2 3 4 5 6 7 8 9 10 11 12 13 14 15 16 17 18 19 \n",
            "0 1 2 3 4 5 6 7 8 9 10 11 12 13 14 15 16 17 18 19 \n",
            "0 1 2 3 4 5 6 7 8 9 10 11 12 13 14 15 16 17 18 19 \n",
            "0 1 2 3 4 5 6 7 8 9 10 11 12 13 14 15 16 17 18 19 \n",
            "0 1 2 3 4 5 6 7 8 9 10 11 12 13 14 15 16 17 18 19 \n",
            "0 1 2 3 4 5 6 7 8 9 10 11 12 13 14 15 16 17 18 19 \n",
            "0 1 2 3 4 5 6 7 8 9 10 11 12 13 14 15 16 17 18 19 \n",
            "0 1 2 3 4 5 6 7 8 9 10 11 12 13 14 15 16 17 18 19 \n",
            "0 1 2 3 4 5 6 7 8 9 10 11 12 13 14 15 16 17 18 19 \n",
            "0 1 2 3 4 5 6 7 8 9 10 11 12 13 14 15 16 17 18 19 \n",
            "0 1 2 3 4 5 6 7 8 9 10 11 12 13 14 15 16 17 18 19 \n",
            "0 1 2 3 4 5 6 7 8 9 10 11 12 13 14 15 16 17 18 19 \n",
            "0 1 2 3 4 5 6 7 8 9 10 11 12 13 14 15 16 17 18 19 \n",
            "0 1 2 3 4 5 6 7 8 9 10 11 12 13 14 15 16 17 18 19 \n",
            "0 1 2 3 4 5 6 7 8 9 10 11 12 13 14 15 16 17 18 19 \n",
            "0 1 2 3 4 5 6 7 8 9 10 11 12 13 14 15 16 17 18 19 \n"
          ]
        }
      ]
    },
    {
      "cell_type": "code",
      "source": [
        "row=int(input(\"How many rows\"))\n",
        "for r in range(1,row+1):\n",
        "  for c in range(1,r+1):\n",
        "    print(c,end=\" \")\n",
        "  print()"
      ],
      "metadata": {
        "colab": {
          "base_uri": "https://localhost:8080/"
        },
        "id": "HY-Ya5A5I1D7",
        "outputId": "32083596-8ad7-437a-9253-0ec357830503"
      },
      "execution_count": null,
      "outputs": [
        {
          "output_type": "stream",
          "name": "stdout",
          "text": [
            "How many rowa20\n",
            "1\n",
            "12\n",
            "123\n",
            "1234\n",
            "12345\n",
            "123456\n",
            "1234567\n",
            "12345678\n",
            "123456789\n",
            "12345678910\n",
            "1234567891011\n",
            "123456789101112\n",
            "12345678910111213\n",
            "1234567891011121314\n",
            "123456789101112131415\n",
            "12345678910111213141516\n",
            "1234567891011121314151617\n",
            "123456789101112131415161718\n",
            "12345678910111213141516171819\n",
            "1234567891011121314151617181920\n"
          ]
        }
      ]
    },
    {
      "cell_type": "code",
      "source": [
        "row= int(input(\"Enter how many rows: \"))\n",
        "\n",
        "for r in range(1, row+1):\n",
        "    for c in range(1, r+1):\n",
        "        print(c, end=' ')\n",
        "    print()\n"
      ],
      "metadata": {
        "colab": {
          "base_uri": "https://localhost:8080/"
        },
        "id": "3-ECJslBKVFk",
        "outputId": "a347717d-6cca-4633-9016-c0025e235b18"
      },
      "execution_count": null,
      "outputs": [
        {
          "output_type": "stream",
          "name": "stdout",
          "text": [
            "Enter how many rows: 3\n",
            "1 \n",
            "1 2 \n",
            "1 2 3 \n"
          ]
        }
      ]
    },
    {
      "cell_type": "code",
      "source": [
        "mystr = \"CSE110\"\n",
        "for i in range(len(mystr)):\n",
        "  print(mystr[i],end=\" \")"
      ],
      "metadata": {
        "colab": {
          "base_uri": "https://localhost:8080/"
        },
        "id": "wM9Hz36JBJGz",
        "outputId": "801bb697-7d7b-4e4a-dab7-90b2e889d6f4"
      },
      "execution_count": null,
      "outputs": [
        {
          "output_type": "stream",
          "name": "stdout",
          "text": [
            "C S E 1 1 0 "
          ]
        }
      ]
    },
    {
      "cell_type": "code",
      "source": [
        "print(11+13-(151+7/3)/3.0%2)"
      ],
      "metadata": {
        "colab": {
          "base_uri": "https://localhost:8080/"
        },
        "id": "3ay0dve_j190",
        "outputId": "04c6f306-76cf-4cd8-9daf-59e1074d55e5"
      },
      "execution_count": null,
      "outputs": [
        {
          "output_type": "stream",
          "name": "stdout",
          "text": [
            "22.888888888888886\n"
          ]
        }
      ]
    },
    {
      "cell_type": "code",
      "source": [],
      "metadata": {
        "id": "rnj9ETvRkb5A"
      },
      "execution_count": null,
      "outputs": []
    },
    {
      "cell_type": "code",
      "source": [
        "print(3%1)"
      ],
      "metadata": {
        "colab": {
          "base_uri": "https://localhost:8080/"
        },
        "id": "hKtFXnqAkagD",
        "outputId": "505633e0-b00c-41a8-f164-d428ac17e18f"
      },
      "execution_count": null,
      "outputs": [
        {
          "output_type": "stream",
          "name": "stdout",
          "text": [
            "0\n"
          ]
        }
      ]
    },
    {
      "cell_type": "code",
      "source": [
        "x = 0\n",
        "p =0\n",
        "sum = 0\n",
        "p = 1\n",
        "x = 2\n",
        "q = None\n",
        "sum = 0\n",
        "while p < 12:\n",
        "    q = x + p - (sum + 7 / 3) / 3.0 % 2\n",
        "    sum = sum + x + int(q)\n",
        "    x += 1\n",
        "    print(sum)\n",
        "    if x > 5:\n",
        "        p += 4 / 2\n",
        "    else:\n",
        "        p += (3 % 1)\n",
        "sum = int(sum + p)\n",
        "print(sum)\n",
        "\n"
      ],
      "metadata": {
        "colab": {
          "base_uri": "https://localhost:8080/"
        },
        "id": "nHdSSVoCVfKt",
        "outputId": "9b3080f6-3e0b-4d26-f536-58c22d5cb3ce"
      },
      "execution_count": null,
      "outputs": [
        {
          "output_type": "stream",
          "name": "stdout",
          "text": [
            "4\n",
            "10\n",
            "18\n",
            "28\n",
            "42\n",
            "60\n",
            "82\n",
            "108\n",
            "138\n",
            "151\n"
          ]
        }
      ]
    },
    {
      "cell_type": "code",
      "source": [
        "x = y = 0\n",
        "sum = 0\n",
        "while (x < 10):\n",
        "  y = x - 3\n",
        "  while (y < 3):\n",
        "    sum = x - y * 2\n",
        "    print(sum)\n",
        "    y = y + 1\n",
        "  if (x > 7):\n",
        "    x += 1\n",
        "  else:\n",
        "    x += 3\n",
        "sum = x - y * 2\n",
        "print(sum)\n",
        "\n"
      ],
      "metadata": {
        "colab": {
          "base_uri": "https://localhost:8080/"
        },
        "id": "0zVbpbrj2JJD",
        "outputId": "74c71ab7-b9dd-476a-aecf-d3f5480c20ab"
      },
      "execution_count": null,
      "outputs": [
        {
          "output_type": "stream",
          "name": "stdout",
          "text": [
            "6\n",
            "4\n",
            "2\n",
            "0\n",
            "-2\n",
            "-4\n",
            "3\n",
            "1\n",
            "-1\n",
            "-2\n"
          ]
        }
      ]
    },
    {
      "cell_type": "code",
      "source": [
        "x = 0\n",
        "p = 0\n",
        "sum = 0\n",
        "p = 1\n",
        "x = 2\n",
        "q = 0.0\n",
        "sum = 0\n",
        "while (p < 10) :\n",
        "  q = x + p - (sum + int(5 / 3)) / 3.0 % 2\n",
        "  sum = sum + x + int(q)\n",
        "  x += 1\n",
        "  print(sum)\n",
        "  if (x > 5) :\n",
        "    p += int(4 / 2)\n",
        "  else :\n",
        "    p += 3 % 1\n",
        "sum = sum + p\n",
        "print(sum)\n",
        "\n"
      ],
      "metadata": {
        "colab": {
          "base_uri": "https://localhost:8080/"
        },
        "id": "pNyXHN7E2mY2",
        "outputId": "a81cd23e-c13d-4bda-ef99-924b6de812c7"
      },
      "execution_count": null,
      "outputs": [
        {
          "output_type": "stream",
          "name": "stdout",
          "text": [
            "4\n",
            "9\n",
            "16\n",
            "25\n",
            "39\n",
            "56\n",
            "78\n",
            "104\n",
            "115\n"
          ]
        }
      ]
    },
    {
      "cell_type": "code",
      "source": [
        "print(11 + 13 - (104 + int(5 / 3)) / 3.0 % 2)"
      ],
      "metadata": {
        "colab": {
          "base_uri": "https://localhost:8080/"
        },
        "id": "bP4yLPwU3vO6",
        "outputId": "9ca2887e-d0fd-4e7e-9b4e-cead2f16c5d2"
      },
      "execution_count": null,
      "outputs": [
        {
          "output_type": "stream",
          "name": "stdout",
          "text": [
            "23.0\n"
          ]
        }
      ]
    },
    {
      "cell_type": "code",
      "source": [
        "test = 1\n",
        "j = 0\n",
        "k = 100\n",
        "while (k > 0):\n",
        "  while ( j < k ):\n",
        "    test = k + j -21\n",
        "    print(str(1 + int (test / 2)))\n",
        "    j += 10\n",
        "  k -= 10\n",
        "test = 1\n",
        "j = 0\n",
        "k = 100\n",
        "\n"
      ],
      "metadata": {
        "colab": {
          "base_uri": "https://localhost:8080/"
        },
        "id": "D3eSSVvH53cr",
        "outputId": "d65111d7-b625-40f3-fd72-002dd9056840"
      },
      "execution_count": null,
      "outputs": [
        {
          "output_type": "stream",
          "name": "stdout",
          "text": [
            "40\n",
            "45\n",
            "50\n",
            "55\n",
            "60\n",
            "65\n",
            "70\n",
            "75\n",
            "80\n",
            "85\n"
          ]
        }
      ]
    },
    {
      "cell_type": "code",
      "source": [
        "x = 0\n",
        "y = 0\n",
        "sum = 0\n",
        "p = 0.0\n",
        "while (x < 10):\n",
        "    y = x // 2\n",
        "    while (y < x):\n",
        "        p = (x + 10.0) / 2\n",
        "        sum = (sum % 2) + x - y * 2 + int(p)\n",
        "        print(sum)\n",
        "        y = y + 2\n",
        "    if (x > 5):\n",
        "        x += 1\n",
        "    else:\n",
        "        x += 2\n",
        "\n"
      ],
      "metadata": {
        "id": "uh2VfZUD6nEr",
        "outputId": "892355a6-f594-4241-d2ab-f6251091c6b5",
        "colab": {
          "base_uri": "https://localhost:8080/"
        }
      },
      "execution_count": null,
      "outputs": [
        {
          "output_type": "stream",
          "name": "stdout",
          "text": [
            "6\n",
            "7\n",
            "9\n",
            "5\n",
            "10\n",
            "5\n",
            "10\n",
            "5\n",
            "11\n",
            "7\n",
            "3\n"
          ]
        }
      ]
    },
    {
      "cell_type": "code",
      "source": [
        "print(\"hello world\")"
      ],
      "metadata": {
        "colab": {
          "base_uri": "https://localhost:8080/"
        },
        "id": "YRIdlCh6ssV7",
        "outputId": "0c358946-0904-475d-a643-34cbc24db5a7"
      },
      "execution_count": null,
      "outputs": [
        {
          "output_type": "stream",
          "name": "stdout",
          "text": [
            "hello world\n"
          ]
        }
      ]
    },
    {
      "cell_type": "code",
      "source": [
        "print(54+56)"
      ],
      "metadata": {
        "colab": {
          "base_uri": "https://localhost:8080/"
        },
        "id": "2WqOZ9cJtq22",
        "outputId": "0d7778d2-fcd3-4e51-871a-47b2602e939b"
      },
      "execution_count": null,
      "outputs": [
        {
          "output_type": "stream",
          "name": "stdout",
          "text": [
            "110\n"
          ]
        }
      ]
    },
    {
      "cell_type": "code",
      "source": [
        "season='Fall'\n",
        "year='2022'\n",
        "print(season,year)"
      ],
      "metadata": {
        "colab": {
          "base_uri": "https://localhost:8080/"
        },
        "id": "KOMgTWGutxOr",
        "outputId": "d7f8faf3-d027-4ec1-ff9c-ef2f046f7c79"
      },
      "execution_count": null,
      "outputs": [
        {
          "output_type": "stream",
          "name": "stdout",
          "text": [
            "Fall 2022\n"
          ]
        }
      ]
    },
    {
      "cell_type": "code",
      "source": [
        "num=input(\"Enter your name:\")\n",
        "print(\"Your name is\",num)"
      ],
      "metadata": {
        "colab": {
          "base_uri": "https://localhost:8080/"
        },
        "id": "wCECnxQCuiUJ",
        "outputId": "e8965f8e-70a9-466c-d817-656225f53631"
      },
      "execution_count": null,
      "outputs": [
        {
          "output_type": "stream",
          "name": "stdout",
          "text": [
            "Enter your name:John\n",
            "Your name is John\n"
          ]
        }
      ]
    },
    {
      "cell_type": "code",
      "source": [
        "m=int(input(\"M\"))\n",
        "n=int(input(\"N\"))\n",
        "sum=m**n\n",
        "print(str(m)+\"^\"+str(n)+\":\"+str(sum))"
      ],
      "metadata": {
        "colab": {
          "base_uri": "https://localhost:8080/"
        },
        "id": "arVZlwjAu6GA",
        "outputId": "aa30b8d4-2d74-44b6-ce2f-bcb799ffd910"
      },
      "execution_count": null,
      "outputs": [
        {
          "output_type": "stream",
          "name": "stdout",
          "text": [
            "M10\n",
            "N3\n",
            "10^3:1000\n"
          ]
        }
      ]
    },
    {
      "cell_type": "code",
      "source": [
        "input_weight=int(input(\"Input total weight:\"))\n",
        "sum=input_weight%4\n",
        "print(\" apability of boat\",input_weight-sum)"
      ],
      "metadata": {
        "colab": {
          "base_uri": "https://localhost:8080/"
        },
        "id": "6gnVmky2wqf_",
        "outputId": "f761eba0-e80a-4ec7-fcb7-276be875d9b9"
      },
      "execution_count": null,
      "outputs": [
        {
          "output_type": "stream",
          "name": "stdout",
          "text": [
            "Input total weight:23\n",
            " apability of boat 20\n"
          ]
        }
      ]
    },
    {
      "cell_type": "code",
      "source": [
        "a=int(input(\"A:\"))\n",
        "b=int(input(\"B:\"))\n",
        "c=int(input(\"C:\"))\n",
        "d=float(input(\"D:\"))\n",
        "sum=a**c+b*a-d/3\n",
        "print(sum)"
      ],
      "metadata": {
        "colab": {
          "base_uri": "https://localhost:8080/"
        },
        "id": "kNZOMoet0BBw",
        "outputId": "50ee49d0-4f11-4d7c-b9b4-36c9338ada07"
      },
      "execution_count": null,
      "outputs": [
        {
          "output_type": "stream",
          "name": "stdout",
          "text": [
            "A:9\n",
            "B:100\n",
            "C:1\n",
            "D:3.7\n",
            "907.7666666666667\n"
          ]
        }
      ]
    },
    {
      "cell_type": "code",
      "source": [
        "num=int(input(\"How many chocolate:\"))\n",
        "print(\"Each friend will receive\",num//3,\"chocolates\")\n",
        "print(\"The number of remaining chocolate is\",num%3)"
      ],
      "metadata": {
        "colab": {
          "base_uri": "https://localhost:8080/"
        },
        "id": "BDPq6o0G1DIC",
        "outputId": "46b0f6f7-2190-4e6f-a618-7e0e82af9618"
      },
      "execution_count": null,
      "outputs": [
        {
          "output_type": "stream",
          "name": "stdout",
          "text": [
            "How many chocolate:50\n",
            "Each friend will receive 16 chocolates\n",
            "The number of remaining chocolate is 2\n"
          ]
        }
      ]
    },
    {
      "cell_type": "code",
      "source": [
        "m=input(\"M:\")\n",
        "n=input(\"N:\")\n",
        "print(str(n)+str(m))"
      ],
      "metadata": {
        "id": "72wypiJ_3STj",
        "colab": {
          "base_uri": "https://localhost:8080/"
        },
        "outputId": "54e78c25-ce48-462d-93c4-b9885eab9005"
      },
      "execution_count": null,
      "outputs": [
        {
          "output_type": "stream",
          "name": "stdout",
          "text": [
            "M:python\n",
            "N:3\n",
            "3python\n"
          ]
        }
      ]
    },
    {
      "cell_type": "code",
      "source": [
        "var=input(\"Input something:\")\n",
        "m=len(var)\n",
        "print(var[0])"
      ],
      "metadata": {
        "id": "ZQ97VXae3SOi",
        "colab": {
          "base_uri": "https://localhost:8080/"
        },
        "outputId": "a4f2d8a9-9225-4a75-ea7b-5189f32af3de"
      },
      "execution_count": null,
      "outputs": [
        {
          "output_type": "stream",
          "name": "stdout",
          "text": [
            "Input something:The quic brown fox jumps over the lazy dog\n",
            "T\n"
          ]
        }
      ]
    },
    {
      "cell_type": "code",
      "source": [
        "num=int(input(\"Input a number for check:\"))\n",
        "if num%2==0:\n",
        "  print(True)\n",
        "else:\n",
        "  print(False)"
      ],
      "metadata": {
        "colab": {
          "base_uri": "https://localhost:8080/"
        },
        "id": "2DbK7NgUueE3",
        "outputId": "3221dcde-3a80-48d1-d7ba-46f1e58f0d01"
      },
      "execution_count": null,
      "outputs": [
        {
          "output_type": "stream",
          "name": "stdout",
          "text": [
            "Input a number for check:-26\n",
            "True\n"
          ]
        }
      ]
    },
    {
      "cell_type": "markdown",
      "source": [
        "lab 1 complete"
      ],
      "metadata": {
        "id": "flWyrgxRwcHJ"
      }
    },
    {
      "cell_type": "code",
      "source": [
        "num1=int(input(\"Input a Number\"))\n",
        "num2=int(input(\"Input 2nd number\"))\n",
        "sum=num1+num2\n",
        "product=num1*num2\n",
        "difference=num1-num2\n",
        "print(\"Sum=\",sum,\"Product\",product,\"Difference\",difference)"
      ],
      "metadata": {
        "id": "nO1PiPWbwbR0",
        "colab": {
          "base_uri": "https://localhost:8080/"
        },
        "outputId": "0cfeaf13-8d5a-4a74-f821-2a6c679466fd"
      },
      "execution_count": null,
      "outputs": [
        {
          "output_type": "stream",
          "name": "stdout",
          "text": [
            "Input a Number4\n",
            "Input 2nd number5\n",
            "Sum= 9 Product 20 Difference -1\n"
          ]
        }
      ]
    },
    {
      "cell_type": "code",
      "source": [
        "num=float(input(\"Input a number:\"))\n",
        "area=3.1416*num**2\n",
        "cir=2*3.1416*num\n",
        "print(\"Area is\",area,\"Circumference\",cir)"
      ],
      "metadata": {
        "id": "auHW471ru18Z",
        "colab": {
          "base_uri": "https://localhost:8080/"
        },
        "outputId": "37b27c0e-3350-42bc-cf22-1d6058c1704d"
      },
      "execution_count": null,
      "outputs": [
        {
          "output_type": "stream",
          "name": "stdout",
          "text": [
            "Input a number:3.5\n",
            "Area is 38.4846 Circumference 21.9912\n"
          ]
        }
      ]
    },
    {
      "cell_type": "code",
      "source": [
        "num1=int(input(\"Input a number:\"))\n",
        "num2=int(input(\"Input a number:\"))\n",
        "if num1>num2:\n",
        "  print(\"First one is greater\")\n",
        "elif num2>num1:\n",
        "  print(\"Second one is greater\")\n",
        "else:\n",
        "  print(\"The number are equal\")"
      ],
      "metadata": {
        "colab": {
          "base_uri": "https://localhost:8080/"
        },
        "id": "vxLWrxroZM3s",
        "outputId": "77818160-9760-4773-b297-b8932fac87e8"
      },
      "execution_count": null,
      "outputs": [
        {
          "output_type": "stream",
          "name": "stdout",
          "text": [
            "Input a number:11\n",
            "Input a number:11\n",
            "The number are equal\n"
          ]
        }
      ]
    },
    {
      "cell_type": "code",
      "source": [
        "num1=int(input(\"Input a number:\"))\n",
        "num2=int(input(\"Inpur a number:\"))\n",
        "if num1>num2:\n",
        "  print(num1-num2)\n",
        "else:\n",
        "  print(num2-num1)\n"
      ],
      "metadata": {
        "colab": {
          "base_uri": "https://localhost:8080/"
        },
        "id": "iUN7oVHEaaif",
        "outputId": "65d4af3b-af74-4098-ae31-7f1406567b2f"
      },
      "execution_count": null,
      "outputs": [
        {
          "output_type": "stream",
          "name": "stdout",
          "text": [
            "Input a number:-40\n",
            "Inpur a number:-4\n",
            "36\n"
          ]
        }
      ]
    },
    {
      "cell_type": "code",
      "source": [
        "num=int(input(\"Input a Number:\"))\n",
        "if num%2==0:\n",
        "  print(\"The num is even\")\n",
        "else:\n",
        "  print(\"Number is odd\")\n"
      ],
      "metadata": {
        "colab": {
          "base_uri": "https://localhost:8080/"
        },
        "id": "OHlUKPzldPoW",
        "outputId": "d13b6ac9-e424-4c3d-f694-9cf6130d0066"
      },
      "execution_count": null,
      "outputs": [
        {
          "output_type": "stream",
          "name": "stdout",
          "text": [
            "Input a Number:7\n",
            "Number is odd\n"
          ]
        }
      ]
    },
    {
      "cell_type": "code",
      "source": [
        "num=int(input(\"Input a Number:\"))\n",
        "if num%2==0 or num%5==0:\n",
        "  print(num)\n",
        "else:\n",
        "  print(\"Not a multiple of 2 or 5\")"
      ],
      "metadata": {
        "colab": {
          "base_uri": "https://localhost:8080/"
        },
        "id": "MtdPrWxTmQu6",
        "outputId": "f14f04ca-cb1e-4891-f33b-d60d9b83dadf"
      },
      "execution_count": null,
      "outputs": [
        {
          "output_type": "stream",
          "name": "stdout",
          "text": [
            "Input a Number:10\n",
            "10\n"
          ]
        }
      ]
    },
    {
      "cell_type": "code",
      "source": [
        "num=int(input(\"Input a Number:\"))\n",
        "if num%2==0 and num%5==0:\n",
        "  print(\"Multiple of 2 and 5 both\")\n",
        "elif num%2==0 or num%5==0:\n",
        "  print(\"num\")\n",
        "elif (num%2!=0 and num%5!=0):\n",
        "  print(\"Not a multiplw we want\")"
      ],
      "metadata": {
        "id": "YPBZ5X0YqAcP",
        "colab": {
          "base_uri": "https://localhost:8080/"
        },
        "outputId": "e40e0c1a-c9c9-4b5e-b177-4ada1c8f0d00"
      },
      "execution_count": null,
      "outputs": [
        {
          "output_type": "stream",
          "name": "stdout",
          "text": [
            "Input a Number10\n",
            "Multiple of 2 and 5 both\n"
          ]
        }
      ]
    },
    {
      "cell_type": "code",
      "source": [
        "num=int(input(\"Please input a number:\"))\n",
        "if num%2==0 and num%5==0:\n",
        "  print(num)\n",
        "else:\n",
        "  print(\"Not multiple of 2 and 5 both\")"
      ],
      "metadata": {
        "colab": {
          "base_uri": "https://localhost:8080/"
        },
        "id": "LGVB-KBd1WyH",
        "outputId": "00e17c03-0eb9-4a03-cf43-b70f2d56ab26"
      },
      "execution_count": null,
      "outputs": [
        {
          "output_type": "stream",
          "name": "stdout",
          "text": [
            "Please input a number:15\n",
            "Not multiple of 2 and 5 both\n"
          ]
        }
      ]
    },
    {
      "cell_type": "code",
      "source": [
        "num1=int(input(\"Please input a number:\"))\n",
        "num2=int(input(\"Please input a number:\"))\n",
        "print(\"Sum\",num1+num2,\"Product\",num1*num2,\"Difference\",num1-num2)"
      ],
      "metadata": {
        "id": "AC50Nzu76SZn",
        "colab": {
          "base_uri": "https://localhost:8080/"
        },
        "outputId": "1f28a04f-f23f-4324-eec4-fe69ea5636b1"
      },
      "execution_count": null,
      "outputs": [
        {
          "output_type": "stream",
          "name": "stdout",
          "text": [
            "Please input a number:25\n",
            "Please input a number:12\n",
            "Sum 37 Product 300 Difference 13\n"
          ]
        }
      ]
    },
    {
      "cell_type": "code",
      "source": [
        "email=input('Please input your mail address:')\n",
        "password=input('Please enter your password:')\n",
        "if email=='hello@byazid.com' and 'password==byazid@123':\n",
        "  print('Welcome, You are successfully login')\n",
        "else:\n",
        "  print('Wrong gmail or password')"
      ],
      "metadata": {
        "colab": {
          "base_uri": "https://localhost:8080/"
        },
        "id": "V8dEdyEpZSgN",
        "outputId": "c3f63527-bdbd-49d5-ee8a-447e15a1e3ee"
      },
      "execution_count": null,
      "outputs": [
        {
          "output_type": "stream",
          "name": "stdout",
          "text": [
            "Please input your mail address:hello1@gmail.com\n",
            "Please enter your password:porrsssajjj\n",
            "Wrong gmail or password\n"
          ]
        }
      ]
    },
    {
      "cell_type": "code",
      "source": [
        "a=int(input(\"Please input your desire number:\"))\n",
        "b=int(input(\"Please input your desire number:\"))\n",
        "c=int(input(\"Please input your desire number:\"))\n",
        "if a+b>c and b+c>a and c+a>b:\n",
        "  print(\"Valid triangle\")\n",
        "else:\n",
        "  print(\"Not a valid triangle\")"
      ],
      "metadata": {
        "colab": {
          "base_uri": "https://localhost:8080/"
        },
        "id": "x6IbuBidafeP",
        "outputId": "a6d84d6f-df93-422f-8a3e-7b8274d8a0db"
      },
      "execution_count": null,
      "outputs": [
        {
          "output_type": "stream",
          "name": "stdout",
          "text": [
            "Please input your desire number:2\n",
            "Please input your desire number:4\n",
            "Please input your desire number:3\n",
            "Valid triangle\n"
          ]
        }
      ]
    },
    {
      "cell_type": "code",
      "source": [
        "start = 18\n",
        "\n",
        "while start < 64:\n",
        "  if start % 2 == 0:\n",
        "    print(start, end=\",\")\n",
        "  else:\n",
        "    print(start * (-1), end=\",\")\n",
        "  start += 9\n",
        "\n",
        "\n",
        "\n"
      ],
      "metadata": {
        "colab": {
          "base_uri": "https://localhost:8080/"
        },
        "id": "dLM9vXVwF1UW",
        "outputId": "ac284b06-a84d-4100-d4e3-38fbe9c592b4"
      },
      "execution_count": null,
      "outputs": [
        {
          "output_type": "stream",
          "name": "stdout",
          "text": [
            "18,-27,36,-45,54,-63,"
          ]
        }
      ]
    },
    {
      "cell_type": "code",
      "source": [
        "n=int(input(\"Please input a number:\"))\n",
        "sum=0\n",
        "for i in range(1,n+1):\n",
        "  if i%2==0:\n",
        "    sum=sum-i*i\n",
        "  else:\n",
        "    sum=sum+i*i\n",
        "print(sum)"
      ],
      "metadata": {
        "colab": {
          "base_uri": "https://localhost:8080/"
        },
        "id": "YcQXEdP0qbhS",
        "outputId": "d56caa67-550f-49ee-ed3b-7b55472e31d1"
      },
      "execution_count": null,
      "outputs": [
        {
          "output_type": "stream",
          "name": "stdout",
          "text": [
            "Please input a number:3\n",
            "6\n"
          ]
        }
      ]
    },
    {
      "cell_type": "code",
      "source": [
        "sum=0\n",
        "count=0\n",
        "for start in range(1,11):\n",
        "  user=int(input('Please input a number :'))\n",
        "  sum=sum+user\n",
        "  count=count+1\n",
        "avg=sum/count\n",
        "print('sum',sum,'avarage',avg)"
      ],
      "metadata": {
        "colab": {
          "base_uri": "https://localhost:8080/"
        },
        "id": "LXKlWzS4ua_f",
        "outputId": "28c38e89-3ae3-4a6d-b14c-bbb9be59338e"
      },
      "execution_count": null,
      "outputs": [
        {
          "output_type": "stream",
          "name": "stdout",
          "text": [
            "Please input a number :10\n",
            "Please input a number :20\n",
            "Please input a number :30\n",
            "Please input a number :40\n",
            "Please input a number :50\n",
            "Please input a number :60\n",
            "Please input a number :70\n",
            "Please input a number :80\n",
            "Please input a number :90\n",
            "Please input a number :100\n",
            "sum 550 avarage 55.0\n"
          ]
        }
      ]
    },
    {
      "cell_type": "code",
      "source": [
        "user=int(input('Please give a number'))\n",
        "precount=0\n",
        "backup=user\n",
        "while backup>0:\n",
        "  backup=backup//10\n",
        "  precount=precount+1\n",
        "print('The total digit is=',precount)\n",
        "postcount=0\n",
        "postcount=precount-1\n",
        "while user>0:\n",
        "  number=user//10**postcount\n",
        "  user=user%10**postcount\n",
        "  postcount=postcount-1\n",
        "  print('current situation is',user)\n",
        "  print('Those numbers are',number)\n",
        ""
      ],
      "metadata": {
        "colab": {
          "base_uri": "https://localhost:8080/"
        },
        "id": "-jhjA72OQvKk",
        "outputId": "321e4b00-e163-46e0-944c-2cf30613c7f8"
      },
      "execution_count": null,
      "outputs": [
        {
          "output_type": "stream",
          "name": "stdout",
          "text": [
            "Please give a number23101498\n",
            "The total digit is= 8\n",
            "current situation is 3101498\n",
            "Those numbers are 2\n",
            "current situation is 101498\n",
            "Those numbers are 3\n",
            "current situation is 1498\n",
            "Those numbers are 1\n",
            "current situation is 1498\n",
            "Those numbers are 0\n",
            "current situation is 498\n",
            "Those numbers are 1\n",
            "current situation is 98\n",
            "Those numbers are 4\n",
            "current situation is 8\n",
            "Those numbers are 9\n",
            "current situation is 0\n",
            "Those numbers are 8\n"
          ]
        }
      ]
    },
    {
      "cell_type": "code",
      "source": [
        "row=int(input('Plese input your desir number'))\n",
        "for row_count in range(1,row+1):\n",
        "  for space_count in range(1,(row-row_count)+1):\n",
        "    print(\" \",end='')\n",
        "  for number_count in range(1,(2*row_count-1)+1):\n",
        "    print(number_count,end='') #number_count ভিতোরে যা দেওয়া হবে তাই  print hbe.\n",
        "  print()"
      ],
      "metadata": {
        "colab": {
          "base_uri": "https://localhost:8080/"
        },
        "id": "VwMmfr0ObbzM",
        "outputId": "f5d5c216-7ef6-42af-b7f3-333c9ef8768a"
      },
      "execution_count": null,
      "outputs": [
        {
          "output_type": "stream",
          "name": "stdout",
          "text": [
            "Plese input your desir number20\n",
            "                   1\n",
            "                  123\n",
            "                 12345\n",
            "                1234567\n",
            "               123456789\n",
            "              1234567891011\n",
            "             12345678910111213\n",
            "            123456789101112131415\n",
            "           1234567891011121314151617\n",
            "          12345678910111213141516171819\n",
            "         123456789101112131415161718192021\n",
            "        1234567891011121314151617181920212223\n",
            "       12345678910111213141516171819202122232425\n",
            "      123456789101112131415161718192021222324252627\n",
            "     1234567891011121314151617181920212223242526272829\n",
            "    12345678910111213141516171819202122232425262728293031\n",
            "   123456789101112131415161718192021222324252627282930313233\n",
            "  1234567891011121314151617181920212223242526272829303132333435\n",
            " 12345678910111213141516171819202122232425262728293031323334353637\n",
            "123456789101112131415161718192021222324252627282930313233343536373839\n"
          ]
        }
      ]
    },
    {
      "cell_type": "code",
      "source": [
        "num=int(input(\"Sir,Please enter your desigr number :\"))\n",
        "count=0\n",
        "for divisor in range(1,num+1):\n",
        "  if num%divisor==0:\n",
        "    print(\"The divisors are\",divisor)\n",
        "    count=count+1\n",
        "print(\"Total\",count,\"Divisors\")\n"
      ],
      "metadata": {
        "id": "jcsU_sXfmapa",
        "colab": {
          "base_uri": "https://localhost:8080/"
        },
        "outputId": "5520dc71-b537-4024-e73f-19841af630a3"
      },
      "execution_count": null,
      "outputs": [
        {
          "output_type": "stream",
          "name": "stdout",
          "text": [
            "Sir,Please enter your desigr number :10\n",
            "The divisors are 1\n",
            "The divisors are 2\n",
            "The divisors are 5\n",
            "The divisors are 10\n",
            "Total 4 Divisors\n"
          ]
        }
      ]
    },
    {
      "cell_type": "code",
      "source": [
        "num=int(input(\"Please enter your desire number :\"))\n",
        "sum=0\n",
        "for i in range(1,num):\n",
        "  if num%i==0:\n",
        "    print(i)\n",
        "    sum=sum+i\n",
        "if sum==num:\n",
        "  print('This number is a perfect number')\n",
        "else:\n",
        "  print(\"This is not a perfect number\")"
      ],
      "metadata": {
        "colab": {
          "base_uri": "https://localhost:8080/"
        },
        "id": "RodLGA_zXNgq",
        "outputId": "b219fd51-ef11-4010-9108-3fd15b7404ef"
      },
      "execution_count": null,
      "outputs": [
        {
          "output_type": "stream",
          "name": "stdout",
          "text": [
            "Please enter your desire number :28\n",
            "1\n",
            "2\n",
            "4\n",
            "7\n",
            "14\n",
            "This number is a perfect number\n"
          ]
        }
      ]
    },
    {
      "cell_type": "code",
      "source": [
        "#prime number\n",
        "num=int(input(\"Sir,Please enter your desire number :\"))\n",
        "count=0\n",
        "for i in range(1,num+1):\n",
        "  if num%i==0:\n",
        "    count=count+1\n",
        "if count==2:\n",
        "  print(\"This is a prime number\")\n",
        "else:\n",
        "  print(\"This is not a prime number\")\n"
      ],
      "metadata": {
        "colab": {
          "base_uri": "https://localhost:8080/"
        },
        "id": "QVg8bmSjkORJ",
        "outputId": "90a6e781-f01a-46be-be05-e1172f21a5d6"
      },
      "execution_count": null,
      "outputs": [
        {
          "output_type": "stream",
          "name": "stdout",
          "text": [
            "Sir,Please enter your desire number :12\n",
            "This is not a prime number\n"
          ]
        }
      ]
    },
    {
      "cell_type": "code",
      "source": [
        "\n",
        "max=user\n",
        "mini=user\n",
        "sum=0\n",
        "for count in range(1,6):\n",
        "  user=int(input(\"Sir please enter your  number :\"))\n",
        "  sum=sum+user\n",
        "  avg=sum/count\n",
        "  if user>max:\n",
        "    max=user\n",
        "  elif user<mini:\n",
        "    mini=user\n",
        "print(\"The maximum number is: \",max)\n",
        "print(\"The minimum number is: \",mini)\n",
        "print(\"Sum:\",sum)\n",
        "print(\"Avarage :\",avg)\n"
      ],
      "metadata": {
        "colab": {
          "base_uri": "https://localhost:8080/"
        },
        "id": "sbxWPfqNA7s8",
        "outputId": "684d0cbe-3884-436a-f4c0-ae2ea1e09bce"
      },
      "execution_count": null,
      "outputs": [
        {
          "output_type": "stream",
          "name": "stdout",
          "text": [
            "Sir please enter your desire number :10\n",
            "Sir please enter your desire number :20\n",
            "Sir please enter your desire number :30\n",
            "Sir please enter your desire number :35\n",
            "Sir please enter your desire number :22\n",
            "The maximum number is:  50\n",
            "The minimum number is:  10\n",
            "Sum: 117\n",
            "Avarage : 23.4\n"
          ]
        }
      ]
    },
    {
      "cell_type": "code",
      "source": [
        "row=int(input(\"Please input how many rows do you want to print :\"))\n",
        "for r in range(1,row+1):\n",
        "  for c in range(1,r+1):\n",
        "    print(c,end='')\n",
        "  print()"
      ],
      "metadata": {
        "colab": {
          "base_uri": "https://localhost:8080/"
        },
        "id": "vC-yzPSkTuhS",
        "outputId": "b4f052e0-724a-4d51-dcaa-e66446d328b0"
      },
      "execution_count": null,
      "outputs": [
        {
          "output_type": "stream",
          "name": "stdout",
          "text": [
            "Please input how many rows do you want to print :15\n",
            "1\n",
            "12\n",
            "123\n",
            "1234\n",
            "12345\n",
            "123456\n",
            "1234567\n",
            "12345678\n",
            "123456789\n",
            "12345678910\n",
            "1234567891011\n",
            "123456789101112\n",
            "12345678910111213\n",
            "1234567891011121314\n",
            "123456789101112131415\n"
          ]
        }
      ]
    },
    {
      "cell_type": "code",
      "source": [
        "so=int(input(\"Please enter your number\"))\n",
        "var=input(\"input something\")\n",
        "for i in range(1,so+1):\n",
        "  print(var,end=',')"
      ],
      "metadata": {
        "colab": {
          "base_uri": "https://localhost:8080/"
        },
        "id": "Yx8P_JsGlgR7",
        "outputId": "7868baf1-a007-4617-bc52-8454b683c41f"
      },
      "execution_count": null,
      "outputs": [
        {
          "output_type": "stream",
          "name": "stdout",
          "text": [
            "Please enter your number1000\n",
            "input somethingsorry bbu\n",
            "sorry bbu,sorry bbu,sorry bbu,sorry bbu,sorry bbu,sorry bbu,sorry bbu,sorry bbu,sorry bbu,sorry bbu,sorry bbu,sorry bbu,sorry bbu,sorry bbu,sorry bbu,sorry bbu,sorry bbu,sorry bbu,sorry bbu,sorry bbu,sorry bbu,sorry bbu,sorry bbu,sorry bbu,sorry bbu,sorry bbu,sorry bbu,sorry bbu,sorry bbu,sorry bbu,sorry bbu,sorry bbu,sorry bbu,sorry bbu,sorry bbu,sorry bbu,sorry bbu,sorry bbu,sorry bbu,sorry bbu,sorry bbu,sorry bbu,sorry bbu,sorry bbu,sorry bbu,sorry bbu,sorry bbu,sorry bbu,sorry bbu,sorry bbu,sorry bbu,sorry bbu,sorry bbu,sorry bbu,sorry bbu,sorry bbu,sorry bbu,sorry bbu,sorry bbu,sorry bbu,sorry bbu,sorry bbu,sorry bbu,sorry bbu,sorry bbu,sorry bbu,sorry bbu,sorry bbu,sorry bbu,sorry bbu,sorry bbu,sorry bbu,sorry bbu,sorry bbu,sorry bbu,sorry bbu,sorry bbu,sorry bbu,sorry bbu,sorry bbu,sorry bbu,sorry bbu,sorry bbu,sorry bbu,sorry bbu,sorry bbu,sorry bbu,sorry bbu,sorry bbu,sorry bbu,sorry bbu,sorry bbu,sorry bbu,sorry bbu,sorry bbu,sorry bbu,sorry bbu,sorry bbu,sorry bbu,sorry bbu,sorry bbu,sorry bbu,sorry bbu,sorry bbu,sorry bbu,sorry bbu,sorry bbu,sorry bbu,sorry bbu,sorry bbu,sorry bbu,sorry bbu,sorry bbu,sorry bbu,sorry bbu,sorry bbu,sorry bbu,sorry bbu,sorry bbu,sorry bbu,sorry bbu,sorry bbu,sorry bbu,sorry bbu,sorry bbu,sorry bbu,sorry bbu,sorry bbu,sorry bbu,sorry bbu,sorry bbu,sorry bbu,sorry bbu,sorry bbu,sorry bbu,sorry bbu,sorry bbu,sorry bbu,sorry bbu,sorry bbu,sorry bbu,sorry bbu,sorry bbu,sorry bbu,sorry bbu,sorry bbu,sorry bbu,sorry bbu,sorry bbu,sorry bbu,sorry bbu,sorry bbu,sorry bbu,sorry bbu,sorry bbu,sorry bbu,sorry bbu,sorry bbu,sorry bbu,sorry bbu,sorry bbu,sorry bbu,sorry bbu,sorry bbu,sorry bbu,sorry bbu,sorry bbu,sorry bbu,sorry bbu,sorry bbu,sorry bbu,sorry bbu,sorry bbu,sorry bbu,sorry bbu,sorry bbu,sorry bbu,sorry bbu,sorry bbu,sorry bbu,sorry bbu,sorry bbu,sorry bbu,sorry bbu,sorry bbu,sorry bbu,sorry bbu,sorry bbu,sorry bbu,sorry bbu,sorry bbu,sorry bbu,sorry bbu,sorry bbu,sorry bbu,sorry bbu,sorry bbu,sorry bbu,sorry bbu,sorry bbu,sorry bbu,sorry bbu,sorry bbu,sorry bbu,sorry bbu,sorry bbu,sorry bbu,sorry bbu,sorry bbu,sorry bbu,sorry bbu,sorry bbu,sorry bbu,sorry bbu,sorry bbu,sorry bbu,sorry bbu,sorry bbu,sorry bbu,sorry bbu,sorry bbu,sorry bbu,sorry bbu,sorry bbu,sorry bbu,sorry bbu,sorry bbu,sorry bbu,sorry bbu,sorry bbu,sorry bbu,sorry bbu,sorry bbu,sorry bbu,sorry bbu,sorry bbu,sorry bbu,sorry bbu,sorry bbu,sorry bbu,sorry bbu,sorry bbu,sorry bbu,sorry bbu,sorry bbu,sorry bbu,sorry bbu,sorry bbu,sorry bbu,sorry bbu,sorry bbu,sorry bbu,sorry bbu,sorry bbu,sorry bbu,sorry bbu,sorry bbu,sorry bbu,sorry bbu,sorry bbu,sorry bbu,sorry bbu,sorry bbu,sorry bbu,sorry bbu,sorry bbu,sorry bbu,sorry bbu,sorry bbu,sorry bbu,sorry bbu,sorry bbu,sorry bbu,sorry bbu,sorry bbu,sorry bbu,sorry bbu,sorry bbu,sorry bbu,sorry bbu,sorry bbu,sorry bbu,sorry bbu,sorry bbu,sorry bbu,sorry bbu,sorry bbu,sorry bbu,sorry bbu,sorry bbu,sorry bbu,sorry bbu,sorry bbu,sorry bbu,sorry bbu,sorry bbu,sorry bbu,sorry bbu,sorry bbu,sorry bbu,sorry bbu,sorry bbu,sorry bbu,sorry bbu,sorry bbu,sorry bbu,sorry bbu,sorry bbu,sorry bbu,sorry bbu,sorry bbu,sorry bbu,sorry bbu,sorry bbu,sorry bbu,sorry bbu,sorry bbu,sorry bbu,sorry bbu,sorry bbu,sorry bbu,sorry bbu,sorry bbu,sorry bbu,sorry bbu,sorry bbu,sorry bbu,sorry bbu,sorry bbu,sorry bbu,sorry bbu,sorry bbu,sorry bbu,sorry bbu,sorry bbu,sorry bbu,sorry bbu,sorry bbu,sorry bbu,sorry bbu,sorry bbu,sorry bbu,sorry bbu,sorry bbu,sorry bbu,sorry bbu,sorry bbu,sorry bbu,sorry bbu,sorry bbu,sorry bbu,sorry bbu,sorry bbu,sorry bbu,sorry bbu,sorry bbu,sorry bbu,sorry bbu,sorry bbu,sorry bbu,sorry bbu,sorry bbu,sorry bbu,sorry bbu,sorry bbu,sorry bbu,sorry bbu,sorry bbu,sorry bbu,sorry bbu,sorry bbu,sorry bbu,sorry bbu,sorry bbu,sorry bbu,sorry bbu,sorry bbu,sorry bbu,sorry bbu,sorry bbu,sorry bbu,sorry bbu,sorry bbu,sorry bbu,sorry bbu,sorry bbu,sorry bbu,sorry bbu,sorry bbu,sorry bbu,sorry bbu,sorry bbu,sorry bbu,sorry bbu,sorry bbu,sorry bbu,sorry bbu,sorry bbu,sorry bbu,sorry bbu,sorry bbu,sorry bbu,sorry bbu,sorry bbu,sorry bbu,sorry bbu,sorry bbu,sorry bbu,sorry bbu,sorry bbu,sorry bbu,sorry bbu,sorry bbu,sorry bbu,sorry bbu,sorry bbu,sorry bbu,sorry bbu,sorry bbu,sorry bbu,sorry bbu,sorry bbu,sorry bbu,sorry bbu,sorry bbu,sorry bbu,sorry bbu,sorry bbu,sorry bbu,sorry bbu,sorry bbu,sorry bbu,sorry bbu,sorry bbu,sorry bbu,sorry bbu,sorry bbu,sorry bbu,sorry bbu,sorry bbu,sorry bbu,sorry bbu,sorry bbu,sorry bbu,sorry bbu,sorry bbu,sorry bbu,sorry bbu,sorry bbu,sorry bbu,sorry bbu,sorry bbu,sorry bbu,sorry bbu,sorry bbu,sorry bbu,sorry bbu,sorry bbu,sorry bbu,sorry bbu,sorry bbu,sorry bbu,sorry bbu,sorry bbu,sorry bbu,sorry bbu,sorry bbu,sorry bbu,sorry bbu,sorry bbu,sorry bbu,sorry bbu,sorry bbu,sorry bbu,sorry bbu,sorry bbu,sorry bbu,sorry bbu,sorry bbu,sorry bbu,sorry bbu,sorry bbu,sorry bbu,sorry bbu,sorry bbu,sorry bbu,sorry bbu,sorry bbu,sorry bbu,sorry bbu,sorry bbu,sorry bbu,sorry bbu,sorry bbu,sorry bbu,sorry bbu,sorry bbu,sorry bbu,sorry bbu,sorry bbu,sorry bbu,sorry bbu,sorry bbu,sorry bbu,sorry bbu,sorry bbu,sorry bbu,sorry bbu,sorry bbu,sorry bbu,sorry bbu,sorry bbu,sorry bbu,sorry bbu,sorry bbu,sorry bbu,sorry bbu,sorry bbu,sorry bbu,sorry bbu,sorry bbu,sorry bbu,sorry bbu,sorry bbu,sorry bbu,sorry bbu,sorry bbu,sorry bbu,sorry bbu,sorry bbu,sorry bbu,sorry bbu,sorry bbu,sorry bbu,sorry bbu,sorry bbu,sorry bbu,sorry bbu,sorry bbu,sorry bbu,sorry bbu,sorry bbu,sorry bbu,sorry bbu,sorry bbu,sorry bbu,sorry bbu,sorry bbu,sorry bbu,sorry bbu,sorry bbu,sorry bbu,sorry bbu,sorry bbu,sorry bbu,sorry bbu,sorry bbu,sorry bbu,sorry bbu,sorry bbu,sorry bbu,sorry bbu,sorry bbu,sorry bbu,sorry bbu,sorry bbu,sorry bbu,sorry bbu,sorry bbu,sorry bbu,sorry bbu,sorry bbu,sorry bbu,sorry bbu,sorry bbu,sorry bbu,sorry bbu,sorry bbu,sorry bbu,sorry bbu,sorry bbu,sorry bbu,sorry bbu,sorry bbu,sorry bbu,sorry bbu,sorry bbu,sorry bbu,sorry bbu,sorry bbu,sorry bbu,sorry bbu,sorry bbu,sorry bbu,sorry bbu,sorry bbu,sorry bbu,sorry bbu,sorry bbu,sorry bbu,sorry bbu,sorry bbu,sorry bbu,sorry bbu,sorry bbu,sorry bbu,sorry bbu,sorry bbu,sorry bbu,sorry bbu,sorry bbu,sorry bbu,sorry bbu,sorry bbu,sorry bbu,sorry bbu,sorry bbu,sorry bbu,sorry bbu,sorry bbu,sorry bbu,sorry bbu,sorry bbu,sorry bbu,sorry bbu,sorry bbu,sorry bbu,sorry bbu,sorry bbu,sorry bbu,sorry bbu,sorry bbu,sorry bbu,sorry bbu,sorry bbu,sorry bbu,sorry bbu,sorry bbu,sorry bbu,sorry bbu,sorry bbu,sorry bbu,sorry bbu,sorry bbu,sorry bbu,sorry bbu,sorry bbu,sorry bbu,sorry bbu,sorry bbu,sorry bbu,sorry bbu,sorry bbu,sorry bbu,sorry bbu,sorry bbu,sorry bbu,sorry bbu,sorry bbu,sorry bbu,sorry bbu,sorry bbu,sorry bbu,sorry bbu,sorry bbu,sorry bbu,sorry bbu,sorry bbu,sorry bbu,sorry bbu,sorry bbu,sorry bbu,sorry bbu,sorry bbu,sorry bbu,sorry bbu,sorry bbu,sorry bbu,sorry bbu,sorry bbu,sorry bbu,sorry bbu,sorry bbu,sorry bbu,sorry bbu,sorry bbu,sorry bbu,sorry bbu,sorry bbu,sorry bbu,sorry bbu,sorry bbu,sorry bbu,sorry bbu,sorry bbu,sorry bbu,sorry bbu,sorry bbu,sorry bbu,sorry bbu,sorry bbu,sorry bbu,sorry bbu,sorry bbu,sorry bbu,sorry bbu,sorry bbu,sorry bbu,sorry bbu,sorry bbu,sorry bbu,sorry bbu,sorry bbu,sorry bbu,sorry bbu,sorry bbu,sorry bbu,sorry bbu,sorry bbu,sorry bbu,sorry bbu,sorry bbu,sorry bbu,sorry bbu,sorry bbu,sorry bbu,sorry bbu,sorry bbu,sorry bbu,sorry bbu,sorry bbu,sorry bbu,sorry bbu,sorry bbu,sorry bbu,sorry bbu,sorry bbu,sorry bbu,sorry bbu,sorry bbu,sorry bbu,sorry bbu,sorry bbu,sorry bbu,sorry bbu,sorry bbu,sorry bbu,sorry bbu,sorry bbu,sorry bbu,sorry bbu,sorry bbu,sorry bbu,sorry bbu,sorry bbu,sorry bbu,sorry bbu,sorry bbu,sorry bbu,sorry bbu,sorry bbu,sorry bbu,sorry bbu,sorry bbu,sorry bbu,sorry bbu,sorry bbu,sorry bbu,sorry bbu,sorry bbu,sorry bbu,sorry bbu,sorry bbu,sorry bbu,sorry bbu,sorry bbu,sorry bbu,sorry bbu,sorry bbu,sorry bbu,sorry bbu,sorry bbu,sorry bbu,sorry bbu,sorry bbu,sorry bbu,sorry bbu,sorry bbu,sorry bbu,sorry bbu,sorry bbu,sorry bbu,sorry bbu,sorry bbu,sorry bbu,sorry bbu,sorry bbu,sorry bbu,sorry bbu,sorry bbu,sorry bbu,sorry bbu,sorry bbu,sorry bbu,sorry bbu,sorry bbu,sorry bbu,sorry bbu,sorry bbu,sorry bbu,sorry bbu,sorry bbu,sorry bbu,sorry bbu,sorry bbu,sorry bbu,sorry bbu,sorry bbu,sorry bbu,sorry bbu,sorry bbu,sorry bbu,sorry bbu,sorry bbu,sorry bbu,sorry bbu,sorry bbu,sorry bbu,sorry bbu,sorry bbu,sorry bbu,sorry bbu,sorry bbu,sorry bbu,sorry bbu,sorry bbu,sorry bbu,sorry bbu,sorry bbu,sorry bbu,sorry bbu,sorry bbu,sorry bbu,sorry bbu,sorry bbu,sorry bbu,sorry bbu,sorry bbu,sorry bbu,sorry bbu,sorry bbu,sorry bbu,sorry bbu,sorry bbu,sorry bbu,sorry bbu,sorry bbu,sorry bbu,sorry bbu,sorry bbu,sorry bbu,sorry bbu,sorry bbu,sorry bbu,sorry bbu,sorry bbu,sorry bbu,sorry bbu,sorry bbu,sorry bbu,sorry bbu,sorry bbu,sorry bbu,sorry bbu,sorry bbu,sorry bbu,sorry bbu,sorry bbu,sorry bbu,sorry bbu,sorry bbu,sorry bbu,sorry bbu,sorry bbu,sorry bbu,sorry bbu,sorry bbu,sorry bbu,sorry bbu,sorry bbu,sorry bbu,sorry bbu,sorry bbu,sorry bbu,sorry bbu,sorry bbu,sorry bbu,sorry bbu,sorry bbu,sorry bbu,sorry bbu,sorry bbu,sorry bbu,sorry bbu,sorry bbu,sorry bbu,sorry bbu,sorry bbu,sorry bbu,sorry bbu,sorry bbu,sorry bbu,sorry bbu,sorry bbu,sorry bbu,sorry bbu,sorry bbu,sorry bbu,sorry bbu,sorry bbu,sorry bbu,sorry bbu,sorry bbu,sorry bbu,sorry bbu,sorry bbu,sorry bbu,sorry bbu,sorry bbu,sorry bbu,sorry bbu,sorry bbu,sorry bbu,sorry bbu,sorry bbu,sorry bbu,sorry bbu,sorry bbu,sorry bbu,sorry bbu,sorry bbu,sorry bbu,sorry bbu,sorry bbu,sorry bbu,sorry bbu,sorry bbu,sorry bbu,sorry bbu,sorry bbu,sorry bbu,sorry bbu,sorry bbu,sorry bbu,sorry bbu,sorry bbu,sorry bbu,sorry bbu,sorry bbu,sorry bbu,sorry bbu,sorry bbu,sorry bbu,sorry bbu,sorry bbu,sorry bbu,sorry bbu,sorry bbu,sorry bbu,sorry bbu,sorry bbu,sorry bbu,sorry bbu,sorry bbu,sorry bbu,sorry bbu,sorry bbu,sorry bbu,sorry bbu,sorry bbu,sorry bbu,sorry bbu,sorry bbu,sorry bbu,sorry bbu,sorry bbu,sorry bbu,sorry bbu,sorry bbu,sorry bbu,sorry bbu,sorry bbu,sorry bbu,sorry bbu,sorry bbu,sorry bbu,sorry bbu,sorry bbu,sorry bbu,sorry bbu,"
          ]
        }
      ]
    },
    {
      "cell_type": "code",
      "source": [
        "word=input(\"Sir,Please enter your desire word :\")\n",
        "length=len(word)\n",
        "for i in word:\n",
        "  print(i,end=\",\")"
      ],
      "metadata": {
        "colab": {
          "base_uri": "https://localhost:8080/"
        },
        "id": "fwCIfRQkxMAv",
        "outputId": "f4e805da-f92a-4e74-d4cc-99f9c355e780"
      },
      "execution_count": null,
      "outputs": [
        {
          "output_type": "stream",
          "name": "stdout",
          "text": [
            "Sir,Please enter your desire word :I love you\n",
            "I, ,l,o,v,e, ,y,o,u,"
          ]
        }
      ]
    },
    {
      "cell_type": "code",
      "source": [
        "word=input(\"Sir,Please enter your desire word :\")\n",
        "length=len(word)\n",
        "for i in range(0,length):\n",
        "  print(word[i],end=\",\")"
      ],
      "metadata": {
        "colab": {
          "base_uri": "https://localhost:8080/"
        },
        "id": "hFvjlKNS0EX3",
        "outputId": "26c18d4b-95ee-494e-ffc3-2973ce8e0f7c"
      },
      "execution_count": null,
      "outputs": [
        {
          "output_type": "stream",
          "name": "stdout",
          "text": [
            "Sir,Please enter your desire word :Hello I love you so much\n",
            "H,e,l,l,o, ,I, ,l,o,v,e, ,y,o,u, ,s,o, ,m,u,c,h,"
          ]
        }
      ]
    },
    {
      "cell_type": "code",
      "source": [
        "count=0\n",
        "count1=0\n",
        "num=int(input(\"Please enter your number:\"))\n",
        "back=num\n",
        "while num>0:\n",
        "  num=num//10\n",
        "  count=count+1\n",
        "print(count)\n",
        "count1=count-1\n",
        "while back>0:\n",
        "  number=back//10**count1\n",
        "  num=num%10**count1\n",
        "  count1=count1-1\n",
        "print(number,end=\",\")\n",
        "\n"
      ],
      "metadata": {
        "colab": {
          "base_uri": "https://localhost:8080/",
          "height": 276
        },
        "id": "if5zj4tl0wLf",
        "outputId": "82bfdf1f-da99-43b3-cdba-61e5f85a970f"
      },
      "execution_count": null,
      "outputs": [
        {
          "output_type": "stream",
          "name": "stdout",
          "text": [
            "Please enter your number:1\n",
            "1\n"
          ]
        },
        {
          "output_type": "error",
          "ename": "ZeroDivisionError",
          "evalue": "ignored",
          "traceback": [
            "\u001b[0;31m---------------------------------------------------------------------------\u001b[0m",
            "\u001b[0;31mZeroDivisionError\u001b[0m                         Traceback (most recent call last)",
            "\u001b[0;32m<ipython-input-1-53b9658e67b2>\u001b[0m in \u001b[0;36m<module>\u001b[0;34m\u001b[0m\n\u001b[1;32m      9\u001b[0m \u001b[0mcount1\u001b[0m\u001b[0;34m=\u001b[0m\u001b[0mcount\u001b[0m\u001b[0;34m-\u001b[0m\u001b[0;36m1\u001b[0m\u001b[0;34m\u001b[0m\u001b[0;34m\u001b[0m\u001b[0m\n\u001b[1;32m     10\u001b[0m \u001b[0;32mwhile\u001b[0m \u001b[0mback\u001b[0m\u001b[0;34m>\u001b[0m\u001b[0;36m0\u001b[0m\u001b[0;34m:\u001b[0m\u001b[0;34m\u001b[0m\u001b[0;34m\u001b[0m\u001b[0m\n\u001b[0;32m---> 11\u001b[0;31m   \u001b[0mnumber\u001b[0m\u001b[0;34m=\u001b[0m\u001b[0mback\u001b[0m\u001b[0;34m//\u001b[0m\u001b[0;36m10\u001b[0m\u001b[0;34m**\u001b[0m\u001b[0mcount1\u001b[0m\u001b[0;34m\u001b[0m\u001b[0;34m\u001b[0m\u001b[0m\n\u001b[0m\u001b[1;32m     12\u001b[0m   \u001b[0mnum\u001b[0m\u001b[0;34m=\u001b[0m\u001b[0mnum\u001b[0m\u001b[0;34m%\u001b[0m\u001b[0;36m10\u001b[0m\u001b[0;34m**\u001b[0m\u001b[0mcount1\u001b[0m\u001b[0;34m\u001b[0m\u001b[0;34m\u001b[0m\u001b[0m\n\u001b[1;32m     13\u001b[0m   \u001b[0mcount1\u001b[0m\u001b[0;34m=\u001b[0m\u001b[0mcount1\u001b[0m\u001b[0;34m-\u001b[0m\u001b[0;36m1\u001b[0m\u001b[0;34m\u001b[0m\u001b[0;34m\u001b[0m\u001b[0m\n",
            "\u001b[0;31mZeroDivisionError\u001b[0m: float floor division by zero"
          ]
        }
      ]
    },
    {
      "cell_type": "code",
      "source": [
        "user=int(input(\"Sir ,Please enter a num :\"))\n",
        "for r in range(1,user+1):\n",
        "  for c in range(1,user+1):\n",
        "   print(c,end=\"\")\n",
        "  print()"
      ],
      "metadata": {
        "colab": {
          "base_uri": "https://localhost:8080/"
        },
        "id": "4emiXd8Cnqac",
        "outputId": "b9295df2-b203-4192-e2d9-1780d63a8728"
      },
      "execution_count": null,
      "outputs": [
        {
          "output_type": "stream",
          "name": "stdout",
          "text": [
            "Sir ,Please enter a num8\n",
            "12345678\n",
            "12345678\n",
            "12345678\n",
            "12345678\n",
            "12345678\n",
            "12345678\n",
            "12345678\n",
            "12345678\n"
          ]
        }
      ]
    },
    {
      "cell_type": "code",
      "source": [
        "rc=int(input(\"Sir,Please enter your number :\"))\n",
        "for r in range(1,rc+1):\n",
        "  for c in range(1,rc+1):\n",
        "    if r==1:\n",
        "      print(\"&\",end=\"\")\n",
        "    elif c==1 or c==2 or c==7 or c==8:\n",
        "      print(\"R\",end=\"\")\n",
        "    else:\n",
        "      print(\"O\",end=\"\")\n",
        "  print()"
      ],
      "metadata": {
        "colab": {
          "base_uri": "https://localhost:8080/"
        },
        "id": "qlQ_F7k9-TZk",
        "outputId": "fec4d16d-d743-4226-b085-ee69cb234f17"
      },
      "execution_count": null,
      "outputs": [
        {
          "output_type": "stream",
          "name": "stdout",
          "text": [
            "Sir,Please enter your number :10\n",
            "&&&&&&&&&&\n",
            "RROOOORROO\n",
            "RROOOORROO\n",
            "RROOOORROO\n",
            "RROOOORROO\n",
            "RROOOORROO\n",
            "RROOOORROO\n",
            "RROOOORROO\n",
            "RROOOORROO\n",
            "RROOOORROO\n"
          ]
        }
      ]
    },
    {
      "cell_type": "code",
      "source": [
        "word=input(\"Please input a Word :\")\n",
        "num=int(input(\"Sir,Please input How many time do you want to print :\"))\n",
        "for i in range(1,num+1):\n",
        "  print(word)"
      ],
      "metadata": {
        "colab": {
          "base_uri": "https://localhost:8080/"
        },
        "id": "yC2KimYg34-k",
        "outputId": "2211e3f1-0c8a-4ee7-fa8f-de5e67642a70"
      },
      "execution_count": null,
      "outputs": [
        {
          "name": "stdout",
          "output_type": "stream",
          "text": [
            "Please input a Word :Hello\n",
            "Sir,Please input How many time do you want to print :0\n"
          ]
        }
      ]
    },
    {
      "cell_type": "code",
      "source": [
        "num=int(input(\"Sir ,Please input your desired number :\"))\n",
        "for r in range(1,num+1):\n",
        "  for c in range(1,num+1):\n",
        "    if r==1:\n",
        "      print(\"$\",end=\"\")\n",
        "    elif c==1 or c==2 or c==7 or c==8:\n",
        "      print(\"R\",end=\"\")\n",
        "    else:\n",
        "      print(\"O\",end=\"\")\n",
        "  print()"
      ],
      "metadata": {
        "colab": {
          "base_uri": "https://localhost:8080/"
        },
        "id": "CXNUJ2YeHIKY",
        "outputId": "c35d06c0-e92c-4185-f263-7fbb1bfaaf89"
      },
      "execution_count": null,
      "outputs": [
        {
          "output_type": "stream",
          "name": "stdout",
          "text": [
            "Sir ,Please input your desired number :8\n",
            "$$$$$$$$\n",
            "RROOOORR\n",
            "RROOOORR\n",
            "RROOOORR\n",
            "RROOOORR\n",
            "RROOOORR\n",
            "RROOOORR\n",
            "RROOOORR\n"
          ]
        }
      ]
    },
    {
      "cell_type": "code",
      "source": [
        "num=int(input(\"Sir ,Please input your desire number :\"))\n",
        "bnnum=\"\"\n",
        "backup=num\n",
        "while backup!=0:\n",
        "  remain=backup%2\n",
        "  bnnum=str(remain)+bnnum\n",
        "  backup=backup//2\n",
        "print(f\"The binary num of {num} is {bnnum}\")"
      ],
      "metadata": {
        "colab": {
          "base_uri": "https://localhost:8080/"
        },
        "id": "aCPWeJSkIxR7",
        "outputId": "fe6f1150-7643-4de6-d5b9-1d89b578299f"
      },
      "execution_count": null,
      "outputs": [
        {
          "output_type": "stream",
          "name": "stdout",
          "text": [
            "Sir ,Please input your desire number :2\n",
            "The binary num of 2 is 10\n"
          ]
        }
      ]
    },
    {
      "cell_type": "code",
      "source": [
        "#for check input type\n",
        "user=input(\"Sir,Please input something :\")\n",
        "length=len(user)\n",
        "digit_count=0\n",
        "letter_count=0\n",
        "for count in range(0,length):\n",
        "  if ord(user[count])>=48 and ord(user[count])<=57:\n",
        "    digit_count=digit_count+1\n",
        "  else:\n",
        "    letter_count=letter_count+1\n",
        "if digit_count==0:\n",
        "  print(\"Word\")\n",
        "elif letter_count==0:\n",
        "  print(\"Number\")\n",
        "else:\n",
        "  print(\"Mixed\")"
      ],
      "metadata": {
        "colab": {
          "base_uri": "https://localhost:8080/"
        },
        "id": "PMg0xu1-xpyX",
        "outputId": "836bc348-c7ce-4bff-b24e-a7b889046c82"
      },
      "execution_count": null,
      "outputs": [
        {
          "output_type": "stream",
          "name": "stdout",
          "text": [
            "Sir,Please input something :hello 123 hello \n",
            "Mixed\n"
          ]
        }
      ]
    },
    {
      "cell_type": "code",
      "source": [
        "#পাশাপাশি যাতে  Same word না থাকে .\n",
        "user=input(\"Sir ,Please enter your desired word :\")\n",
        "length=len(user)\n",
        "final_word=user[0]\n",
        "for count in range(1,length):\n",
        "  if user[count-1]!=user[count]:\n",
        "    final_word=final_word+user[count]\n",
        "print(final_word)"
      ],
      "metadata": {
        "colab": {
          "base_uri": "https://localhost:8080/"
        },
        "id": "5rw1NPyEiXbL",
        "outputId": "dddff026-b4b1-4103-89ce-bfec27627418"
      },
      "execution_count": null,
      "outputs": [
        {
          "output_type": "stream",
          "name": "stdout",
          "text": [
            "Sir ,Please enter your desired word :ABBABBBHDHDHHHH\n",
            "ABABHDHDH\n"
          ]
        }
      ]
    },
    {
      "cell_type": "code",
      "source": [
        "#class practice\n",
        "mylist=[12,33,25,36]\n",
        "print(type(mylist))\n",
        "print(mylist)\n",
        "print(mylist[1])"
      ],
      "metadata": {
        "colab": {
          "base_uri": "https://localhost:8080/"
        },
        "id": "ERpn7e2a4Vdd",
        "outputId": "49b56283-0524-4137-cee7-73ee222da787"
      },
      "execution_count": null,
      "outputs": [
        {
          "output_type": "stream",
          "name": "stdout",
          "text": [
            "<class 'list'>\n",
            "[12, 33, 25, 36]\n",
            "33\n"
          ]
        }
      ]
    },
    {
      "cell_type": "code",
      "source": [
        "mylist=[12,22,32,15,42,14]\n",
        "length=len(mylist)\n",
        "print(length)\n",
        "#for add update or add something on list\n",
        "mylist.append(50)\n",
        "mylist[3]=24 #for update any value on list\n",
        "mylist.insert(2,25) #for insert a value in a perticular place on the list\n",
        "mylist.pop(4) #for remove perticular  index value (15 missing)\n",
        "print(mylist)"
      ],
      "metadata": {
        "colab": {
          "base_uri": "https://localhost:8080/"
        },
        "id": "Edn1OdaE486x",
        "outputId": "0ed881cb-4703-4e4c-85f8-542815cee550"
      },
      "execution_count": null,
      "outputs": [
        {
          "output_type": "stream",
          "name": "stdout",
          "text": [
            "6\n",
            "[12, 22, 25, 32, 42, 14, 50]\n"
          ]
        }
      ]
    },
    {
      "cell_type": "code",
      "source": [
        "#for add two list\n",
        "mylist=[10,20]\n",
        "mylist2=[30,40]\n",
        "mylist3=mylist+mylist2\n",
        "print(mylist3)"
      ],
      "metadata": {
        "colab": {
          "base_uri": "https://localhost:8080/"
        },
        "id": "mMSdLaFx9JM3",
        "outputId": "3e09eeda-ca41-484b-bca2-d2274478c279"
      },
      "execution_count": null,
      "outputs": [
        {
          "output_type": "stream",
          "name": "stdout",
          "text": [
            "[10, 20, 30, 40]\n"
          ]
        }
      ]
    },
    {
      "cell_type": "code",
      "source": [
        "#Another methood\n",
        "mylist=[10,20]\n",
        "mylist2=[30,40]\n",
        "mylist.extend(mylist2)\n",
        "print(mylist)"
      ],
      "metadata": {
        "colab": {
          "base_uri": "https://localhost:8080/"
        },
        "id": "R8JhEZqcBv_8",
        "outputId": "83c2317a-c85e-4cfa-9fdf-23c8b046ddf5"
      },
      "execution_count": null,
      "outputs": [
        {
          "output_type": "stream",
          "name": "stdout",
          "text": [
            "[10, 20, 30, 40]\n"
          ]
        }
      ]
    },
    {
      "cell_type": "code",
      "source": [
        "mylist=[10,20,[1,2,3],30]\n",
        "print(mylist[2])\n",
        "print(mylist[2][1]) # if we have a list with another list under the list .. then we use this function."
      ],
      "metadata": {
        "colab": {
          "base_uri": "https://localhost:8080/"
        },
        "id": "BU9hLzXRZAKT",
        "outputId": "40dfa985-4df6-421c-ddb3-fc461862ef8e"
      },
      "execution_count": null,
      "outputs": [
        {
          "output_type": "stream",
          "name": "stdout",
          "text": [
            "[1, 2, 3]\n",
            "2\n"
          ]
        }
      ]
    },
    {
      "cell_type": "code",
      "source": [
        "mylist=[10,20,30,40]\n",
        "print(mylist[1:3]) #if we want to print individual value from list\n",
        "print(mylist[:])"
      ],
      "metadata": {
        "colab": {
          "base_uri": "https://localhost:8080/"
        },
        "id": "lFLL-xGDZpgP",
        "outputId": "7be05388-0803-4f47-f1cb-1357e8896ae0"
      },
      "execution_count": null,
      "outputs": [
        {
          "output_type": "stream",
          "name": "stdout",
          "text": [
            "[20, 30]\n",
            "[10, 20, 30, 40]\n"
          ]
        }
      ]
    },
    {
      "cell_type": "code",
      "source": [
        "#use loop\n",
        "mylist=[20,10,30,40]\n",
        "for i in mylist:\n",
        "  print(i)"
      ],
      "metadata": {
        "colab": {
          "base_uri": "https://localhost:8080/"
        },
        "id": "Hzqq5qZ3ba__",
        "outputId": "6cb21810-7981-4fbe-dd64-8b76f320481d"
      },
      "execution_count": null,
      "outputs": [
        {
          "output_type": "stream",
          "name": "stdout",
          "text": [
            "20\n",
            "10\n",
            "30\n",
            "40\n"
          ]
        }
      ]
    },
    {
      "cell_type": "code",
      "source": [
        "#another method\n",
        "mylist=[20,10,30,40]\n",
        "for i in range(len(mylist)):\n",
        "  print(mylist[i])"
      ],
      "metadata": {
        "colab": {
          "base_uri": "https://localhost:8080/"
        },
        "id": "yYKfzTxJbr1E",
        "outputId": "eac7c4a7-70a2-4156-8044-35c66d7ed73a"
      },
      "execution_count": null,
      "outputs": [
        {
          "output_type": "stream",
          "name": "stdout",
          "text": [
            "20\n",
            "10\n",
            "30\n",
            "40\n"
          ]
        }
      ]
    },
    {
      "cell_type": "code",
      "source": [
        "#lab\n"
      ],
      "metadata": {
        "id": "sXTrchtvm1d6"
      },
      "execution_count": null,
      "outputs": []
    },
    {
      "cell_type": "code",
      "source": [
        "#Task-1\n",
        "mylist=[]\n",
        "for i in range(5):\n",
        "  user=int(input(\"Sir,please enter your desire number :\"))\n",
        "  mylist.append(user)\n",
        "print(mylist)"
      ],
      "metadata": {
        "colab": {
          "base_uri": "https://localhost:8080/"
        },
        "id": "hFa-oYDuoLA3",
        "outputId": "7038d285-6979-47f2-ad68-3010d0ad0dbc"
      },
      "execution_count": null,
      "outputs": [
        {
          "output_type": "stream",
          "name": "stdout",
          "text": [
            "Sir,please enter your desire number :45\n",
            "Sir,please enter your desire number :43\n",
            "Sir,please enter your desire number :33\n",
            "Sir,please enter your desire number :22\n",
            "Sir,please enter your desire number :3\n",
            "[45, 43, 33, 22, 3]\n"
          ]
        }
      ]
    },
    {
      "cell_type": "code",
      "source": [
        "#Task-2\n",
        "user = input(\"Sir,Please give your desired number :\")\n",
        "mylist = user.split(\",\")\n",
        "finallist=[]\n",
        "if len(mylist) <=3 :\n",
        "  print(\"Not Possible\")\n",
        "else:\n",
        "  newlist = mylist[2:len(mylist)-2]\n",
        "  for i in newlist:\n",
        "    inti = int(i)\n",
        "    finallist.append(inti)\n",
        "print(finallist)\n",
        ""
      ],
      "metadata": {
        "colab": {
          "base_uri": "https://localhost:8080/"
        },
        "id": "1ktzrgmCs7WU",
        "outputId": "18f383b5-c202-419c-8e96-ba2d56066403"
      },
      "execution_count": null,
      "outputs": [
        {
          "output_type": "stream",
          "name": "stdout",
          "text": [
            "Sir,Please give your desired number :10, 20, 24, 25, 26\n",
            "[24]\n"
          ]
        }
      ]
    },
    {
      "cell_type": "code",
      "source": [
        "#Task-3\n",
        "mylist=[]\n",
        "newlist=[]\n",
        "for i in range(5):\n",
        "  user=int(input(\"Sir,Please enter your desired number :\"))\n",
        "  mylist.append(user)\n",
        "for j in range(len(mylist)-1,-1,-1):\n",
        "  newlist.append(mylist[j])\n",
        "print(newlist)"
      ],
      "metadata": {
        "id": "chrPrboWwGku",
        "colab": {
          "base_uri": "https://localhost:8080/"
        },
        "outputId": "d8f7617b-5588-4d3a-dc9e-a5af0f01456b"
      },
      "execution_count": null,
      "outputs": [
        {
          "output_type": "stream",
          "name": "stdout",
          "text": [
            "Sir,Please enter your desired number :5\n",
            "Sir,Please enter your desired number :-5\n",
            "Sir,Please enter your desired number :100\n",
            "Sir,Please enter your desired number :1\n",
            "Sir,Please enter your desired number :0\n",
            "[0, 1, 100, -5, 5]\n"
          ]
        }
      ]
    },
    {
      "cell_type": "code",
      "source": [
        "#Task-4\n"
      ],
      "metadata": {
        "id": "xz6h10fNEwhI"
      },
      "execution_count": null,
      "outputs": []
    },
    {
      "cell_type": "code",
      "source": [
        "user=int(input(\"Sir,please enter a number :\"))\n",
        "y=0\n",
        "for i in range(1,user+1):\n",
        "  if i%2==0:\n",
        "    y=y-i**2\n",
        "  else:\n",
        "    y=y+i**2\n",
        "print(y)"
      ],
      "metadata": {
        "colab": {
          "base_uri": "https://localhost:8080/"
        },
        "id": "101rFN-AvSgX",
        "outputId": "4728c963-959c-45e6-94d0-052d898e3dda"
      },
      "execution_count": null,
      "outputs": [
        {
          "output_type": "stream",
          "name": "stdout",
          "text": [
            "Sir,please enter a number :3\n",
            "6\n"
          ]
        }
      ]
    },
    {
      "cell_type": "code",
      "source": [
        "sum=0\n",
        "count=0\n",
        "for i in range(1,11):\n",
        "  user=int(input(\"Sir,Please enter your desire number :\"))\n",
        "  if user%2!=0:\n",
        "    sum=sum+user\n",
        "    count=count+1\n",
        "avg=sum/count\n",
        "print(\"The total odd number is \",sum,\"\\nAgavge \",avg)"
      ],
      "metadata": {
        "colab": {
          "base_uri": "https://localhost:8080/"
        },
        "id": "j0e4EDZk1Wr0",
        "outputId": "6f52be93-7de6-402e-8f87-8d98a81e443a"
      },
      "execution_count": null,
      "outputs": [
        {
          "output_type": "stream",
          "name": "stdout",
          "text": [
            "Sir,Please enter your desire number :-20\n",
            "Sir,Please enter your desire number :13\n",
            "Sir,Please enter your desire number :-5\n",
            "Sir,Please enter your desire number :40\n",
            "Sir,Please enter your desire number :-17\n",
            "Sir,Please enter your desire number :10\n",
            "Sir,Please enter your desire number :20\n",
            "Sir,Please enter your desire number :-8\n",
            "Sir,Please enter your desire number :99\n",
            "Sir,Please enter your desire number :200\n",
            "The total odd number is  90 \n",
            "Agavge  22.5\n"
          ]
        }
      ]
    },
    {
      "cell_type": "code",
      "source": [
        "user=int(input(\"Sir,Please enter your desire number :\"))\n",
        "a=0\n",
        "b=1\n",
        "print(a,end=\" \")\n",
        "print(b,end=\" \")\n",
        "for i in range(2,user):\n",
        "  sum=a+b\n",
        "  a=b\n",
        "  b=sum\n",
        "  print(sum,end=\" \")"
      ],
      "metadata": {
        "colab": {
          "base_uri": "https://localhost:8080/"
        },
        "id": "Z_h97VN54hpf",
        "outputId": "e6286909-4a81-413d-c1c3-2e7f49204aca"
      },
      "execution_count": null,
      "outputs": [
        {
          "output_type": "stream",
          "name": "stdout",
          "text": [
            "Sir,Please enter your desire number :100\n",
            "0 1 1 2 3 5 8 13 21 34 55 89 144 233 377 610 987 1597 2584 4181 6765 10946 17711 28657 46368 75025 121393 196418 317811 514229 832040 1346269 2178309 3524578 5702887 9227465 14930352 24157817 39088169 63245986 102334155 165580141 267914296 433494437 701408733 1134903170 1836311903 2971215073 4807526976 7778742049 12586269025 20365011074 32951280099 53316291173 86267571272 139583862445 225851433717 365435296162 591286729879 956722026041 1548008755920 2504730781961 4052739537881 6557470319842 10610209857723 17167680177565 27777890035288 44945570212853 72723460248141 117669030460994 190392490709135 308061521170129 498454011879264 806515533049393 1304969544928657 2111485077978050 3416454622906707 5527939700884757 8944394323791464 14472334024676221 23416728348467685 37889062373143906 61305790721611591 99194853094755497 160500643816367088 259695496911122585 420196140727489673 679891637638612258 1100087778366101931 1779979416004714189 2880067194370816120 4660046610375530309 7540113804746346429 12200160415121876738 19740274219868223167 31940434634990099905 51680708854858323072 83621143489848422977 135301852344706746049 218922995834555169026 "
          ]
        }
      ]
    },
    {
      "cell_type": "code",
      "source": [
        "dict1 = {'a':59 , 'b':-82 , 'c':5 , 'd':-81 , 'e':53}\n",
        "for i in dict1:\n",
        "    j = 0\n",
        "    k = 22\n",
        "    while j < 5:\n",
        "        if j % 2 == 0:\n",
        "            k = dict1[i] + j - (8 + k % 6) / 3\n",
        "            dict1[i] = dict1[i]+ int(k)\n",
        "        else:\n",
        "            k = dict1[i] + j - (6 - k % 8) * 3\n",
        "            dict1[i] = dict1[i] - int(k)\n",
        "        j += 1\n",
        "    print(k)\n",
        "    #print(i + \" -> \" + str(dict1[i]))\n",
        "\n"
      ],
      "metadata": {
        "id": "H9fqvlT35KnN",
        "colab": {
          "base_uri": "https://localhost:8080/"
        },
        "outputId": "35e7f20e-caf3-4ae6-fe6a-2902364b50c7"
      },
      "execution_count": null,
      "outputs": [
        {
          "output_type": "stream",
          "name": "stdout",
          "text": [
            "8.666666666666668\n",
            "10.333333333333334\n",
            "2.666666666666667\n",
            "-7.0\n",
            "2.666666666666667\n"
          ]
        }
      ]
    },
    {
      "cell_type": "code",
      "source": [
        "print(-6%8)"
      ],
      "metadata": {
        "colab": {
          "base_uri": "https://localhost:8080/"
        },
        "id": "lF1ZHQovFJCQ",
        "outputId": "d7107783-3e4e-4a31-a84b-ff150fdb12a9"
      },
      "execution_count": null,
      "outputs": [
        {
          "output_type": "stream",
          "name": "stdout",
          "text": [
            "2\n"
          ]
        }
      ]
    }
  ]
}