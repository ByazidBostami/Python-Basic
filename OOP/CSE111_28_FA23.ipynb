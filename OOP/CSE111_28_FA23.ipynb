{
  "cells": [
    {
      "cell_type": "markdown",
      "metadata": {
        "id": "xJhemGuc2YH0"
      },
      "source": [
        "# 24/09/23"
      ]
    },
    {
      "cell_type": "markdown",
      "metadata": {
        "id": "sKU2h6Iq29pT"
      },
      "source": [
        "- Introductory class\n",
        "- Data types, Lists, Strings\n",
        "SLACK LINK: Slack workspace invitation link (have to join using G Suite email): https://join.slack.com/t/cse111fall2023/signup"
      ]
    },
    {
      "cell_type": "markdown",
      "metadata": {
        "id": "Vg3Mgl-f3EL6"
      },
      "source": [
        "# 26/09/23"
      ]
    },
    {
      "cell_type": "code",
      "execution_count": null,
      "metadata": {
        "colab": {
          "base_uri": "https://localhost:8080/"
        },
        "id": "x0DauLdX0lP4",
        "outputId": "9b363ef9-44ae-4524-aad9-a186e2bf17c6"
      },
      "outputs": [
        {
          "name": "stdout",
          "output_type": "stream",
          "text": [
            "[3, 1, 7]\n",
            "[3, 1, 4]\n"
          ]
        }
      ],
      "source": [
        "list1 = [3,1,4]\n",
        "\n",
        "def fun(lis):\n",
        "    lis[2] = 7\n",
        "\n",
        "list2 = list1[start:stop:step]\n",
        "\n",
        "fun(list1)\n",
        "\n",
        "print(list1)\n",
        "print(list2)"
      ]
    },
    {
      "cell_type": "code",
      "execution_count": null,
      "metadata": {
        "colab": {
          "base_uri": "https://localhost:8080/"
        },
        "id": "sGs-Py7hTKC4",
        "outputId": "1eb48d90-2940-4ca5-acca-f6b1b05a4fe6"
      },
      "outputs": [
        {
          "name": "stdout",
          "output_type": "stream",
          "text": [
            "VINANDAN\n"
          ]
        }
      ],
      "source": [
        "string1 = \"AAAVINANDAN\"\n",
        "\n",
        "print(string1.strip(\"A\"))"
      ]
    },
    {
      "cell_type": "code",
      "execution_count": null,
      "metadata": {
        "colab": {
          "base_uri": "https://localhost:8080/"
        },
        "id": "pRt321hNVHmX",
        "outputId": "33e03209-6f98-4933-fa62-04393f38b067"
      },
      "outputs": [
        {
          "name": "stdout",
          "output_type": "stream",
          "text": [
            "VINNDN\n"
          ]
        }
      ],
      "source": [
        "string1 = \"AVINANDAN\"\n",
        "name = \"\"\n",
        "for index in range(len(string1)):\n",
        "    if string1[index] != \"A\":\n",
        "        name += string1[index]\n",
        "print(name)"
      ]
    },
    {
      "cell_type": "code",
      "execution_count": 1,
      "metadata": {
        "colab": {
          "base_uri": "https://localhost:8080/"
        },
        "id": "_yKvMmg_XX7X",
        "outputId": "02fa5a1f-5682-46ad-af14-c89bfa7751a1"
      },
      "outputs": [
        {
          "name": "stdout",
          "output_type": "stream",
          "text": [
            "VINANDAN\n"
          ]
        }
      ],
      "source": [
        "L = \"AAAVINANDAN\"\n",
        "\n",
        "M = \"\"\n",
        "\n",
        "for i in L:\n",
        "    if i == \"A\":\n",
        "        pass\n",
        "    else:\n",
        "        M = L[L.index(i):]\n",
        "        break\n",
        "\n",
        "print(M)"
      ]
    },
    {
      "cell_type": "code",
      "execution_count": null,
      "metadata": {
        "colab": {
          "base_uri": "https://localhost:8080/"
        },
        "id": "QGl6I7M6Z5Mi",
        "outputId": "342c3bbe-25fc-49f9-9eeb-1e09cb5fe74f"
      },
      "outputs": [
        {
          "name": "stdout",
          "output_type": "stream",
          "text": [
            "['CSE', 'VIN', 'ND', 'N']\n"
          ]
        }
      ],
      "source": [
        "print(\"CSEAVINANDAN\".split(\"A\"))"
      ]
    },
    {
      "cell_type": "code",
      "execution_count": null,
      "metadata": {
        "colab": {
          "base_uri": "https://localhost:8080/"
        },
        "id": "1KvVMlWMay9Z",
        "outputId": "e31b8ec4-2ec9-43bc-ad72-f238adf231a5"
      },
      "outputs": [
        {
          "name": "stdout",
          "output_type": "stream",
          "text": [
            "[1, 2, 3, 4]\n"
          ]
        }
      ],
      "source": [
        "inp = \"1,2,3,4\"\n",
        "inp_list = []\n",
        "for c in inp.split(','):\n",
        "    inp_list.append(int(c))\n",
        "\n",
        "print(inp_list)"
      ]
    },
    {
      "cell_type": "code",
      "execution_count": null,
      "metadata": {
        "id": "WcYuCSG5bOpW"
      },
      "outputs": [],
      "source": [
        "# comprehension\n",
        "inp = \"1,2,3,4\"\n",
        "inp_list = [int(i) for i in inp.split(',')]\n",
        "\n",
        "sqr = [i**2 for i in inp_list]"
      ]
    },
    {
      "cell_type": "markdown",
      "metadata": {
        "id": "1FfxsFeh9B20"
      },
      "source": [
        "# 01/10/23"
      ]
    },
    {
      "cell_type": "code",
      "execution_count": 2,
      "metadata": {
        "colab": {
          "base_uri": "https://localhost:8080/"
        },
        "id": "24nF_FJq84Sn",
        "outputId": "ca6c3264-a80f-4e83-eb3a-41b62ddc2730"
      },
      "outputs": [
        {
          "name": "stdout",
          "output_type": "stream",
          "text": [
            "Split with I: ['M', 'SS', 'SS', 'PP', '']\n",
            "Split with P: ['MISSISSI', '', 'I']\n",
            "Split with S: ['MI', '', 'I', '', 'IPPI']\n"
          ]
        }
      ],
      "source": [
        "word = \"MISSISSIPPI\"\n",
        "\n",
        "split_i = word.split('I')\n",
        "\n",
        "split_p = word.split('P')\n",
        "\n",
        "split_s = word.split('S')\n",
        "\n",
        "print(f\"Split with I: {split_i}\")\n",
        "print(f\"Split with P: {split_p}\")\n",
        "print(f\"Split with S: {split_s}\")"
      ]
    },
    {
      "cell_type": "markdown",
      "metadata": {
        "id": "cqW1GX7ABBcj"
      },
      "source": [
        "| 0      | 1    | 2    | 3    | 4    |\n",
        "| ----------- | ----------- | ----------- | ----------- | ----------- |\n",
        "| 20      | 30       | 60       | 10       | 60       |"
      ]
    },
    {
      "cell_type": "code",
      "execution_count": null,
      "metadata": {
        "colab": {
          "base_uri": "https://localhost:8080/"
        },
        "id": "FoB9eJG5BAhj",
        "outputId": "a59f4687-ac3f-471e-bea9-3fdfa1142f6d"
      },
      "outputs": [
        {
          "name": "stdout",
          "output_type": "stream",
          "text": [
            "[5, 5, 5, 5, 5]\n"
          ]
        }
      ],
      "source": [
        "list_normal = [5]*5\n",
        "\n",
        "print(list_normal)"
      ]
    },
    {
      "cell_type": "code",
      "execution_count": null,
      "metadata": {
        "colab": {
          "base_uri": "https://localhost:8080/"
        },
        "id": "ZijCN1mLBcKL",
        "outputId": "1807cf90-f9e4-481d-d937-240006738067"
      },
      "outputs": [
        {
          "name": "stdout",
          "output_type": "stream",
          "text": [
            "[[5], [5], [5], [5], [5]]\n"
          ]
        }
      ],
      "source": [
        "list_wierd = [ [5] ]*5\n",
        "print(list_wierd)"
      ]
    },
    {
      "cell_type": "code",
      "execution_count": null,
      "metadata": {
        "colab": {
          "base_uri": "https://localhost:8080/"
        },
        "id": "ItT-jzCLFgZm",
        "outputId": "3d395064-a43e-4b97-aedc-bffe1d403663"
      },
      "outputs": [
        {
          "name": "stdout",
          "output_type": "stream",
          "text": [
            "[5]\n",
            "5\n"
          ]
        }
      ],
      "source": [
        "print(list_wierd[0])\n",
        "print(list_wierd[0][0])"
      ]
    },
    {
      "cell_type": "code",
      "execution_count": null,
      "metadata": {
        "colab": {
          "base_uri": "https://localhost:8080/"
        },
        "id": "vSraOnt8Fu11",
        "outputId": "540bcd6e-4d17-4a6f-9b83-f6b1bf609fa6"
      },
      "outputs": [
        {
          "name": "stdout",
          "output_type": "stream",
          "text": [
            "[[6], [6], [6], [6], [6]]\n"
          ]
        }
      ],
      "source": [
        "list_wierd[0][0] = 6\n",
        "print(list_wierd)"
      ]
    },
    {
      "cell_type": "code",
      "execution_count": null,
      "metadata": {
        "colab": {
          "base_uri": "https://localhost:8080/"
        },
        "id": "UO-dKLkzGoPv",
        "outputId": "a688a8d1-1a8a-462d-c689-7ae3a44923e9"
      },
      "outputs": [
        {
          "name": "stdout",
          "output_type": "stream",
          "text": [
            "[[6], [5], [5], [5], [5]]\n"
          ]
        }
      ],
      "source": [
        "list_good = [ [5], [5], [5], [5], [5] ]\n",
        "list_good[0][0] = 6\n",
        "print(list_good)"
      ]
    },
    {
      "cell_type": "code",
      "execution_count": null,
      "metadata": {
        "colab": {
          "base_uri": "https://localhost:8080/"
        },
        "id": "wBsfihJFG3Ni",
        "outputId": "2d775072-2296-4813-c22c-541a7c5bbd11"
      },
      "outputs": [
        {
          "name": "stdout",
          "output_type": "stream",
          "text": [
            "[[7], [6], [6], [6], [6]]\n"
          ]
        }
      ],
      "source": [
        "list_wierd[0] = [7]\n",
        "print(list_wierd)"
      ]
    },
    {
      "cell_type": "markdown",
      "metadata": {
        "id": "e1rbo8Ogoy1r"
      },
      "source": [
        "# 03/10/23"
      ]
    },
    {
      "cell_type": "markdown",
      "metadata": {
        "id": "g0Fv7nF4ElDL"
      },
      "source": [
        "## Dictionary"
      ]
    },
    {
      "cell_type": "code",
      "execution_count": 3,
      "metadata": {
        "colab": {
          "base_uri": "https://localhost:8080/"
        },
        "id": "RwmaF-usurn3",
        "outputId": "44094c47-52c9-43e0-88a4-03d200c0cbec"
      },
      "outputs": [
        {
          "name": "stdout",
          "output_type": "stream",
          "text": [
            "IN\tPrograms: CSE ; Students: 1200\n",
            "IN\tPrograms: CSE BTE ; Students: 1550\n",
            "IN\tPrograms: CSE BTE ENG ; Students: 1800\n",
            "IN\tPrograms: CSE BTE ENG BBA ; Students: 2100\n",
            "OUT\n",
            "Programs: CSE BTE ENG BBA CSE BTE ENG BBA \n",
            "Students: 4200\n"
          ]
        }
      ],
      "source": [
        "prog_students = {'CSE': 1200, 'BTE': 350, 'ENG': 250, 'BBA': 300}\n",
        "\n",
        "total_students = 0\n",
        "total_programs = ''\n",
        "\n",
        "for first, second in prog_students.items():\n",
        "    total_programs += first + ' '\n",
        "    total_students += second\n",
        "\n",
        "    print(f\"IN\\tPrograms: {total_programs}; Students: {total_students}\")\n",
        "\n",
        "\n",
        "for x in prog_students:          #  ???\n",
        "    value = prog_students[x]\n",
        "    total_programs += x + \" \"\n",
        "    total_students += value\n",
        "\n",
        "# for x in prog_students.keys():     same as above\n",
        "# for x in prog_students.values():   cannot access keys\n",
        "\n",
        "\n",
        "print(\"OUT\")\n",
        "print(f\"Programs: {total_programs}\\nStudents: {total_students}\")"
      ]
    },
    {
      "cell_type": "code",
      "execution_count": null,
      "metadata": {
        "id": "wDgqDfztwfKz"
      },
      "outputs": [],
      "source": [
        "course_dist = {'CSE110': ['TAW', 'MSI', 'SBB'],\n",
        "               'CSE111': ['PRN', 'TAW', 'AVB'],\n",
        "               'CSE220': ['PRN', 'ZMD', 'NZF']}\n",
        "\n",
        "# Show courses for each faculty"
      ]
    },
    {
      "cell_type": "markdown",
      "metadata": {
        "id": "vgNb3dVJEeEy"
      },
      "source": [
        "### solve"
      ]
    },
    {
      "cell_type": "code",
      "execution_count": null,
      "metadata": {
        "colab": {
          "base_uri": "https://localhost:8080/"
        },
        "id": "yHnj7QnVEgSx",
        "outputId": "9ed00063-d873-4408-f67b-f724543d31f5"
      },
      "outputs": [
        {
          "name": "stdout",
          "output_type": "stream",
          "text": [
            "{'TAW': ['CSE110', 'CSE111'], 'MSI': ['CSE110'], 'SBB': ['CSE110'], 'PRN': ['CSE111', 'CSE220'], 'AVB': ['CSE111'], 'ZMD': ['CSE220'], 'NZF': ['CSE220']}\n"
          ]
        }
      ],
      "source": [
        "faculty_dist = {}\n",
        "\n",
        "for c_name, f_list in course_dist.items():\n",
        "    for faculty in f_list:\n",
        "        if faculty not in faculty_dist.keys():\n",
        "            faculty_dist[faculty] = []\n",
        "            faculty_dist[faculty].append(c_name)\n",
        "\n",
        "print(faculty_dist)\n"
      ]
    },
    {
      "cell_type": "code",
      "execution_count": null,
      "metadata": {
        "colab": {
          "base_uri": "https://localhost:8080/"
        },
        "id": "1oB8ZBtdGH-h",
        "outputId": "34e1a711-ae4d-498a-b845-bddacb7acc50"
      },
      "outputs": [
        {
          "name": "stdout",
          "output_type": "stream",
          "text": [
            "TAW : ['CSE110', 'CSE111']\n",
            "MSI : ['CSE110']\n",
            "SBB : ['CSE110']\n",
            "PRN : ['CSE111', 'CSE220']\n",
            "AVB : ['CSE111']\n",
            "ZMD : ['CSE220']\n",
            "NZF : ['CSE220']\n"
          ]
        }
      ],
      "source": [
        "for f_name, c_list in faculty_dist.items():\n",
        "    print(f\"{f_name} : {c_list}\")"
      ]
    },
    {
      "cell_type": "markdown",
      "metadata": {
        "id": "Q5odQ115EhNZ"
      },
      "source": [
        "## Function"
      ]
    },
    {
      "cell_type": "code",
      "execution_count": null,
      "metadata": {
        "colab": {
          "base_uri": "https://localhost:8080/"
        },
        "id": "R5EP9g2qo0jN",
        "outputId": "78b48a49-fb70-44b3-a287-44a9da62f9b6"
      },
      "outputs": [
        {
          "name": "stdout",
          "output_type": "stream",
          "text": [
            "271\n"
          ]
        }
      ],
      "source": [
        "def add_nums(num1, num2):\n",
        "    num3 = num1 + num2\n",
        "    # print(num3)\n",
        "    return num3\n",
        "\n",
        "print(add_nums(233,38))"
      ]
    },
    {
      "cell_type": "code",
      "execution_count": null,
      "metadata": {
        "colab": {
          "base_uri": "https://localhost:8080/"
        },
        "id": "fjbEuF6zqFFP",
        "outputId": "c1b50231-f25d-4051-833f-8cbb0c5809ae"
      },
      "outputs": [
        {
          "name": "stdout",
          "output_type": "stream",
          "text": [
            "585\n",
            "I have found the number: None\n"
          ]
        }
      ],
      "source": [
        "def show_num(number):\n",
        "    print(f'I have found the number: {number}')\n",
        "\n",
        "def add_and_show_nums(num3, num4):\n",
        "    num5 = add_nums(num3, num4)\n",
        "    show_num(num5)\n",
        "\n",
        "    # print(show_num(num5))\n",
        "\n",
        "    # show_num(add_nums(num3, num4))\n",
        "\n",
        "\n",
        "add_and_show_nums(542, 43)"
      ]
    },
    {
      "cell_type": "code",
      "execution_count": null,
      "metadata": {
        "colab": {
          "base_uri": "https://localhost:8080/",
          "height": 349
        },
        "id": "vFgr6V_jrOpr",
        "outputId": "e29409cc-2299-48e1-cfce-73d75b4e367e"
      },
      "outputs": [
        {
          "ename": "UnboundLocalError",
          "evalue": "ignored",
          "output_type": "error",
          "traceback": [
            "\u001b[0;31m---------------------------------------------------------------------------\u001b[0m",
            "\u001b[0;31mUnboundLocalError\u001b[0m                         Traceback (most recent call last)",
            "\u001b[0;32m<ipython-input-16-31827fee9de0>\u001b[0m in \u001b[0;36m<cell line: 14>\u001b[0;34m()\u001b[0m\n\u001b[1;32m     12\u001b[0m          \"What is the name of the second tallest mountain in the world?\"]\n\u001b[1;32m     13\u001b[0m \u001b[0;34m\u001b[0m\u001b[0m\n\u001b[0;32m---> 14\u001b[0;31m \u001b[0mdisplay_ques\u001b[0m\u001b[0;34m(\u001b[0m\u001b[0mpart1\u001b[0m\u001b[0;34m)\u001b[0m\u001b[0;34m\u001b[0m\u001b[0;34m\u001b[0m\u001b[0m\n\u001b[0m\u001b[1;32m     15\u001b[0m \u001b[0mdisplay_ques\u001b[0m\u001b[0;34m(\u001b[0m\u001b[0mpart2\u001b[0m\u001b[0;34m)\u001b[0m\u001b[0;34m\u001b[0m\u001b[0;34m\u001b[0m\u001b[0m\n",
            "\u001b[0;32m<ipython-input-16-31827fee9de0>\u001b[0m in \u001b[0;36mdisplay_ques\u001b[0;34m(q_list)\u001b[0m\n\u001b[1;32m      3\u001b[0m \u001b[0;34m\u001b[0m\u001b[0m\n\u001b[1;32m      4\u001b[0m     \u001b[0;32mfor\u001b[0m \u001b[0mi\u001b[0m \u001b[0;32min\u001b[0m \u001b[0mq_list\u001b[0m\u001b[0;34m:\u001b[0m\u001b[0;34m\u001b[0m\u001b[0;34m\u001b[0m\u001b[0m\n\u001b[0;32m----> 5\u001b[0;31m         \u001b[0mprint\u001b[0m\u001b[0;34m(\u001b[0m\u001b[0;34mf'(Q{order}) {i}'\u001b[0m\u001b[0;34m)\u001b[0m\u001b[0;34m\u001b[0m\u001b[0;34m\u001b[0m\u001b[0m\n\u001b[0m\u001b[1;32m      6\u001b[0m         \u001b[0morder\u001b[0m \u001b[0;34m+=\u001b[0m \u001b[0;36m1\u001b[0m\u001b[0;34m\u001b[0m\u001b[0;34m\u001b[0m\u001b[0m\n\u001b[1;32m      7\u001b[0m \u001b[0morder\u001b[0m \u001b[0;34m=\u001b[0m \u001b[0;36m1\u001b[0m\u001b[0;34m\u001b[0m\u001b[0;34m\u001b[0m\u001b[0m\n",
            "\u001b[0;31mUnboundLocalError\u001b[0m: local variable 'order' referenced before assignment"
          ]
        }
      ],
      "source": [
        "\n",
        "def display_ques(q_list):\n",
        "    global order\n",
        "\n",
        "    for i in q_list:\n",
        "        print(f'(Q{order}) {i}')\n",
        "        order += 1\n",
        "order = 1\n",
        "part1 = [\"What is the capital of New Zealand?\",\n",
        "         \"How many standard timezones does Australia have?\"]\n",
        "\n",
        "part2 = [\"Which planet is closest to the Earth?\",\n",
        "         \"What is the name of the second tallest mountain in the world?\"]\n",
        "\n",
        "display_ques(part1)\n",
        "display_ques(part2)"
      ]
    },
    {
      "cell_type": "markdown",
      "metadata": {
        "id": "sZrPr5QD-GqP"
      },
      "source": [
        "# 08/10/23"
      ]
    },
    {
      "cell_type": "markdown",
      "metadata": {
        "id": "GgfABcrc-MHf"
      },
      "source": [
        "## intro to OOP"
      ]
    },
    {
      "cell_type": "code",
      "execution_count": null,
      "metadata": {
        "colab": {
          "base_uri": "https://localhost:8080/"
        },
        "id": "ASw6NfaP-Lrw",
        "outputId": "2b9e7b93-bdb0-4f72-f52a-59f601e80a58"
      },
      "outputs": [
        {
          "name": "stdout",
          "output_type": "stream",
          "text": [
            "<class 'str'>\n"
          ]
        }
      ],
      "source": [
        "var = \"CSE\"\n",
        "print(type(var))"
      ]
    },
    {
      "cell_type": "code",
      "execution_count": null,
      "metadata": {
        "id": "HyGtZW3r-F9Q"
      },
      "outputs": [],
      "source": [
        "class Car:\n",
        "    def __init__(self):\n",
        "        self.brand = \"Toyota\"\n",
        "        self.model = \"Axio\"\n",
        "        self.license_no = \"XYZ\"\n",
        "        self.engine_cap = 1200\n",
        "        self.seats = 5\n",
        "\n",
        "    def printDetail(self):\n",
        "        print(' --- ')\n",
        "        print(self.brand)\n",
        "        print(self.model)\n",
        "        print(self.license_no)\n",
        "        print(self.engine_cap)\n",
        "        print(self.seats)"
      ]
    },
    {
      "cell_type": "code",
      "execution_count": null,
      "metadata": {
        "colab": {
          "base_uri": "https://localhost:8080/"
        },
        "id": "aESrH7UtLzlG",
        "outputId": "c14a9d68-1ad2-4cb7-a946-07edf3a02b46"
      },
      "outputs": [
        {
          "name": "stdout",
          "output_type": "stream",
          "text": [
            "<__main__.Car object at 0x793242c2f790>\n",
            "Toyota\n",
            " --- \n",
            "Toyota\n",
            "Axio\n",
            "XYZ\n",
            "1200\n",
            "5\n",
            "BMW\n",
            " --- \n",
            "BMW\n",
            "Axio\n",
            "XYZ\n",
            "1200\n",
            "5\n"
          ]
        }
      ],
      "source": [
        "\n",
        "c1 = Car() # list()\n",
        "print(c1)\n",
        "print(c1.brand)\n",
        "c1.printDetail()\n",
        "c1.brand = \"BMW\"\n",
        "\n",
        "print(c1.brand)\n",
        "c1.printDetail()"
      ]
    },
    {
      "cell_type": "markdown",
      "metadata": {
        "id": "jIOuP53vRxEg"
      },
      "source": [
        "# 10/10/2023"
      ]
    },
    {
      "cell_type": "code",
      "execution_count": null,
      "metadata": {
        "colab": {
          "base_uri": "https://localhost:8080/"
        },
        "id": "N58s8_2qRWC2",
        "outputId": "7e29652e-5654-4833-974c-3bc2c66577ea"
      },
      "outputs": [
        {
          "name": "stdout",
          "output_type": "stream",
          "text": [
            "<__main__.Car2 object at 0x793242c75090>\n",
            "Marcedes\n"
          ]
        }
      ],
      "source": [
        "class Car2:\n",
        "    pass\n",
        "\n",
        "c2 = Car2()                  # d = {}\n",
        "print(c2)\n",
        "# print(c2.model)            # print(d['model'])\n",
        "\n",
        "c2.model = \"Marcedes\"        # d['model'] = \"BMW\"\n",
        "print(c2.model)              # print(d['model'])"
      ]
    },
    {
      "cell_type": "code",
      "execution_count": null,
      "metadata": {
        "colab": {
          "base_uri": "https://localhost:8080/"
        },
        "id": "Hg-Z-1OK70dw",
        "outputId": "c8c24b03-65f7-4141-9ce7-faada3a97c1a"
      },
      "outputs": [
        {
          "name": "stdout",
          "output_type": "stream",
          "text": [
            "43\n"
          ]
        }
      ],
      "source": [
        "d1 = {}\n",
        "\n",
        "# print(d1['Random'])\n",
        "\n",
        "d1['Random'] = 43\n",
        "\n",
        "print(d1)\n",
        "\n",
        "# print(d1['Random'])"
      ]
    },
    {
      "cell_type": "markdown",
      "metadata": {
        "id": "QVeT_f_1Rr3G"
      },
      "source": [
        "`DIR` shows all attributes"
      ]
    },
    {
      "cell_type": "code",
      "execution_count": null,
      "metadata": {
        "colab": {
          "base_uri": "https://localhost:8080/"
        },
        "id": "HGHco77CR0GD",
        "outputId": "73a19451-8d86-43d7-e286-aaab7ac1d4e8"
      },
      "outputs": [
        {
          "name": "stdout",
          "output_type": "stream",
          "text": [
            "<__main__.Car object at 0x793242c2f790>\n",
            "\n",
            "__class__ | __delattr__ | __dict__ | __dir__ | __doc__ | __eq__ | \n",
            "__format__ | __ge__ | __getattribute__ | __gt__ | __hash__ | __init__ | \n",
            "__init_subclass__ | __le__ | __lt__ | __module__ | __ne__ | __new__ | \n",
            "__reduce__ | __reduce_ex__ | __repr__ | __setattr__ | __sizeof__ | __str__ | \n",
            "__subclasshook__ | __weakref__ | brand | engine_cap | license_no | model | \n",
            "printDetail | seats | \n",
            "\n",
            "<__main__.Car2 object at 0x793242c75090>\n",
            "\n",
            "__class__ | __delattr__ | __dict__ | __dir__ | \n",
            "__doc__ | __eq__ | __format__ | __ge__ | __getattribute__ | __gt__ | \n",
            "__hash__ | __init__ | __init_subclass__ | __le__ | __lt__ | __module__ | \n",
            "__ne__ | __new__ | __reduce__ | __reduce_ex__ | __repr__ | __setattr__ | \n",
            "__sizeof__ | __str__ | __subclasshook__ | __weakref__ | model | "
          ]
        }
      ],
      "source": [
        "print(c1)\n",
        "# print(dir(c1))\n",
        "c = 0\n",
        "print()\n",
        "for item in dir(c1):\n",
        "    print(item, end=\" | \")\n",
        "    c+=1\n",
        "    if c%6 == 0:\n",
        "        print()\n",
        "\n",
        "print('\\n')\n",
        "print(c2)\n",
        "# # print(dir(c2))\n",
        "print()\n",
        "for item in dir(c2):\n",
        "    print(item, end=\" | \")\n",
        "    c+=1\n",
        "    if c%6 == 0:\n",
        "        print()"
      ]
    },
    {
      "cell_type": "code",
      "execution_count": null,
      "metadata": {
        "colab": {
          "base_uri": "https://localhost:8080/"
        },
        "id": "Xxs8YYs_ZTYD",
        "outputId": "df96676f-702a-4623-8785-8b434f89da38"
      },
      "outputs": [
        {
          "name": "stdout",
          "output_type": "stream",
          "text": [
            "\n",
            "__add__ | \n",
            "__class__ | __class_getitem__ | __contains__ | __delattr__ | __delitem__ | __dir__ | \n",
            "__doc__ | __eq__ | __format__ | __ge__ | __getattribute__ | __getitem__ | \n",
            "__gt__ | __hash__ | __iadd__ | __imul__ | __init__ | __init_subclass__ | \n",
            "__iter__ | __le__ | __len__ | __lt__ | __mul__ | __ne__ | \n",
            "__new__ | __reduce__ | __reduce_ex__ | __repr__ | __reversed__ | __rmul__ | \n",
            "__setattr__ | __setitem__ | __sizeof__ | __str__ | __subclasshook__ | append | \n",
            "clear | copy | count | extend | index | insert | \n",
            "pop | remove | reverse | sort | "
          ]
        }
      ],
      "source": [
        "l = []\n",
        "print()\n",
        "for item in dir(l):\n",
        "    print(item, end=\" | \")\n",
        "    c+=1\n",
        "    if c%6 == 0:\n",
        "        print()"
      ]
    },
    {
      "cell_type": "code",
      "execution_count": null,
      "metadata": {
        "colab": {
          "base_uri": "https://localhost:8080/"
        },
        "id": "01nLNbqdZ45j",
        "outputId": "6c4904bd-f63f-4652-df11-2a60ec1a3994"
      },
      "outputs": [
        {
          "name": "stdout",
          "output_type": "stream",
          "text": [
            "<built-in function print>\n"
          ]
        }
      ],
      "source": [
        "print(print)"
      ]
    },
    {
      "cell_type": "code",
      "execution_count": null,
      "metadata": {
        "colab": {
          "base_uri": "https://localhost:8080/"
        },
        "id": "p0NgG0YLaDfR",
        "outputId": "5bb25c5c-6d6a-4ac1-db13-fb2dfa03938f"
      },
      "outputs": [
        {
          "name": "stdout",
          "output_type": "stream",
          "text": [
            "1 BMW 2021\n",
            "2 MAN 2015\n",
            "1 BMW 2020\n",
            "2 MAN 2015\n"
          ]
        }
      ],
      "source": [
        "class Car:\n",
        "    def __init__(self):\n",
        "        self.brand = \"\"\n",
        "        self.model = \"\"\n",
        "\n",
        "car_obj = Car()\n",
        "\n",
        "car_obj.brand = \"BMW\"\n",
        "car_obj.model = \"2021\"\n",
        "\n",
        "# print( Car().brand, car_obj.model)\n",
        "print('1',car_obj.brand, car_obj.model)\n",
        "\n",
        "car_obj_2 = Car()\n",
        "\n",
        "car_obj_2.brand = \"MAN\"\n",
        "car_obj_2.model = \"2015\"\n",
        "print('2',car_obj_2.brand, car_obj_2.model)\n",
        "\n",
        "car_obj.model = \"2020\"\n",
        "print('1',car_obj.brand, car_obj.model)\n",
        "print('2',car_obj_2.brand, car_obj_2.model)"
      ]
    },
    {
      "cell_type": "code",
      "execution_count": null,
      "metadata": {
        "colab": {
          "base_uri": "https://localhost:8080/"
        },
        "id": "F9K5ZW00d6TO",
        "outputId": "bbce6df3-b311-4d89-cb62-9243f9f97c4e"
      },
      "outputs": [
        {
          "name": "stdout",
          "output_type": "stream",
          "text": [
            "BMW 2021\n"
          ]
        }
      ],
      "source": [
        "class Car:\n",
        "    def __init__(self):\n",
        "        self.brand = \"\"\n",
        "        self.model = \"\"\n",
        "\n",
        "    def assign(self, b, m):\n",
        "        self.brand = b\n",
        "        self.model = m\n",
        "\n",
        "car_obj = Car()\n",
        "\n",
        "# car_obj.brand = \"BMW\"\n",
        "# car_obj.model = \"2021\"\n",
        "car_obj.assign(\"BMW\", \"2021\")\n",
        "\n",
        "print(car_obj.brand, car_obj.model)\n"
      ]
    },
    {
      "cell_type": "code",
      "execution_count": null,
      "metadata": {
        "colab": {
          "base_uri": "https://localhost:8080/"
        },
        "id": "WER53prVfvnx",
        "outputId": "8641464a-8ac5-489e-9f4a-cb3ca3a28ff6"
      },
      "outputs": [
        {
          "name": "stdout",
          "output_type": "stream",
          "text": [
            "BMW 2021\n"
          ]
        }
      ],
      "source": [
        "class Car:\n",
        "    def __init__(self, b, m):\n",
        "        self.brand = b\n",
        "        self.model = m\n",
        "\n",
        "car_obj = Car(\"BMW\", \"2021\")\n",
        "\n",
        "# car_obj.brand = \"BMW\"\n",
        "# car_obj.model = \"2021\"\n",
        "# car_obj.assign(\"BMW\", \"2021\")\n",
        "\n",
        "print(car_obj.brand, car_obj.model)\n"
      ]
    },
    {
      "cell_type": "markdown",
      "metadata": {
        "id": "iob_Jnpi-pcz"
      },
      "source": [
        "# 12/10/23 (ONLINE CLASS)\n"
      ]
    },
    {
      "cell_type": "markdown",
      "metadata": {
        "id": "DMagIx3e_MIH"
      },
      "source": [
        "### Example 1:\n",
        "```\n",
        "Name of this flower: Rose\n",
        "Color of this flower: Red\n",
        "Number of petal: 6\n",
        "=====================\n",
        "Name of this flower: Orchid\n",
        "Color of this flower: Purple\n",
        "Number of petal: 4\n",
        "flower1 memory adress:  <__main__.Flower object at 0x000002060865AD90>\n",
        "flower2 memory adress:  <__main__.Flower object at 0x0000020608769AF0>\n",
        "They are different\n",
        "```"
      ]
    },
    {
      "cell_type": "code",
      "execution_count": null,
      "metadata": {
        "colab": {
          "base_uri": "https://localhost:8080/"
        },
        "id": "A0e-ROPV-t35",
        "outputId": "96d95966-e7f2-40c4-aa83-f3e14b09b2b7"
      },
      "outputs": [
        {
          "name": "stdout",
          "output_type": "stream",
          "text": [
            "Name of this flower: Rose\n",
            "Color of this flower: Red\n",
            "Number of petal: 6\n",
            "=====================\n",
            "Name of this flower: Rose\n",
            "Color of this flower: Red\n",
            "Number of petal: 6\n",
            "flower1 memory adress:  <__main__.Flower object at 0x7b1293a11870>\n",
            "flower2 memory adress:  <__main__.Flower object at 0x7b1293a138e0>\n",
            "They are different\n"
          ]
        }
      ],
      "source": [
        "class Flower:\n",
        "    def __init__(self):\n",
        "        self.name = None\n",
        "        self.color = \"\"\n",
        "        self.num_of_petal = 0\n",
        "\n",
        "\n",
        "#######################\n",
        "flower1 = Flower()      # <<< name = None, color = \"\", num_of_petal = 0 >>>\n",
        "flower1.name = \"Rose\"   # <<< name = \"Rose\", color = \"\", num_of_petal = 0 >>>\n",
        "flower1.color = \"Red\"   # <<< name = \"Rose\", color = \"Red\", num_of_petal = 0 >>>\n",
        "flower1.num_of_petal = 6  # <<< name = \"Rose\", color = \"Red\", num_of_petal = 6 >>>\n",
        "print(\"Name of this flower:\", flower1.name)\n",
        "print(\"Color of this flower:\", flower1.color)\n",
        "print(\"Number of petal:\", flower1.num_of_petal)\n",
        "print(\"=====================\")\n",
        "# ======================================================================#\n",
        "flower2 = Flower()\n",
        "flower2.name = \"Rose\"\n",
        "flower2.color = \"Red\"\n",
        "flower2.num_of_petal = 6\n",
        "print(\"Name of this flower:\", flower2.name)\n",
        "print(\"Color of this flower:\", flower2.color)\n",
        "print(\"Number of petal:\", flower2.num_of_petal)\n",
        "# ======================================================================#\n",
        "print(\"flower1 memory adress: \", flower1)\n",
        "print(\"flower2 memory adress: \", flower2)\n",
        "if flower2 == flower1:\n",
        "    print(\"They are same\")\n",
        "else:\n",
        "    print(\"They are different\")"
      ]
    },
    {
      "cell_type": "code",
      "execution_count": null,
      "metadata": {
        "colab": {
          "base_uri": "https://localhost:8080/"
        },
        "id": "MnSlyQszGIP7",
        "outputId": "ed6cb977-9d50-458e-bec2-0327b1e45504"
      },
      "outputs": [
        {
          "name": "stdout",
          "output_type": "stream",
          "text": [
            "Equal "
          ]
        }
      ],
      "source": [
        "l1 = [1,2]\n",
        "l2 = [1,2]\n",
        "if l1 is l2:\n",
        "    print('Equal', end = ' ')\n",
        "else:\n",
        "    print(\"Not Equal\")"
      ]
    },
    {
      "cell_type": "markdown",
      "metadata": {
        "id": "c_jED8Fm_hGY"
      },
      "source": [
        "### Example 2:\n",
        "```\n",
        "=======Team 1=======\n",
        "Pokemon 1: pikachu 90\n",
        "Pokemon 2: charmander 60\n",
        "Combined Power: 1500\n",
        "```"
      ]
    },
    {
      "cell_type": "code",
      "execution_count": null,
      "metadata": {
        "colab": {
          "base_uri": "https://localhost:8080/"
        },
        "id": "vX-PaMFz-9bw",
        "outputId": "6da082c4-d40d-43c2-f3fb-619075e2ff3a"
      },
      "outputs": [
        {
          "name": "stdout",
          "output_type": "stream",
          "text": [
            "=======Team 1=======\n",
            "Pokemon 1: pikachu 90\n",
            "Pokemon 2: charmander 60\n",
            "Combined Power: 1500\n"
          ]
        }
      ],
      "source": [
        "class Pokemon:\n",
        "    def __init__(self, v1, v2, v3, v4, v5):\n",
        "        self.pokemon1_name = v1\n",
        "        self.pokemon2_name = v2\n",
        "        self.pokemon1_power = v3\n",
        "        self.pokemon2_power = v4\n",
        "        self.damage_rate = v5\n",
        "\n",
        "team_pika = Pokemon(\"pikachu\", \"charmander\", 90, 60, 10)\n",
        "print(\"=======Team 1=======\")\n",
        "print(\"Pokemon 1:\", team_pika.pokemon1_name, team_pika.pokemon1_power)\n",
        "print(\"Pokemon 2:\", team_pika.pokemon2_name, team_pika.pokemon2_power)\n",
        "pika_combined_power = (\n",
        "    team_pika.pokemon1_power + team_pika.pokemon2_power # 150\n",
        ") * team_pika.damage_rate\n",
        "print(\"Combined Power:\", pika_combined_power)"
      ]
    },
    {
      "cell_type": "markdown",
      "metadata": {
        "id": "LI0FfD1W_i4c"
      },
      "source": [
        "### Example 3:\n",
        "```\n",
        "New player added in team!\n",
        "Name of the Player: Ronaldo\n",
        "Jersey Number of player: 9\n",
        "Position of player: Striker\n",
        "===========================\n",
        "```"
      ]
    },
    {
      "cell_type": "code",
      "execution_count": null,
      "metadata": {
        "colab": {
          "base_uri": "https://localhost:8080/"
        },
        "id": "P7Y_lAiM_CGj",
        "outputId": "a7f11647-93e1-49b5-eee9-20f2144d765e"
      },
      "outputs": [
        {
          "name": "stdout",
          "output_type": "stream",
          "text": [
            "New player added in team!\n",
            "Name of the Player: Ronaldo\n",
            "Jersey Number of player: 9\n",
            "Position of player: Striker\n",
            "===========================\n"
          ]
        }
      ],
      "source": [
        "class Player:\n",
        "    def __init__(self):\n",
        "        self.name = \"\"\n",
        "        self.jersey_number = 0\n",
        "        self.position = \"\"\n",
        "        print(\"New player added in team!\")\n",
        "\n",
        "\n",
        "player1 = Player()  # init() call : print\n",
        "player1.name = \"Ronaldo\"\n",
        "player1.jersey_number = 9\n",
        "player1.position = \"Striker\"\n",
        "print(\"Name of the Player:\", player1.name)\n",
        "print(\"Jersey Number of player:\", player1.jersey_number)\n",
        "print(\"Position of player:\", player1.position)\n",
        "print(\"===========================\")"
      ]
    },
    {
      "cell_type": "markdown",
      "metadata": {
        "id": "lUftyuloTYWH"
      },
      "source": [
        "# 27/10/2023 (Online Extra)"
      ]
    },
    {
      "cell_type": "code",
      "execution_count": null,
      "metadata": {
        "colab": {
          "base_uri": "https://localhost:8080/"
        },
        "id": "PLvxO5EnTTkb",
        "outputId": "5c09fc49-ed55-4409-cc3b-3155f56d3c1e"
      },
      "outputs": [
        {
          "data": {
            "text/plain": [
              "3"
            ]
          },
          "execution_count": 1,
          "metadata": {},
          "output_type": "execute_result"
        }
      ],
      "source": [
        "3"
      ]
    },
    {
      "cell_type": "code",
      "execution_count": null,
      "metadata": {
        "colab": {
          "base_uri": "https://localhost:8080/"
        },
        "id": "6egwVfyETfaP",
        "outputId": "268a4ce0-d392-4cd2-e38e-ed7e4a5b1f06"
      },
      "outputs": [
        {
          "data": {
            "text/plain": [
              "8"
            ]
          },
          "execution_count": 2,
          "metadata": {},
          "output_type": "execute_result"
        }
      ],
      "source": [
        "3 +5"
      ]
    },
    {
      "cell_type": "code",
      "execution_count": null,
      "metadata": {
        "colab": {
          "base_uri": "https://localhost:8080/"
        },
        "id": "6MykYh3AThyI",
        "outputId": "77fb68f3-f722-4af8-9426-6019dddcfb31"
      },
      "outputs": [
        {
          "name": "stdout",
          "output_type": "stream",
          "text": [
            "9\n",
            "\n"
          ]
        }
      ],
      "source": [
        "def f(x):\n",
        "    return x*3\n",
        "\n",
        "print(f(3))\n",
        "f(4)\n",
        "print()"
      ]
    },
    {
      "cell_type": "markdown",
      "metadata": {
        "id": "VKojCJHKKDk1"
      },
      "source": [
        "# 29/10/2023 (Online)"
      ]
    },
    {
      "cell_type": "code",
      "execution_count": null,
      "metadata": {
        "colab": {
          "base_uri": "https://localhost:8080/"
        },
        "id": "6a7V8z9aKCDJ",
        "outputId": "828a5285-5867-457d-c9a4-f396fb2a0a36"
      },
      "outputs": [
        {
          "name": "stdout",
          "output_type": "stream",
          "text": [
            "Brand Name: Miyako\n",
            "Ingredients: Coffee beans, Milk, Sugar\n"
          ]
        }
      ],
      "source": [
        "class CoffeeMachine:\n",
        "    def __init__(self, s):\n",
        "        # self variable create\n",
        "        self.brand = s\n",
        "        self.ingredients = []\n",
        "\n",
        "    def insertIngredients(self, *ing):\n",
        "        self.ingredients.extend(ing)\n",
        "\n",
        "    def getDetails(self):\n",
        "        # print(\"Fun\")\n",
        "        # out = \"\"\n",
        "        # line1 = f\"Brand Name: {self.brand}\"\n",
        "        # line2 = \"Ingredients: \"\n",
        "        # for i in self.ingredients:\n",
        "        #     line2 += i + \", \"\n",
        "\n",
        "        # out = line1 + \"\\n\" + line2[0:-2:1]\n",
        "        # return out\n",
        "\n",
        "\n",
        "        out = f\"Brand Name: {self.brand}\\nIngredients: \"\n",
        "        for i in self.ingredients:\n",
        "            out += i + \", \"\n",
        "\n",
        "        return out[:-2]\n",
        "\n",
        "cm1 = CoffeeMachine(\"Miyako\")\n",
        "cm1.insertIngredients(\"Coffee beans\", \"Milk\", \"Sugar\")\n",
        "print(cm1.getDetails())\n",
        "\n",
        "# Brand Name: Miyako\n",
        "# Ingredients: Coffee beans, Milk, Sugar"
      ]
    },
    {
      "cell_type": "code",
      "execution_count": null,
      "metadata": {
        "colab": {
          "base_uri": "https://localhost:8080/"
        },
        "id": "j5cCduncRDDI",
        "outputId": "2c0c2eab-ba62-4c28-b6d3-7c42a22b66a4"
      },
      "outputs": [
        {
          "name": "stdout",
          "output_type": "stream",
          "text": [
            "1################################# \n",
            "Your 6-inch Hot spicy Regular Pizza is ready with Cheese, Pepperoni toppings. Enjoy!\n",
            "2================================\n",
            "3#################################\n",
            "No toppings specified! Can't bake pizza.\n",
            "4================================\n",
            "5#################################\n",
            "Your 12-inch Regular spicy Chicken Blast Pizza is ready with Mushroom toppings. Enjoy!\n",
            "6================================\n",
            "7#################################\n",
            "Sorry! Spice level not allowed. Can't bake pizza.\n",
            "8================================\n"
          ]
        }
      ],
      "source": [
        "class PizzaMachine:\n",
        "    def __init__(self, x = \"Regular\" , y = 6):\n",
        "        self.size = y\n",
        "        self.spice = None # \"Regular\"\n",
        "        self.flavour = x\n",
        "        self.toppings = None\n",
        "\n",
        "    def customizePizza(self, x, y = None):\n",
        "        if y != None:\n",
        "            # Both parameters available\n",
        "            # x is list, y is string\n",
        "            # x -> Toppings, y -> spice level\n",
        "            temp = \"\"\n",
        "            for top in x:\n",
        "                temp += top + \", \"\n",
        "\n",
        "            self.toppings = temp[:-2]\n",
        "            self.spice = y\n",
        "\n",
        "        else:\n",
        "            # Only one parameter available\n",
        "            if type(x) == str: # only spice\n",
        "                self.spice = x\n",
        "\n",
        "            elif type(x) == list: # only toppings\n",
        "                temp = \"\"\n",
        "                for top in x:\n",
        "                    temp += top + \", \"\n",
        "\n",
        "                self.toppings = temp[:-2]\n",
        "\n",
        "                self.spice = \"Regular\"\n",
        "\n",
        "\n",
        "    def __str__(self):\n",
        "        out = \"\"\n",
        "        if self.toppings == None:\n",
        "            # Not valid 1 (toppings)\n",
        "            out = \"No toppings specified! Can't bake pizza.\"\n",
        "        elif self.spice == \"Hot\" or self.spice == \"Regular\" or self.spice == \"Super Naga\":\n",
        "            # self.spice in [\"Hot\", \"Regular\", \"Super Naga\"]:\n",
        "            # valid\n",
        "            out = f\"Your {self.size}-inch {self.spice} spicy {self.flavour} Pizza is ready with {self.toppings} toppings. Enjoy!\"\n",
        "        else:\n",
        "            # Not valid 2 (spice)\n",
        "            out = \"Sorry! Spice level not allowed. Can't bake pizza.\"\n",
        "        return out\n",
        "\n",
        "\n",
        "\n",
        "pizza1 = PizzaMachine()\n",
        "pizza1.customizePizza([\"Cheese\", \"Pepperoni\"], \"Hot\")\n",
        "print(\"1################################# \")\n",
        "print(pizza1)\n",
        "print(\"2================================\")\n",
        "pizza2 = PizzaMachine(\"Vege\")\n",
        "pizza2.customizePizza(\"Super Naga\")\n",
        "print(\"3#################################\")\n",
        "print(pizza2)\n",
        "print(\"4================================\")\n",
        "pizza3 = PizzaMachine(\"Chicken Blast\",12)\n",
        "pizza3.customizePizza([\"Mushroom\"])\n",
        "print(\"5#################################\")\n",
        "print(pizza3)\n",
        "print(\"6================================\")\n",
        "pizza4 = PizzaMachine(\"Beef Bonanza\",16)\n",
        "pizza4.customizePizza([\"Cheese\",\"Beef kalabhuna\"],\"Mild\")\n",
        "print(\"7#################################\")\n",
        "print(pizza4)\n",
        "print(\"8================================\")"
      ]
    },
    {
      "cell_type": "code",
      "execution_count": null,
      "metadata": {
        "colab": {
          "base_uri": "https://localhost:8080/"
        },
        "id": "9Plv4THGVqte",
        "outputId": "130f948c-1fef-4e1e-85e6-b117edde7b10"
      },
      "outputs": [
        {
          "name": "stdout",
          "output_type": "stream",
          "text": [
            "1################################# \n",
            "Your 6-inch Hot spicy Regular Pizza is ready with Cheese, Pepperoni toppings. Enjoy!\n",
            "2================================\n",
            "3#################################\n",
            "No toppings specified! Can't bake pizza.\n",
            "4================================\n",
            "5#################################\n",
            "Your 12-inch Regular spicy Chicken Blast Pizza is ready with Mushroom toppings. Enjoy!\n",
            "6================================\n",
            "7#################################\n",
            "Sorry! Spice level not allowed. Can't bake pizza.\n",
            "8================================\n"
          ]
        }
      ],
      "source": [
        "class PizzaMachine:\n",
        "    def __init__(self, x = \"Regular\" , y = 6):\n",
        "        self.size = y\n",
        "        self.spice = None # \"Regular\"\n",
        "        self.flavour = x\n",
        "        self.toppings = None\n",
        "\n",
        "    def customizePizza(self, x, y = None):\n",
        "        if y != None:\n",
        "            # Both parameters available\n",
        "            # x is list, y is string\n",
        "            # x -> Toppings, y -> spice level\n",
        "            temp = \"\"\n",
        "            for top in x:\n",
        "                temp += top + \", \"\n",
        "\n",
        "            self.toppings = temp[:-2]\n",
        "            self.spice = y\n",
        "\n",
        "        else:\n",
        "            # Only one parameter available\n",
        "            if type(x) == str: # only spice\n",
        "                self.spice = x\n",
        "\n",
        "            elif type(x) == list: # only toppings\n",
        "                temp = \"\"\n",
        "                for top in x:\n",
        "                    temp += top + \", \"\n",
        "\n",
        "                self.toppings = temp[:-2]\n",
        "\n",
        "                self.spice = \"Regular\"\n",
        "\n",
        "\n",
        "        out = \"\"\n",
        "        if self.toppings == None:\n",
        "            # Not valid 1 (toppings)\n",
        "            out = \"No toppings specified! Can't bake pizza.\"\n",
        "        elif self.spice == \"Hot\" or self.spice == \"Regular\" or self.spice == \"Super Naga\":\n",
        "            # self.spice in [\"Hot\", \"Regular\", \"Super Naga\"]:\n",
        "            # valid\n",
        "            out = f\"Your {self.size}-inch {self.spice} spicy {self.flavour} Pizza is ready with {self.toppings} toppings. Enjoy!\"\n",
        "        else:\n",
        "            # Not valid 2 (spice)\n",
        "            out = \"Sorry! Spice level not allowed. Can't bake pizza.\"\n",
        "        return out\n",
        "\n",
        "pizza1 = PizzaMachine()\n",
        "order1 = pizza1.customizePizza([\"Cheese\", \"Pepperoni\"],\n",
        "\"Hot\")\n",
        "print(\"1################################# \")\n",
        "print(order1)\n",
        "print(\"2================================\")\n",
        "pizza2 = PizzaMachine(\"Vege\")\n",
        "order2 = pizza2.customizePizza(\"Super Naga\")\n",
        "print(\"3#################################\")\n",
        "print(order2)\n",
        "print(\"4================================\")\n",
        "pizza3 = PizzaMachine(\"Chicken Blast\",12)\n",
        "order3 = pizza3.customizePizza([\"Mushroom\"])\n",
        "print(\"5#################################\")\n",
        "print(order3)\n",
        "print(\"6================================\")\n",
        "pizza4 = PizzaMachine(\"Beef Bonanza\",16)\n",
        "order4 = pizza4.customizePizza([\"Cheese\",\"Beef kalabhuna\"],\"Mild\")\n",
        "print(\"7#################################\")\n",
        "print(order4)\n",
        "print(\"8================================\")"
      ]
    },
    {
      "cell_type": "markdown",
      "metadata": {
        "id": "DZGEH0SnaXj8"
      },
      "source": [
        "# 31/10/2023 (Online)\n",
        "\n",
        "  Only did tracing\n",
        "\n"
      ]
    },
    {
      "cell_type": "markdown",
      "metadata": {
        "id": "cZCMDMlp1oMM"
      },
      "source": [
        "## consultation"
      ]
    },
    {
      "cell_type": "code",
      "execution_count": null,
      "metadata": {
        "colab": {
          "base_uri": "https://localhost:8080/"
        },
        "id": "10RYtu_-1noW",
        "outputId": "5cfb4e45-ae4e-41a3-cab1-fd55210950ae"
      },
      "outputs": [
        {
          "name": "stdout",
          "output_type": "stream",
          "text": [
            "The ChE Department has 5 sections.\n",
            "1-----------------------------\n",
            "The MME Department has 5 sections.\n",
            "2-----------------------------\n",
            "The NCE Department has 8 sections.\n",
            "3-----------------------------\n",
            "The ChE Department has an average of 20.4 students in each section.\n",
            "4-----------------------------\n",
            "The MME Department doesn't have 3 sections.\n",
            "5-----------------------------\n",
            "The NCE Department has an average of 29.875 students in each section.\n",
            "6-----------------------------\n",
            "The Engineering Department has 10 sections.\n",
            "7-----------------------------\n",
            "The Engineering Department has an average of 30.7 students in each section.\n",
            "8-----------------------------\n",
            "ChE Department is merged to Engineering Department.\n",
            "MME Department is merged to Engineering Department.\n",
            "Now the Engineering Department has an average of 40.9 students in each section.\n",
            "9-----------------------------\n",
            "NCE Department is merged to Engineering Department.\n",
            "Now the Engineering Department has an average of 64.8 students in each section.\n"
          ]
        }
      ],
      "source": [
        "# Department\n",
        "#    - dept name\n",
        "#    - sections\n",
        "#    - avg students\n",
        "#    - init(0~2)\n",
        "#    - add_student(*)\n",
        "#    - merge_Department(*)\n",
        "\n",
        "\n",
        "class Department:\n",
        "    def __init__(self, u = \"ChE Department\" , v = 5 ):\n",
        "        self.dept_name = u\n",
        "        self.sections = v\n",
        "        self.avg_students = 0\n",
        "        print(f'The {u} has {v} sections.')\n",
        "\n",
        "    def add_students(self, *count):\n",
        "        # if section match\n",
        "        if self.sections == len(count):\n",
        "            # avg count\n",
        "            s = 0\n",
        "            for i in count:\n",
        "                s += i\n",
        "            self.avg_students = s/len(count)\n",
        "            # print\n",
        "            print(f\"The {self.dept_name} has an average of {self.avg_students} students in each section.\")\n",
        "        # else\n",
        "        else:\n",
        "            # print\n",
        "            print(f\"The {self.dept_name} doesn't have {len(count)} sections.\")\n",
        "\n",
        "\n",
        "    # def merge_Department(self, *dep_obj):\n",
        "    #     # total section\n",
        "    #     total_sections = self.sections\n",
        "    #     for obj in dep_obj:\n",
        "    #         total_sections += obj.sections\n",
        "\n",
        "    #     self.sections = total_sections\n",
        "\n",
        "\n",
        "    #     # merged average\n",
        "    #     # step 1: total student\n",
        "    #     total_student = self.avg_students * self.sections\n",
        "\n",
        "    #     for obj in dep_obj:\n",
        "    #         total_student += obj.avg_students * obj.sections\n",
        "\n",
        "    #     # step 2: calculate average\n",
        "    #     self.avg_students = total_student / self.sections\n",
        "\n",
        "\n",
        "    #     # return\n",
        "    #     for obj in dep_obj:\n",
        "    #         print(f\"{obj.dept_name} is merged to {self.dept_name}.\")\n",
        "\n",
        "    #     return (f\"Now the {self.dept_name} has an average of {self.avg_students} students in each section.\")\n",
        "\n",
        "    def merge_Department(self, *dep_obj):\n",
        "        # total_sections = self.sections\n",
        "        total_student = self.avg_students * self.sections\n",
        "        for obj in dep_obj:\n",
        "            # total_sections += obj.sections\n",
        "            total_student += obj.avg_students * obj.sections\n",
        "            print(f\"{obj.dept_name} is merged to {self.dept_name}.\")\n",
        "        # self.sections = total_sections\n",
        "        self.avg_students = total_student / self.sections\n",
        "        return (f\"Now the {self.dept_name} has an average of {self.avg_students} students in each section.\")\n",
        "\n",
        "d1 = Department()\n",
        "print('1-----------------------------')\n",
        "d2 = Department('MME Department')\n",
        "print('2-----------------------------')\n",
        "d3 = Department('NCE Department', 8)\n",
        "print('3-----------------------------')\n",
        "d1.add_students(12, 23, 12, 34, 21)\n",
        "print('4-----------------------------')\n",
        "d2.add_students(40, 30, 21)\n",
        "print('5-----------------------------')\n",
        "d3.add_students(12, 34, 41, 17, 30, 22, 32, 51)\n",
        "print('6-----------------------------')\n",
        "d4 = Department('Engineering Department', 10)\n",
        "print('7-----------------------------')\n",
        "d4.add_students(21,30,40,36,10,32,27,51,45,15)\n",
        "print('8-----------------------------')\n",
        "print(d4.merge_Department(d1, d2))\n",
        "print('9-----------------------------')\n",
        "print(d4.merge_Department(d3))"
      ]
    },
    {
      "cell_type": "code",
      "execution_count": null,
      "metadata": {
        "colab": {
          "base_uri": "https://localhost:8080/"
        },
        "id": "p-w183EeaXTQ",
        "outputId": "6facf8a4-9ae1-49b3-9903-22d6b05e39b8"
      },
      "outputs": [
        {
          "name": "stdout",
          "output_type": "stream",
          "text": [
            "The ChE Department has 5 sections.\n",
            "1-----------------------------\n",
            "The MME Department has 5 sections.\n",
            "2-----------------------------\n",
            "The NCE Department has 8 sections.\n",
            "3-----------------------------\n",
            "The ChE Department has an average of 20.4 students in each section.\n",
            "4-----------------------------\n",
            "The MME Department doesn't have 3 sections.\n",
            "5-----------------------------\n",
            "The NCE Department has an average of 29.875 students in each section.\n",
            "6-----------------------------\n",
            "The Engineering Department has 10 sections.\n",
            "7-----------------------------\n",
            "The Engineering Department has an average of 30.7 students in each section.\n",
            "8-----------------------------\n",
            "ChE Department is merged to Engineering Department.\n",
            "MME Department is merged to Engineering Department.\n",
            "Now the Engineering Department has an average of 40.9 students in each section.\n",
            "9-----------------------------\n",
            "NCE Department is merged to Engineering Department.\n",
            "Now the Engineering Department has an average of 64.8 students in each section.\n"
          ]
        }
      ],
      "source": [
        "# Department\n",
        "#    - dept name\n",
        "#    - sections\n",
        "#    - avg students\n",
        "#    - init(0~2)\n",
        "#    - add_students(*)\n",
        "#    - merge_Department(*)\n",
        "\n",
        "class Department:\n",
        "    def __init__(self, a = \"ChE Department\",  b = 5):\n",
        "        self.dep = a\n",
        "        self.sec = b\n",
        "        self.avg = 0\n",
        "        print(f\"The {a} has {b} sections.\")\n",
        "\n",
        "    def add_students(self, *num):\n",
        "        if self.sec == len(num):\n",
        "            s = 0\n",
        "            for i in num:\n",
        "                s += i\n",
        "            self.avg = s / len(num)\n",
        "\n",
        "            print(f\"The {self.dep} has an average of {self.avg} students in each section.\")\n",
        "        else:\n",
        "            print(f\"The {self.dep} doesn't have {len(num)} sections.\")\n",
        "\n",
        "    def merge_Department(self, *objects):\n",
        "        # find total student, with formula\n",
        "        total_student = self.sec * self.avg\n",
        "        out = \"\"\n",
        "        for obj in objects:\n",
        "            total_student += obj.sec * obj.avg\n",
        "            out += f\"{obj.dep} is merged to {self.dep}.\\n\"\n",
        "\n",
        "        self.avg = total_student / self.sec\n",
        "        out += f\"Now the {self.dep} has an average of {self.avg} students in each section.\"\n",
        "        return out\n",
        "\n",
        "d1 = Department()\n",
        "print('1-----------------------------')\n",
        "d2 = Department('MME Department')\n",
        "print('2-----------------------------')\n",
        "d3 = Department('NCE Department', 8)\n",
        "print('3-----------------------------')\n",
        "d1.add_students(12, 23, 12, 34, 21)\n",
        "print('4-----------------------------')\n",
        "d2.add_students(40, 30, 21)\n",
        "print('5-----------------------------')\n",
        "d3.add_students(12, 34, 41, 17, 30, 22, 32, 51)\n",
        "print('6-----------------------------')\n",
        "mega = Department('Engineering Department', 10)\n",
        "print('7-----------------------------')\n",
        "mega.add_students(21,30,40,36,10,32,27,51,45,15)\n",
        "print('8-----------------------------')\n",
        "print(mega.merge_Department(d1, d2))\n",
        "print('9-----------------------------')\n",
        "print(mega.merge_Department(d3))"
      ]
    }
  ],
  "metadata": {
    "colab": {
      "provenance": []
    },
    "kernelspec": {
      "display_name": "Python 3",
      "name": "python3"
    },
    "language_info": {
      "codemirror_mode": {
        "name": "ipython",
        "version": 3
      },
      "file_extension": ".py",
      "mimetype": "text/x-python",
      "name": "python",
      "nbconvert_exporter": "python",
      "pygments_lexer": "ipython3",
      "version": "3.9.6"
    }
  },
  "nbformat": 4,
  "nbformat_minor": 0
}
